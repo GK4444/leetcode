{
 "cells": [
  {
   "cell_type": "code",
   "execution_count": 26,
   "id": "55ae058a-625c-44ac-a29e-00f6412930f1",
   "metadata": {},
   "outputs": [
    {
     "name": "stdout",
     "output_type": "stream",
     "text": [
      "[6.0]\n",
      "[6.0]\n",
      "[6.0]\n"
     ]
    },
    {
     "data": {
      "text/plain": [
       "1"
      ]
     },
     "execution_count": 26,
     "metadata": {},
     "output_type": "execute_result"
    }
   ],
   "source": [
    "# https://leetcode.com/problems/car-fleet/\n",
    "from collections import defaultdict\n",
    "def carFleet(target, position, speed):\n",
    "    stack = []\n",
    "\n",
    "    # sort lane wrt to positions of the car\n",
    "    pos_speed = [(pos, speed[idx]) for idx, pos in enumerate(position)]\n",
    "    pos_speed = sorted(pos_speed, key = lambda item: item[0])\n",
    "    \n",
    "    for pos, spd in pos_speed[::-1]:\n",
    "        time = (target - pos) / spd\n",
    "        stack.append(time)         \n",
    "        # if time is less than car ahed in stack it will slow down and create a fleet\n",
    "        while len(stack)>=2 and stack[-2]>=stack[-1]:\n",
    "            stack.pop()\n",
    "        # print(stack)\n",
    "    return len(stack)\n",
    "\n",
    "# target=100\n",
    "# position=[0,2,4]\n",
    "# speed=[4,2,1]\n",
    "\n",
    "target=10\n",
    "position=[0,4,2]\n",
    "speed=[2,1,3]\n",
    "\n",
    "\n",
    "# target = 12\n",
    "# position = [10,8,0,5,3]\n",
    "# speed = [2,4,1,1,3]\n",
    "\n",
    "carFleet(target, position, speed)"
   ]
  },
  {
   "cell_type": "code",
   "execution_count": 3,
   "id": "15502b19-ff98-4296-90a3-853a0c01a985",
   "metadata": {},
   "outputs": [
    {
     "data": {
      "text/plain": [
       "[1, 1, 4, 2, 1, 1, 0, 0]"
      ]
     },
     "execution_count": 3,
     "metadata": {},
     "output_type": "execute_result"
    }
   ],
   "source": [
    "# https://leetcode.com/problems/daily-temperatures/\n",
    "def dailyTemperatures(temperatures):\n",
    "    stack = []# [[0,temperatures[0]]] #(index, StackTop) \n",
    "    res = [0] * len(temperatures)\n",
    "    for index, temp in enumerate(temperatures):\n",
    "        if not stack:\n",
    "            stack.append([index,temp])\n",
    "        else:\n",
    "            if temp <= stack[-1][1]:\n",
    "                stack.append([index,temp])\n",
    "            else:\n",
    "                while len(stack)>0 and stack[-1][1] < temp: \n",
    "                    stackIndex, stackTop = stack.pop()\n",
    "                    res[stackIndex] = index - stackIndex\n",
    "                \n",
    "                stack.append([index, temp])\n",
    "    \n",
    "    return res\n",
    "\n",
    "temperatures = [73,74,75,71,69,72,76,73]\n",
    "dailyTemperatures(temperatures)"
   ]
  },
  {
   "cell_type": "code",
   "execution_count": 13,
   "id": "fde8dbe2-8892-4816-bddb-77cfee42e3e3",
   "metadata": {},
   "outputs": [
    {
     "name": "stdout",
     "output_type": "stream",
     "text": [
      "['((()))', '(()())', '(())()', '()(())', '()()()']\n"
     ]
    }
   ],
   "source": [
    "# https://leetcode.com/problems/generate-parentheses/\n",
    "def generateParenthesis(n):\n",
    "    stack = []\n",
    "    res = []\n",
    "\n",
    "    def backtrack(openCount, closedCount):\n",
    "        # print(stack,openCount, closedCount)\n",
    "        # all valid combinations are done when:-\n",
    "        if openCount == closedCount == n:\n",
    "            res.append(''.join(stack))\n",
    "            return\n",
    "\n",
    "        # add ( only when openCount < n\n",
    "        if openCount < n:\n",
    "            stack.append('(')\n",
    "            # openCount+=1\n",
    "            backtrack(openCount+1, closedCount)\n",
    "            stack.pop()\n",
    "            \n",
    "        # add ) only when:-\n",
    "        if closedCount < openCount:\n",
    "            stack.append(')')\n",
    "            # closedCount+=1\n",
    "            backtrack(openCount, closedCount+1)\n",
    "            stack.pop()\n",
    "\n",
    "    backtrack(0,0)\n",
    "    print(res)\n",
    "\n",
    "\n",
    "generateParenthesis(3)"
   ]
  },
  {
   "cell_type": "code",
   "execution_count": 6,
   "id": "7ba76110-c634-48ea-b6e6-ea2ba12b7922",
   "metadata": {},
   "outputs": [
    {
     "name": "stdout",
     "output_type": "stream",
     "text": [
      "['4', 2.6]\n",
      "[6]\n"
     ]
    },
    {
     "data": {
      "text/plain": [
       "6"
      ]
     },
     "execution_count": 6,
     "metadata": {},
     "output_type": "execute_result"
    }
   ],
   "source": [
    "# https://leetcode.com/problems/evaluate-reverse-polish-notation/\n",
    "def evalRPN(tokens):\n",
    "    operators = ['+','-','*','/']\n",
    "    stack = []\n",
    "\n",
    "    for char in tokens:\n",
    "        if char not in operators:\n",
    "            stack.append(char)\n",
    "        else:\n",
    "            num1, num2 = int(stack[-2]), int(stack[-1])\n",
    "            new_num = eval(f'{num1}{char}{num2}')\n",
    "            stack = stack[:-2]\n",
    "            stack.append(new_num)\n",
    "            print(stack)\n",
    "\n",
    "    return stack[0]\n",
    "\n",
    "tokens = [\"4\",\"13\",\"5\",\"/\",\"+\"]\n",
    "evalRPN(tokens)"
   ]
  },
  {
   "cell_type": "code",
   "execution_count": 13,
   "id": "59202241",
   "metadata": {},
   "outputs": [
    {
     "name": "stdout",
     "output_type": "stream",
     "text": [
      "nums:[-4, -1, -1, 0, 1, 2]\n",
      "-4 -1 2\n",
      "-4 -1 2\n",
      "-4 0 2\n",
      "-4 1 2\n",
      "-1 -1 2\n",
      "b: 2\n",
      "a: 3\n",
      "-1 0 2\n",
      "-1 0 1\n",
      "b: 3\n",
      "a: 4\n",
      "0 1 2\n"
     ]
    },
    {
     "data": {
      "text/plain": [
       "[[-1, -1, 2], [-1, 0, 1]]"
      ]
     },
     "execution_count": 13,
     "metadata": {},
     "output_type": "execute_result"
    }
   ],
   "source": [
    "from collections import defaultdict\n",
    "# https://leetcode.com/problems/3sum/description/\n",
    "nums = [-1,0,1,2,-1,-4]\n",
    "# nums = [3,0,-2,-1,1,2]\n",
    "# nums=[0,0,0]\n",
    "# nums=[-1,0,1,2,-1,-4,-2,-3,3,0,4]\n",
    "\n",
    "def threeSum(nums):\n",
    "    target=0\n",
    "    res = []\n",
    "    nums = sorted(nums)\n",
    "    print(f'nums:{nums}')\n",
    "    for idx, num in enumerate(nums):\n",
    "        if idx>0 and num == nums[idx-1]:\n",
    "            continue\n",
    "        lp = idx+1\n",
    "        rp = len(nums)-1\n",
    "        while lp<rp:\n",
    "            print(num,nums[lp],nums[rp])\n",
    "            if num + nums[lp] + nums[rp] == 0:\n",
    "                res.append([num, nums[lp], nums[rp]])\n",
    "                print('b:',lp)#, lp, nums[lp])\n",
    "                lp+=1\n",
    "                while (nums[lp]== nums[lp-1]) and lp<rp:\n",
    "                    lp+=1\n",
    "                print('a:',lp)#, lp, nums[lp])\n",
    "            elif num + nums[lp] + nums[rp] > 0:\n",
    "                rp-=1\n",
    "            else:\n",
    "                lp+=1\n",
    "\n",
    "    return res\n",
    "threeSum(nums)"
   ]
  },
  {
   "cell_type": "code",
   "execution_count": 11,
   "id": "5aa6dd16",
   "metadata": {},
   "outputs": [
    {
     "name": "stdout",
     "output_type": "stream",
     "text": [
      "nums:[-4, -1, -1, 0, 1, 2]\n",
      "0 [-1, -1, 0, 1, 2]\n",
      "0 1 [-1, -1, 0, 1, 2]\n",
      "0 2 [-1, -1, 0, 1, 2]\n",
      "0 3 [-1, -1, 0, 1, 2]\n",
      "0 4 [-1, -1, 0, 1, 2]\n",
      "1 2 [-1, -1, 0, 1, 2]\n",
      "1 3 [-1, -1, 0, 1, 2]\n",
      "1 4 [-1, -1, 0, 1, 2]\n",
      "2 3 [-1, -1, 0, 1, 2]\n",
      "2 4 [-1, -1, 0, 1, 2]\n",
      "3 4 [-1, -1, 0, 1, 2]\n",
      "1 [-4, -1, 0, 1, 2]\n",
      "0 1 [-4, -1, 0, 1, 2]\n",
      "0 2 [-4, -1, 0, 1, 2]\n",
      "0 3 [-4, -1, 0, 1, 2]\n",
      "0 4 [-4, -1, 0, 1, 2]\n",
      "1 2 [-4, -1, 0, 1, 2]\n",
      "1 3 [-4, -1, 0, 1, 2]\n",
      "1 4 [-4, -1, 0, 1, 2]\n",
      "2 4 [-4, -1, 0, 1, 2]\n",
      "2 3 [-4, -1, 0, 1, 2]\n",
      "3 3 [-4, -1, 0, 1, 2]\n",
      "3 4 [-4, -1, 0, 1, 2]\n",
      "2 [-4, -1, 0, 1, 2]\n",
      "0 1 [-4, -1, 0, 1, 2]\n",
      "0 2 [-4, -1, 0, 1, 2]\n",
      "0 3 [-4, -1, 0, 1, 2]\n",
      "0 4 [-4, -1, 0, 1, 2]\n",
      "1 2 [-4, -1, 0, 1, 2]\n",
      "1 3 [-4, -1, 0, 1, 2]\n",
      "1 4 [-4, -1, 0, 1, 2]\n",
      "2 4 [-4, -1, 0, 1, 2]\n",
      "2 3 [-4, -1, 0, 1, 2]\n",
      "3 3 [-4, -1, 0, 1, 2]\n",
      "3 4 [-4, -1, 0, 1, 2]\n",
      "3 [-4, -1, -1, 1, 2]\n",
      "0 1 [-4, -1, -1, 1, 2]\n",
      "0 2 [-4, -1, -1, 1, 2]\n",
      "0 3 [-4, -1, -1, 1, 2]\n",
      "0 4 [-4, -1, -1, 1, 2]\n",
      "1 2 [-4, -1, -1, 1, 2]\n",
      "1 3 [-4, -1, -1, 1, 2]\n",
      "2 3 [-4, -1, -1, 1, 2]\n",
      "3 3 [-4, -1, -1, 1, 2]\n",
      "2 3 [-4, -1, -1, 1, 2]\n",
      "3 3 [-4, -1, -1, 1, 2]\n",
      "3 4 [-4, -1, -1, 1, 2]\n",
      "4 [-4, -1, -1, 0, 2]\n",
      "0 1 [-4, -1, -1, 0, 2]\n",
      "0 2 [-4, -1, -1, 0, 2]\n",
      "0 3 [-4, -1, -1, 0, 2]\n",
      "0 4 [-4, -1, -1, 0, 2]\n",
      "1 2 [-4, -1, -1, 0, 2]\n",
      "1 3 [-4, -1, -1, 0, 2]\n",
      "2 3 [-4, -1, -1, 0, 2]\n",
      "3 3 [-4, -1, -1, 0, 2]\n",
      "2 3 [-4, -1, -1, 0, 2]\n",
      "3 3 [-4, -1, -1, 0, 2]\n",
      "3 4 [-4, -1, -1, 0, 2]\n",
      "5 [-4, -1, -1, 0, 1]\n",
      "0 1 [-4, -1, -1, 0, 1]\n",
      "0 2 [-4, -1, -1, 0, 1]\n",
      "0 3 [-4, -1, -1, 0, 1]\n",
      "0 4 [-4, -1, -1, 0, 1]\n",
      "1 2 [-4, -1, -1, 0, 1]\n",
      "2 2 [-4, -1, -1, 0, 1]\n",
      "3 2 [-4, -1, -1, 0, 1]\n",
      "2 3 [-4, -1, -1, 0, 1]\n",
      "3 4 [-4, -1, -1, 0, 1]\n"
     ]
    },
    {
     "data": {
      "text/plain": [
       "[[-1, -1, 2], [-1, 0, 1]]"
      ]
     },
     "execution_count": 11,
     "metadata": {},
     "output_type": "execute_result"
    }
   ],
   "source": [
    "# https://leetcode.com/problems/3sum/description/\n",
    "nums = [-1,0,1,2,-1,-4]\n",
    "# nums = [3,0,-2,-1,1,2]\n",
    "# nums=[0,0,0]\n",
    "\n",
    "def threeSum(nums):\n",
    "    target=0\n",
    "    res = []\n",
    "    lp = 0\n",
    "    nums = sorted(nums)\n",
    "    print(f'nums:{nums}')\n",
    "    for idx in range(len(nums)):\n",
    "        num = nums[idx]\n",
    "        revised_target = 0 - num\n",
    "        revised_nums = nums[:idx] + nums[idx+1:]\n",
    "        print(idx, revised_nums)\n",
    "        for lp in range(len(revised_nums)):\n",
    "            rp = lp+1\n",
    "            while rp<len(revised_nums):\n",
    "                print(lp,rp,revised_nums)\n",
    "                if revised_nums[lp] + revised_nums[rp] == revised_target:\n",
    "                    target_arr = sorted([num, revised_nums[lp], revised_nums[rp]])\n",
    "                    if target_arr not in res:\n",
    "                        res.append(target_arr)\n",
    "                    lp+=1\n",
    "                elif revised_nums[lp] + revised_nums[rp] > revised_target:\n",
    "        #                 print(revised_nums[lp] , revised_nums[rp] ,revised_target)\n",
    "                    break\n",
    "                else:\n",
    "                    rp+=1\n",
    "        #             lp+=1\n",
    "    return res\n",
    "\n",
    "threeSum(nums)"
   ]
  },
  {
   "cell_type": "code",
   "execution_count": 7,
   "id": "079371c1",
   "metadata": {},
   "outputs": [
    {
     "data": {
      "text/plain": [
       "[1, 3]"
      ]
     },
     "execution_count": 7,
     "metadata": {},
     "output_type": "execute_result"
    }
   ],
   "source": [
    "#https://leetcode.com/problems/two-sum-ii-input-array-is-sorted/\n",
    "# numbers,target=[2,7,11,15], 9\n",
    "numbers, target = [2,3,4], 6\n",
    "\n",
    "def twoSum(numbers, target):\n",
    "    lp, rp = 0, len(numbers)-1\n",
    "\n",
    "    while lp < rp:\n",
    "        if numbers[lp] + numbers[rp] == target:\n",
    "            return [lp+1, rp+1]\n",
    "        elif numbers[lp] + numbers[rp] > target:\n",
    "            rp-=1\n",
    "        else:\n",
    "            lp+=1\n",
    "\n",
    "                \n",
    "twoSum(numbers, target)"
   ]
  },
  {
   "cell_type": "code",
   "execution_count": 9,
   "id": "3840d7ea",
   "metadata": {},
   "outputs": [
    {
     "name": "stdout",
     "output_type": "stream",
     "text": [
      "['6#neet', 'co%de']\n",
      "6#6#neet5#co%de\n"
     ]
    },
    {
     "data": {
      "text/plain": [
       "['6#neet', 'co%de']"
      ]
     },
     "execution_count": 9,
     "metadata": {},
     "output_type": "execute_result"
    }
   ],
   "source": [
    "# https://www.youtube.com/watch?v=B1k_sxOSgv8&ab_channel=NeetCode\n",
    "input1 = ['6#neet', 'co%de']\n",
    "# input1 = ['qwertyuiop','zxcvbnm']\n",
    "\n",
    "def encode(input1):\n",
    "    encoded_string = []\n",
    "    for word in input1:\n",
    "        len_word = len(word)\n",
    "        encoded_string.append(f'{len_word}#{word}')\n",
    "    return ''.join(encoded_string)\n",
    "\n",
    "def decode(encoded_input):\n",
    "    decoded_list = []\n",
    "    ptr = 0\n",
    "    while ptr<len(encoded_input):\n",
    "        delimiter_ptr = ptr\n",
    "        while encoded_input[delimiter_ptr] != '#':\n",
    "           delimiter_ptr+=1\n",
    "        len_word = int(encoded_input[ptr:delimiter_ptr])\n",
    "\n",
    "        decoded_input = encoded_input[delimiter_ptr+1:delimiter_ptr+1+len_word]\n",
    "        decoded_list.append(decoded_input)\n",
    "        ptr = delimiter_ptr+1+len_word\n",
    "#         print(f'encoded_input:{encoded_input}; decoded_list:{decoded_list}')\n",
    "        \n",
    "    return decoded_list\n",
    "\n",
    "print(input1)\n",
    "enInput = encode(input1)\n",
    "print(enInput)\n",
    "decode(enInput)"
   ]
  },
  {
   "cell_type": "code",
   "execution_count": 8,
   "id": "a3a871ce",
   "metadata": {},
   "outputs": [
    {
     "name": "stdout",
     "output_type": "stream",
     "text": [
      "0\n",
      "0\n",
      "0\n",
      "0\n",
      "7\n",
      "7\n",
      "7\n",
      "7\n",
      "7\n",
      "7\n",
      "7\n"
     ]
    }
   ],
   "source": [
    "# https://leetcode.com/problems/longest-consecutive-sequence/\n",
    "# nums = [100,4,200,1,3,2]\n",
    "nums=[9,1,4,7,3,-1,0,5,8,-1,6]\n",
    "\n",
    "dd = {k:set() for k in nums}\n",
    "# dd\n",
    "cnt=0\n",
    "for num in nums:\n",
    "    if num-1 not in dd.keys():\n",
    "        i=1\n",
    "        while (num+i) in dd.keys():\n",
    "            i+=1\n",
    "        cnt=max(cnt, i)\n",
    "    else:\n",
    "        cnt=max(0,cnt)\n",
    "    print(cnt)"
   ]
  },
  {
   "cell_type": "code",
   "execution_count": 58,
   "id": "4a15b522",
   "metadata": {},
   "outputs": [
    {
     "name": "stdout",
     "output_type": "stream",
     "text": [
      "False\n"
     ]
    },
    {
     "data": {
      "text/plain": [
       "defaultdict(set,\n",
       "            {(0, 0): {'3', '6', '8', '9'},\n",
       "             (0, 1): {'1', '5', '7', '9'},\n",
       "             (0, 2): {'6'},\n",
       "             (1, 0): {'4', '7', '8'},\n",
       "             (1, 1): {'2', '3', '6', '8'},\n",
       "             (1, 2): {'1', '3', '6'},\n",
       "             (2, 0): {'6'},\n",
       "             (2, 2): {'2', '5', '7', '8', '9'},\n",
       "             (2, 1): {'1', '4', '8', '9'}})"
      ]
     },
     "execution_count": 58,
     "metadata": {},
     "output_type": "execute_result"
    }
   ],
   "source": [
    "# https://leetcode.com/problems/valid-sudoku/\n",
    "board = [[\"8\",\"3\",\".\",\".\",\"7\",\".\",\".\",\".\",\".\"],[\"6\",\".\",\".\",\"1\",\"9\",\"5\",\".\",\".\",\".\"],[\".\",\"9\",\"8\",\".\",\".\",\".\",\".\",\"6\",\".\"],[\"8\",\".\",\".\",\".\",\"6\",\".\",\".\",\".\",\"3\"],[\"4\",\".\",\".\",\"8\",\".\",\"3\",\".\",\".\",\"1\"],[\"7\",\".\",\".\",\".\",\"2\",\".\",\".\",\".\",\"6\"],[\".\",\"6\",\".\",\".\",\".\",\".\",\"2\",\"8\",\".\"],[\".\",\".\",\".\",\"4\",\"1\",\"9\",\".\",\".\",\"5\"],[\".\",\".\",\".\",\".\",\"8\",\".\",\".\",\"7\",\"9\"]]\n",
    "\n",
    "rows_dict = defaultdict(set)\n",
    "cols_dict = defaultdict(set)\n",
    "subBox_dict = defaultdict(set) # key = (row//3, col//3)\n",
    "# subboxes = |0,0|0,1|0,2|\n",
    "#            |1,0|1,1|1,2|\n",
    "#            |2,0|2,2|2,2|\n",
    "\n",
    "for row in range(9):\n",
    "    for col in range(9):\n",
    "        if board[row][col]==\".\":\n",
    "            continue\n",
    "\n",
    "        if (board[row][col] in rows_dict[row] or\n",
    "            board[row][col] in cols_dict[col] or\n",
    "            board[row][col] in subBox_dict[(row//3, col//3)]):\n",
    "            print('False')\n",
    "\n",
    "        rows_dict[row] = board[row][col]\n",
    "        cols_dict[col] = board[row][col]\n",
    "        subBox_dict[(row//3, col//3)].add(board[row][col])\n",
    "        \n",
    "subBox_dict"
   ]
  },
  {
   "cell_type": "code",
   "execution_count": 45,
   "id": "b266643c",
   "metadata": {},
   "outputs": [
    {
     "name": "stdout",
     "output_type": "stream",
     "text": [
      "[1, 1, 2, 6]\n",
      "[24, 12, 4, 1]\n",
      "[24, 12, 8, 6]\n"
     ]
    }
   ],
   "source": [
    "import numpy as np\n",
    "nums=[1,2,3,4]\n",
    "res = []\n",
    "\n",
    "res = []\n",
    "        # for idx in range(len(nums)):\n",
    "        #     nums2 = nums[:idx] + nums[idx+1:]\n",
    "        #     res.append(np.prod(nums2))\n",
    "\n",
    "\n",
    "dp_left = [1]*len(nums)\n",
    "for idx in range(1, len(dp_left)):\n",
    "    dp_left[idx] = nums[idx-1] * dp_left[idx-1]\n",
    "print(dp_left)\n",
    "\n",
    "dp_right = [1]*len(nums)\n",
    "for idx in range(len(nums)-2, -1, -1):\n",
    "    dp_right[idx] = nums[idx+1] * dp_right[idx+1] \n",
    "print(dp_right)\n",
    "\n",
    "for idx in range(len(nums)):\n",
    "    res.append(dp_left[idx]*dp_right[idx])\n",
    "print(res)"
   ]
  },
  {
   "cell_type": "code",
   "execution_count": 21,
   "id": "5911006a",
   "metadata": {},
   "outputs": [
    {
     "data": {
      "text/plain": [
       "{0: 3, 3: 2, 1: 1}"
      ]
     },
     "execution_count": 21,
     "metadata": {},
     "output_type": "execute_result"
    }
   ],
   "source": [
    "from collections import Counter\n",
    "nums=[3,0,1,0,0,3]\n",
    "k=1\n",
    "counts = Counter(nums)\n",
    "\n",
    "count_dict = dict(counts)\n",
    "count_dict = dict(sorted(count_dict.items(), key = lambda item:item[1], reverse=True))\n",
    "count_dict"
   ]
  },
  {
   "cell_type": "code",
   "execution_count": 15,
   "id": "37ad126d",
   "metadata": {},
   "outputs": [
    {
     "data": {
      "text/plain": [
       "[(0, 2), (1, 1), (3, 1)]"
      ]
     },
     "execution_count": 15,
     "metadata": {},
     "output_type": "execute_result"
    }
   ],
   "source": [
    "sorted(count_dict.items())"
   ]
  },
  {
   "cell_type": "code",
   "execution_count": 6,
   "id": "40070f34",
   "metadata": {},
   "outputs": [
    {
     "data": {
      "text/plain": [
       "[['eat', 'tea', 'ate'], ['tan', 'nat'], ['bat']]"
      ]
     },
     "execution_count": 6,
     "metadata": {},
     "output_type": "execute_result"
    }
   ],
   "source": [
    "from collections import defaultdict\n",
    "# strs = [\"nozzle\",\"punjabi\",\"waterlogged\",\"imprison\",\"crux\",\"numismatists\",\"sultans\",\"rambles\",\"deprecating\",\"aware\",\"outfield\",\"marlborough\",\"guardrooms\",\"roast\",\"wattage\",\"shortcuts\",\"confidential\",\"reprint\",\"foxtrot\",\"dispossession\",\"floodgate\",\"unfriendliest\",\"semimonthlies\",\"dwellers\",\"walkways\",\"wastrels\",\"dippers\",\"engrossing\",\"undertakings\",\"unforeseen\",\"oscilloscopes\",\"pioneers\",\"geller\",\"neglects\",\"cultivates\",\"mantegna\",\"elicit\",\"couriered\",\"shielded\",\"shrew\",\"heartening\",\"lucks\",\"teammates\",\"jewishness\",\"documentaries\",\"subliming\",\"sultan\",\"redo\",\"recopy\",\"flippancy\",\"rothko\",\"conductor\",\"e\",\"carolingian\",\"outmanoeuvres\",\"gewgaw\",\"saki\",\"sarah\",\"snooping\",\"hakka\",\"highness\",\"mewling\",\"spender\",\"blockhead\",\"detonated\",\"cognac\",\"congaing\",\"prissy\",\"loathes\",\"bluebell\",\"involuntary\",\"aping\",\"sadly\",\"jiving\",\"buffalo\",\"chided\",\"instalment\",\"boon\",\"ashikaga\",\"enigmas\",\"recommenced\",\"snell\",\"parsley\",\"buns\",\"abracadabra\",\"forewomen\",\"persecuted\",\"carsick\",\"janitorial\",\"neonate\",\"expeditiously\",\"porterhouse\",\"bussed\",\"charm\",\"tinseled\",\"pencils\",\"inherits\",\"crew\",\"estimate\",\"blacktop\",\"mythologists\",\"essequibo\",\"dusky\",\"fends\",\"pithily\",\"positively\",\"participants\",\"brew\",\"tows\",\"pentathlon\",\"misdiagnoses\",\"paraphrase\",\"telephoning\",\"engining\",\"anglo\",\"duisburg\",\"shorthorns\",\"physical\",\"enquiries\",\"grudging\",\"floodlit\",\"safflower\",\"asphalts\",\"representing\",\"airbrush\",\"bedevilling\",\"fulminations\",\"peacefuller\",\"hurl\",\"unequalled\",\"wiser\",\"vinson\",\"paglia\",\"doggones\",\"optimist\",\"rulering\",\"katmandu\",\"flutists\",\"sterling\",\"oregonians\",\"boosts\",\"slaver\",\"straightedges\",\"stendhal\",\"defaulters\",\"stylize\",\"chucking\",\"adulterate\",\"partaking\",\"omelettes\",\"monochrome\",\"bitched\",\"foxhound\",\"tapir\",\"vocalizing\",\"manifolding\",\"northerner\",\"ineptly\",\"dunce\",\"matchbook\",\"locutions\",\"docudrama\",\"sinkers\",\"paralegal\",\"sip\",\"maliced\",\"lechers\",\"zippy\",\"tillman\",\"penknives\",\"olympias\",\"designates\",\"mossiest\",\"leanne\",\"lavishing\",\"understate\",\"underwriting\",\"showered\",\"belittle\",\"propounded\",\"gristly\",\"toxicity\",\"trike\",\"baudelaire\",\"sheers\",\"annmarie\",\"poultices\",\"therapeutics\",\"inputs\",\"bailed\",\"minutest\",\"pynchon\",\"jinx\",\"jackets\",\"subsections\",\"harmonizes\",\"caesareans\",\"freshened\",\"haring\",\"disruption\",\"buckle\",\"per\",\"pined\",\"solemnity\",\"recombined\",\"chamber\",\"tangling\",\"pitiful\",\"authoritarians\",\"oort\",\"ingratiate\",\"refreshed\",\"bavarian\",\"generically\",\"rescheduled\",\"typewritten\",\"level\",\"magnetism\",\"socialists\",\"oligocene\",\"resentful\",\"lambast\",\"counteroffer\",\"firefight\",\"phil\",\"attenuates\",\"teary\",\"demarcated\",\"moralities\",\"electrified\",\"pettiness\",\"unpacking\",\"hungary\",\"heavies\",\"tenancies\",\"tirade\",\"solaria\",\"scarcity\",\"prettiest\",\"carrillo\",\"yodel\",\"cantilever\",\"ridiculously\",\"tagalog\",\"schismatics\",\"ossification\",\"hezbollah\",\"downscaling\",\"calking\",\"tapped\",\"girl\",\"alba\",\"lavishness\",\"stepparents\",\"integrator\",\"overact\",\"father\",\"fobbing\",\"pb\",\"require\",\"toes\",\"sweats\",\"prisoners\",\"mbabane\",\"hatch\",\"motleyer\",\"worlds\",\"decentralize\",\"ingrained\",\"shekels\",\"directorship\",\"negotiating\",\"hiawatha\",\"busying\",\"reciprocate\",\"spinsterhood\",\"supervened\",\"scrimmage\",\"decolonized\",\"buildups\",\"sedative\",\"swats\",\"despotic\",\"driblets\",\"redoubting\",\"stoic\",\"xeroxes\",\"satellited\",\"exteriors\",\"deregulates\",\"lawful\",\"flunk\",\"broached\",\"energetics\",\"moodily\",\"popinjays\",\"shoshone\",\"misleads\",\"abduct\",\"nonevent\",\"flees\",\"harry\",\"cleverness\",\"manipulative\",\"shoplifts\",\"tom\",\"junk\",\"poniard\",\"transmute\",\"stricter\",\"trochees\",\"snack\",\"relations\",\"edger\",\"culminate\",\"implication\",\"carjacked\",\"kissers\",\"federate\",\"offsetting\",\"sutures\",\"wakened\",\"axis\",\"boxcars\",\"grinds\",\"scenting\",\"cordoba\",\"lumberyards\",\"incendiary\",\"antiphonal\",\"decipherable\",\"gilliam\",\"redecorates\",\"plum\",\"nitpickers\",\"linefeed\",\"awakes\",\"embittering\",\"spewing\",\"annul\",\"filial\",\"scarlet\",\"connors\",\"sanctum\",\"scotsman\",\"isobar\",\"activity\",\"overthrowing\",\"unseasoned\",\"tarantulae\",\"outtake\",\"diego\",\"mars\",\"stunted\",\"hunted\",\"sublimation\",\"barbadian\",\"barbarisms\",\"epidemic\",\"assesses\",\"imposture\",\"freaks\",\"detroit\",\"bloodiest\",\"avails\",\"prenatal\",\"connecticut\",\"guardsmen\",\"betwixt\",\"windsock\",\"neutralized\",\"psychoanalysis\",\"rubberized\",\"overproduces\",\"narcissism\",\"tallow\",\"cringes\",\"resinous\",\"paintbrushes\",\"duality\",\"paints\",\"deactivated\",\"expertly\",\"speedsters\",\"coward\",\"bass\",\"psychiatrist\",\"curies\",\"betrays\",\"bubble\",\"mellow\",\"showy\",\"retarding\",\"radishes\",\"coy\",\"unreservedly\",\"larks\",\"apportioned\",\"flaccid\",\"relabelling\",\"alphabeted\",\"anointment\",\"helms\",\"gillian\",\"trophying\",\"breakage\",\"underbrush\",\"directest\",\"wingtips\",\"pretence\",\"preshrink\",\"remarries\",\"addle\",\"brouhaha\",\"mobbing\",\"g\",\"dings\",\"gains\",\"stockade\",\"ouch\",\"particulates\",\"listens\",\"habituation\",\"kill\",\"crouped\",\"hyperbolae\",\"hutching\",\"stoney\",\"rightness\",\"davids\",\"questioned\",\"ethiopians\",\"courtliness\",\"delays\",\"navahos\",\"devils\",\"keeling\",\"accelerators\",\"investigator\",\"spindling\",\"illegality\",\"extremer\",\"revlon\",\"purity\",\"bradly\",\"jut\",\"machs\",\"liquidated\",\"informant\",\"smartly\",\"disfigure\",\"parliaments\",\"croup\",\"teletypes\",\"impression\",\"trainee\",\"implications\",\"embed\",\"podiatrists\",\"jewelled\",\"brokenhearted\",\"spaceman\",\"unsteadier\",\"kitchen\",\"twirling\",\"conurbations\",\"pygmies\",\"lourdes\",\"watertight\",\"reassessing\",\"dempsey\",\"matriarch\",\"alas\",\"abscissae\",\"decanter\",\"commentated\",\"sandy\",\"idler\",\"soybean\",\"cutoff\",\"dictate\",\"credibility\",\"indeterminable\",\"release\",\"blank\",\"curitiba\",\"pericardia\",\"probably\",\"indisposition\",\"hesitantly\",\"duff\",\"ratty\",\"derivative\",\"decals\",\"explication\",\"cockier\",\"monoxides\",\"hyperventilate\",\"genially\",\"polluter\",\"divan\",\"may\",\"convalesces\",\"morpheme\",\"pupa\",\"prospered\",\"tagging\",\"nerdier\",\"detached\",\"spearing\",\"hilbert\",\"russeted\",\"amanuensis\",\"periwinkles\",\"jujube\",\"guarantors\",\"premises\",\"descanting\",\"baned\",\"deviance\",\"sidearms\",\"lamentable\",\"barristers\",\"climes\",\"succulence\",\"mauve\",\"oceanographers\",\"migraine\",\"bisexual\",\"peruvians\",\"fatheads\",\"parsimony\",\"pilaf\",\"portly\",\"conniving\",\"insidiously\",\"inventing\",\"constabulary\",\"cling\",\"stunting\",\"accessioned\",\"deadliness\",\"overthrow\",\"expectorant\",\"agamemnon\",\"blindfold\",\"striker\",\"shrugging\",\"jibes\",\"appropriateness\",\"annihilates\",\"hairs\",\"proselytes\",\"goads\",\"rankling\",\"predominated\",\"hart\",\"enemies\",\"culpability\",\"drank\",\"martinets\",\"prospering\",\"dominick\",\"complemented\",\"invention\",\"foolscap\",\"tolerances\",\"lorelei\",\"profits\",\"awarer\",\"ungodlier\",\"victoriously\",\"mistrusts\",\"princes\",\"drudge\",\"moderator\",\"transversed\",\"disco\",\"japed\",\"loomed\",\"incense\",\"ponds\",\"gumbel\",\"disarranges\",\"coaxes\",\"technology\",\"hyde\",\"debentures\",\"confidantes\",\"hankered\",\"savant\",\"styes\",\"croupy\",\"unapproachable\",\"cisterns\",\"unto\",\"duds\",\"conglomerating\",\"clio\",\"negroid\",\"looked\",\"methodism\",\"hilario\",\"balloon\",\"thesauruses\",\"integuments\",\"thermometer\",\"slacks\",\"wigwagging\",\"gaping\",\"incensed\",\"misquotes\",\"chocking\",\"patrols\",\"upcoming\",\"insists\",\"livings\",\"thoth\",\"uselessness\",\"vibrated\",\"potluck\",\"starboard\",\"uniquer\",\"boone\",\"scintillates\",\"darker\",\"massey\",\"arbitrariness\",\"miniaturized\",\"rousseau\",\"chiffon\",\"consortia\",\"coral\",\"finesses\",\"half\",\"biked\",\"unlikeliest\",\"hilarious\",\"acrid\",\"twinkles\",\"galileo\",\"outsmarted\",\"ostentation\",\"cradle\",\"frats\",\"misidentifies\",\"uncleaner\",\"bacardi\",\"smoothest\",\"antwan\",\"warren\",\"jingling\",\"stocks\",\"daumier\",\"paranoid\",\"pantaloons\",\"dishing\",\"receive\",\"underpays\",\"kane\",\"variation\",\"beset\",\"disobliged\",\"dreadlocks\",\"psychics\",\"twofers\",\"lieutenants\",\"pebbling\",\"interposes\",\"shingles\",\"profanes\",\"machining\",\"dysfunctions\",\"wolfram\",\"brut\",\"nebraskan\",\"truculently\",\"copeland\",\"devonian\",\"fuller\",\"silvia\",\"philosophers\",\"cali\",\"adores\",\"disquiet\",\"savvies\",\"minatory\",\"blooms\",\"radiotelephones\",\"paradoxically\",\"competitions\",\"gandhi\",\"weddell\",\"occludes\",\"retracing\",\"kari\",\"dead\",\"lagoons\",\"menfolk\",\"abundant\",\"enacts\",\"conferences\",\"procreation\",\"steadier\",\"cols\",\"rabble\",\"unquestioned\",\"stupefying\",\"whodunit\",\"dizzier\",\"paula\",\"riposte\",\"elixirs\",\"discontented\",\"zimbabweans\",\"assemblage\",\"unsalted\",\"genders\",\"caldwell\",\"pulleys\",\"pureness\",\"kingston\",\"vests\",\"hearken\",\"abuses\",\"scull\",\"hussar\",\"solace\",\"gondwanaland\",\"surfacing\",\"vivienne\",\"subculture\",\"reciprocal\",\"expediencies\",\"projectiles\",\"segregationist\",\"prickle\",\"pooped\",\"telecommutes\",\"axes\",\"scenery\",\"peppery\",\"parenthesizing\",\"checked\",\"trademarked\",\"unreasonable\",\"curtly\",\"dynamically\",\"vulcanize\",\"airtight\",\"blotch\",\"edmund\",\"stoicism\",\"scrambles\",\"whirled\",\"chasing\",\"millstones\",\"helplessly\",\"permalloy\",\"remanding\",\"duplicate\",\"broadsided\",\"readjustment\",\"buggers\",\"quaked\",\"grapples\",\"democrats\",\"landfalls\",\"apprehensively\",\"turmoiling\",\"railing\",\"lothario\",\"modishly\",\"faggoted\",\"deflecting\",\"interment\",\"dodo\",\"recreants\",\"baywatch\",\"frescoes\",\"temblor\",\"brigade\",\"handgun\",\"bradstreet\",\"caspar\",\"godsend\",\"cochleae\",\"queered\",\"unevenness\",\"hairnet\",\"millimeters\",\"flawless\",\"plumbing\",\"disciplinarian\",\"orbiting\",\"foothill\",\"serviettes\",\"peseta\",\"windmills\",\"myrdal\",\"provides\",\"slowdowns\",\"clouting\",\"gainsays\",\"dishpans\",\"mediates\",\"weaker\",\"shoestrings\",\"gerunds\",\"potsdam\",\"chips\",\"disqualifications\",\"focus\",\"quarry\",\"dwarfs\",\"laurels\",\"coverall\",\"reconsidered\",\"exploded\",\"distending\",\"bronzes\",\"apollonian\",\"sweeper\",\"couperin\",\"gourmets\",\"irreconcilable\",\"goldbricking\",\"emotes\",\"demilitarizes\",\"lambkin\",\"grouper\",\"anyways\",\"hugs\",\"quizzed\",\"misstatement\",\"spectrums\",\"frigates\",\"plenipotentiaries\",\"parasites\",\"tacitly\",\"savvying\",\"treks\",\"dissociating\",\"departing\",\"resins\",\"psychiatric\",\"tablespoonfuls\",\"aught\",\"makeup\",\"copping\",\"interwove\",\"selling\",\"fantasize\",\"flamingos\",\"smolders\",\"stript\",\"laverne\",\"extremely\",\"chattering\",\"imminent\",\"vaulting\",\"slackly\",\"pasteurizes\",\"goody\",\"pearls\",\"conceptualization\",\"fins\",\"brogues\",\"muskogee\",\"naziism\",\"stromboli\",\"sunflower\",\"tosca\",\"luridness\",\"booing\",\"zaniness\",\"creel\",\"bootblacks\",\"attendants\",\"swordplay\",\"impinging\",\"premiere\",\"sedimentation\",\"traffickers\",\"carrel\",\"observatories\",\"telltales\",\"cuckolded\",\"ampler\",\"alternately\",\"shovel\",\"tasmania\",\"whooping\",\"methodologies\",\"pickling\",\"overseer\",\"sunnier\",\"sanchez\",\"supervening\",\"viscus\",\"cramped\",\"santayana\",\"utopias\",\"intimated\",\"pianists\",\"computerizing\",\"interpolating\",\"reggie\",\"horseshoe\",\"preeminent\",\"qantas\",\"standish\",\"flagpoles\",\"thievery\",\"admiring\",\"palefaces\",\"overflows\",\"gaea\",\"monique\",\"sheepskin\",\"bestiaries\",\"beethoven\",\"fleming\",\"convalescing\",\"moldier\",\"snobby\",\"jewry\",\"hoodwinking\",\"hope\",\"henri\",\"listlessly\",\"doggoning\",\"anointed\",\"notable\",\"talented\",\"uric\",\"towards\",\"flue\",\"arbitrated\",\"ingredients\",\"academy\",\"clutches\",\"novelle\",\"parallelling\",\"confabbed\",\"synthesized\",\"frontally\",\"underexpose\",\"ulcerates\",\"injuring\",\"stimulant\",\"catalytic\",\"ogle\",\"throatily\",\"ions\",\"chores\",\"spyglasses\",\"metabolic\",\"statesmanlike\",\"tingles\",\"ossifies\",\"forge\",\"coiffing\",\"transepts\",\"autopsy\",\"colorfast\",\"winery\",\"procyon\",\"sequesters\",\"amended\",\"putted\",\"huff\",\"fliers\",\"harpooning\",\"protecting\",\"shipboard\",\"dwindled\",\"collations\",\"stonewalls\",\"criticism\",\"thigh\",\"quarried\",\"knelling\",\"knitted\",\"redeemable\",\"berm\",\"seventy\",\"misguides\",\"schlemiel\",\"pawn\",\"ineligibility\",\"lathe\",\"bosses\",\"temperance\",\"haywire\",\"everglade\",\"confections\",\"gruelings\",\"mindful\",\"paracelsus\",\"quarreled\",\"furtively\",\"airdropped\",\"clodhopper\",\"transmuting\",\"whilst\",\"moldavia\",\"exploiting\",\"chicories\",\"unrolling\",\"shorthand\",\"antigens\",\"satirically\",\"earner\",\"primmer\",\"jolly\",\"perch\",\"nonplussing\",\"circulars\",\"hanks\",\"fingerprinted\",\"syllogism\",\"adulate\",\"nominally\",\"telecasted\",\"quelled\",\"accustoming\",\"backslide\",\"culminates\",\"spiraled\",\"compactor\",\"gatorade\",\"cornballs\",\"investor\",\"cupboards\",\"deign\",\"induced\",\"ewe\",\"snoopers\",\"supposed\",\"glitters\",\"overlie\",\"ambassadorial\",\"chancel\",\"accumulations\",\"strictest\",\"thalami\",\"shops\",\"moos\",\"applicators\",\"corncob\",\"dona\",\"apostrophes\",\"kibitzes\",\"rinses\",\"kemerovo\",\"confide\",\"clemenceau\",\"centenarians\",\"memorialized\",\"windburn\",\"nominate\",\"obscene\",\"equivocations\",\"arts\",\"karloff\",\"projected\",\"scorned\",\"limping\",\"lava\",\"sanitaria\",\"clementine\",\"brandies\",\"unionize\",\"compacted\",\"griming\",\"trilogies\",\"babysit\",\"congas\",\"glittery\",\"pimientos\",\"phototypesetter\",\"multivitamin\",\"carbohydrates\",\"lode\",\"photographs\",\"iniquity\",\"micrometer\",\"freemasonry\",\"burros\",\"marchers\",\"percentiles\",\"werewolf\",\"weightlifting\",\"valedictories\",\"gacrux\",\"senselessly\",\"stoppage\",\"monolithic\",\"handy\",\"overspent\",\"nymphomaniac\",\"seasick\",\"misogynistic\",\"coltrane\",\"coeval\",\"inversion\",\"darkliest\",\"landfills\",\"barbers\",\"suppurate\",\"cavern\",\"submerge\",\"illumination\",\"hesitates\",\"lashes\",\"covenants\",\"thomism\",\"aneurism\",\"disappointed\",\"gnarls\",\"sprint\",\"abash\",\"frightens\",\"undoings\",\"pa\",\"helicopters\",\"reexamines\",\"vassal\",\"blessing\",\"devaluation\",\"purports\",\"urinals\",\"adjudged\",\"garaging\",\"pacific\",\"infomercials\",\"whitewashed\",\"fawned\",\"baptisms\",\"concede\",\"cornflakes\",\"fostered\",\"clewed\",\"tiller\",\"dalmatians\",\"signification\",\"boneless\",\"chunkiness\",\"omar\",\"paramedicals\",\"professor\",\"unionizing\",\"scripted\",\"anchors\",\"tabloid\",\"alton\",\"redrafted\",\"reflexive\",\"luddite\",\"lamb\",\"bidirectional\",\"seaports\",\"christendom\",\"gets\",\"chaperoning\",\"tchaikovsky\",\"wasters\",\"dioxin\",\"nuke\",\"apologized\",\"queasily\",\"fujiwara\",\"prearranges\",\"abdul\",\"upraising\",\"sparklers\",\"signposting\",\"comparison\",\"sb\",\"cherokees\",\"ungentlemanly\",\"typing\",\"waisted\",\"sputter\",\"biographers\",\"waltz\",\"stanches\",\"upbringings\",\"smithereens\",\"tutor\",\"young\",\"eloy\",\"sourdoughs\",\"clingier\",\"hoisting\",\"blazon\",\"homosexuality\",\"lorries\",\"kippering\",\"abacus\",\"specks\",\"congressional\",\"auditing\",\"lash\",\"eternal\",\"carve\",\"facade\",\"defrauds\",\"neighbored\",\"musses\",\"dismount\",\"lope\",\"lawbreaker\",\"deed\",\"japes\",\"repeal\",\"factorization\",\"impetuosity\",\"sitters\",\"disorganizing\",\"fussing\",\"vale\",\"epitomized\",\"executrixes\",\"deprivations\",\"woodcarvings\",\"miscalls\",\"skateboard\",\"pedicured\",\"cloakroom\",\"vassaled\",\"innumerable\",\"knelt\",\"cellulose\",\"beams\",\"uniform\",\"metatarsals\",\"meteorologist\",\"column\",\"burnishes\",\"dentists\",\"quids\",\"toasts\",\"tableland\",\"archivist\",\"gladiolas\",\"replica\",\"lording\",\"viewed\",\"polisher\",\"trooping\",\"indistinctly\",\"resisters\",\"flycatchers\",\"toughed\",\"regor\",\"insolvent\",\"ninnies\",\"truckled\",\"birthplaces\",\"telescopic\",\"abelson\",\"puritanism\",\"leanings\",\"disturbingly\",\"transmission\",\"mortify\",\"upshot\",\"newlywed\",\"adam\",\"ballplayer\",\"lockwood\",\"quirking\",\"blocs\",\"theatre\",\"palliatives\",\"smudges\",\"marvelled\",\"ramble\",\"offside\",\"indissoluble\",\"droplets\",\"fencing\",\"hubbard\",\"estimation\",\"incorrect\",\"malarial\",\"confucian\",\"games\",\"sacraments\",\"trivets\",\"gammas\",\"nastiest\",\"merrymakers\",\"sealskin\",\"overkilled\",\"bosser\",\"strafe\",\"exclusives\",\"bouldered\",\"antiwar\",\"guitarists\",\"jerry\",\"earthly\",\"oscilloscope\",\"edmonton\",\"merger\",\"laminated\",\"surmountable\",\"casually\",\"backspaced\",\"charcoals\",\"overheating\",\"caramel\",\"oldened\",\"asterisked\",\"tun\",\"peafowl\",\"purplest\",\"skippering\",\"prep\",\"congregating\",\"glaringly\",\"crummiest\",\"noreen\",\"bromide\",\"nomenclatures\",\"kristin\",\"purportedly\",\"vamoosing\",\"busybody\",\"crucify\",\"capote\",\"milliners\",\"veils\",\"windsurf\",\"reconnecting\",\"layering\",\"ossified\",\"noble\",\"tiptoeing\",\"smiles\",\"swain\",\"perihelion\",\"bagels\",\"obfuscation\",\"spreadsheets\",\"buddy\",\"flints\",\"planting\",\"hogwarts\",\"abusers\",\"welfare\",\"mouses\",\"lament\",\"auras\",\"unrelieved\",\"cougars\",\"cattails\",\"chubby\",\"handstands\",\"woolly\",\"concealment\",\"mediterraneans\",\"judas\",\"electrocardiographs\",\"skulks\",\"puttered\",\"crimean\",\"liven\",\"odds\",\"warehousing\",\"lifeguard\",\"deepness\",\"clowns\",\"blossomed\",\"constriction\",\"honest\",\"noisemakers\",\"whist\",\"overcame\",\"sulphured\",\"vertebras\",\"commiseration\",\"jolted\",\"adjourns\",\"bungles\",\"sonnies\",\"housekeeper\",\"buddha\",\"bolsters\",\"warlords\",\"banjarmasin\",\"militated\",\"anywheres\",\"lula\",\"weirdos\",\"raymond\",\"sections\",\"taoisms\",\"pay\",\"latest\",\"bights\",\"carousel\",\"sups\",\"lavatory\",\"conciser\",\"lon\",\"beefburger\",\"clinically\",\"snakes\",\"backslash\",\"developmental\",\"squibb\",\"smote\",\"mastectomy\",\"genius\",\"sallying\",\"niagara\",\"guild\",\"altai\",\"ascetics\",\"marts\",\"misbehaved\",\"desired\",\"pagodas\",\"platypus\",\"freemen\",\"lovemaking\",\"transfers\",\"brewing\",\"absorbents\",\"unions\",\"lite\",\"wilder\",\"popovers\",\"yamaha\",\"faultier\",\"supplements\",\"forsythia\",\"rummy\",\"propagation\",\"motorbikes\",\"velez\",\"unequivocally\",\"lend\",\"silliness\",\"idiosyncratic\",\"disseminated\",\"carter\",\"washed\",\"dizzying\",\"bedsore\",\"pawned\",\"lr\",\"nubile\",\"galloped\",\"subservience\",\"marlin\",\"chance\",\"schooners\",\"faction\",\"clutters\",\"transmits\",\"weathercocks\",\"illustrations\",\"quell\",\"senegalese\",\"touchiest\",\"psychs\",\"joshes\",\"shallots\",\"garrottes\",\"coifs\",\"glaswegian\",\"hydrated\",\"smirch\",\"strutting\",\"arnold\",\"coughing\",\"tangier\",\"olympics\",\"overexposing\",\"benefactor\",\"reputably\",\"snootier\",\"smuggles\",\"bogus\",\"priories\",\"chandra\",\"diplomatics\",\"muskrat\",\"forbad\",\"monasticism\",\"outshone\",\"farewell\",\"thomas\",\"epaulets\",\"nectarines\",\"affording\",\"buckles\",\"concordance\",\"lebesgue\",\"pawed\",\"lackey\",\"sweden\",\"confirmatory\",\"humble\",\"wizards\",\"controlling\",\"scoffing\",\"worthy\",\"homely\",\"lexical\",\"batteries\",\"chorusing\",\"inboard\",\"cotton\",\"lustrous\",\"devalued\",\"herbart\",\"travestied\",\"veneered\",\"maxillas\",\"omelet\",\"ptarmigans\",\"alnilam\",\"submerging\",\"bucks\",\"niceties\",\"yong\",\"gender\",\"toileting\",\"biding\",\"caffeine\",\"lubricant\",\"dashikis\",\"balm\",\"filings\",\"series\",\"paraguayan\",\"fatefully\",\"craggier\",\"oversexed\",\"milkweed\",\"passels\",\"concretely\",\"rapiers\",\"channeled\",\"multifaceted\",\"tenth\",\"conflagration\",\"pivoted\",\"horribles\",\"tugs\",\"fireman\",\"hull\",\"semifinalist\",\"odorous\",\"carats\",\"uncomfortably\",\"clappers\",\"chaffinches\",\"demagnetize\",\"limits\",\"ups\",\"wimp\",\"reserved\",\"busyness\",\"illuminate\",\"autocratic\",\"zips\",\"sculley\",\"vainest\",\"conciliators\",\"vacillations\",\"daughter\",\"beau\",\"stashes\",\"mini\",\"shallow\",\"divided\",\"invert\",\"caesurae\",\"vibrantly\",\"germination\",\"winching\",\"curmudgeon\",\"hurts\",\"battens\",\"lovable\",\"redistricted\",\"neighing\",\"nonexistence\",\"foghorns\",\"manifesting\",\"retrofitting\",\"fictitious\",\"gracefully\",\"shetlands\",\"transistors\",\"rectitude\",\"shea\",\"acquisitions\",\"predetermines\",\"huts\",\"blintze\",\"cortland\",\"murdered\",\"leninism\",\"ninetieths\",\"fractal\",\"inveighs\",\"compelled\",\"ringer\",\"mistiest\",\"snorting\",\"transportation\",\"dictionaries\",\"khyber\",\"misspelling\",\"bifocal\",\"playmates\",\"disputant\",\"neuters\",\"epidemics\",\"vijayawada\",\"ambles\",\"splashdowns\",\"cants\",\"bandannas\",\"millennia\",\"glows\",\"fowled\",\"cupped\",\"laramie\",\"occupied\",\"gelatine\",\"scorches\",\"sidelights\",\"beagling\",\"campused\",\"doer\",\"gunfighting\",\"tsitsihar\",\"marin\",\"fireside\",\"yellow\",\"seagram\",\"strap\",\"arrivals\",\"sixty\",\"lipscomb\",\"wares\",\"awfullest\",\"servants\",\"dreamer\",\"crockery\",\"mahavira\",\"brad\",\"outpourings\",\"dusty\",\"shrubs\",\"briefest\",\"segments\",\"cartilages\",\"excommunicated\",\"generator\",\"placket\",\"berate\",\"emulations\",\"suspicious\",\"fortnights\",\"sped\",\"griding\",\"panting\",\"trimaran\",\"suspend\",\"retract\",\"adversity\",\"regimental\",\"hammett\",\"wallflower\",\"tyrannize\",\"cinemascope\",\"ambassador\",\"humerus\",\"litter\",\"trying\",\"sinkable\",\"descents\",\"coveralls\",\"region\",\"landslid\",\"bowed\",\"zigzagging\",\"upholstery\",\"parch\",\"scratchy\",\"altitude\",\"angling\",\"scaldings\",\"plussed\",\"babel\",\"cirrus\",\"haberdasher\",\"gayle\",\"chillest\",\"catboat\",\"battling\",\"bellini\",\"extincts\",\"appendices\",\"unmade\",\"footstool\",\"deaths\",\"secretively\",\"erasmus\",\"agra\",\"soothsayers\",\"stillest\",\"despoils\",\"affiliated\",\"mumble\",\"aleut\",\"gyp\",\"purchased\",\"kory\",\"cesspool\",\"interacted\",\"demarcates\",\"fanciness\",\"defines\",\"absorbed\",\"fireplugs\",\"pluckiest\",\"misstates\",\"grenades\",\"untidiness\",\"ventricles\",\"overexpose\",\"dryad\",\"tumbler\",\"chengdu\",\"thistledown\",\"dork\",\"unauthorized\",\"holmes\",\"downgrading\",\"syphilises\",\"trammelled\",\"sending\",\"afflict\",\"ornithologist\",\"serried\",\"much\",\"emoluments\",\"wilfully\",\"strayed\",\"canada\",\"dachshund\",\"compost\",\"glamorized\",\"gerrymandering\",\"senate\",\"allots\",\"arsonists\",\"coloratura\",\"borderlines\",\"cartooned\",\"evert\",\"continents\",\"profiteers\",\"merritt\",\"cyclical\",\"quickens\",\"funkier\",\"dourer\",\"salmonellae\",\"seemingly\",\"cheeky\",\"showering\",\"proses\",\"imperturbably\",\"gush\",\"intolerable\",\"wozniak\",\"vegetables\",\"neglectful\",\"aesculapius\",\"whimsicality\",\"unfolds\",\"conceited\",\"junkyards\",\"immanent\",\"norbert\",\"pollsters\",\"ruse\",\"gymnosperms\",\"toothbrush\",\"accommodate\",\"multitudinous\",\"blessedest\",\"squeezers\",\"portal\",\"newspaperwoman\",\"polytheistic\",\"affectioning\",\"rhiannon\",\"holing\",\"johanna\",\"gregariousness\",\"fishtail\",\"tainting\",\"wasteful\",\"aeneas\",\"flycatcher\",\"salem\",\"ventilator\",\"sat\",\"hiroshima\",\"breed\",\"housewarming\",\"migrate\",\"smocking\",\"plethora\",\"fathead\",\"mussy\",\"communion\",\"foxhole\",\"renters\",\"telecommunications\",\"obtusest\",\"puncture\",\"preparing\",\"encyclopaedias\",\"footholds\",\"violets\",\"megalomaniac\",\"dakotas\",\"accentuating\",\"joanna\",\"gentleman\",\"dardanelles\",\"aeration\",\"gerrymander\",\"liker\",\"chatters\",\"questioningly\",\"guesswork\",\"lunar\",\"upgrading\",\"mara\",\"consultancy\",\"sanguines\",\"sunks\",\"polyethylene\",\"injected\",\"aneurysms\",\"caterwaul\",\"eventfully\",\"aquariums\",\"yowl\",\"valeria\",\"suicides\",\"emptiness\",\"pajamas\",\"uphill\",\"myles\",\"playfully\",\"palestine\",\"agape\",\"chichi\",\"vatican\",\"exponentiation\",\"shipper\",\"planes\",\"reprints\",\"dieters\",\"involving\",\"dimwitted\",\"cranach\",\"homestretch\",\"fitfully\",\"fluoridation\",\"esthetics\",\"coworkers\",\"cannibalize\",\"lipids\",\"heartsick\",\"flatware\",\"rage\",\"hazier\",\"overburdening\",\"psychosis\",\"wage\",\"debasements\",\"personalized\",\"itaipu\",\"valletta\",\"rhythm\",\"cyclic\",\"hillocks\",\"badlands\",\"proffer\",\"cretin\",\"sexuality\",\"hefts\",\"rehabilitate\",\"disfranchisement\",\"skews\",\"rundowns\",\"unrolls\",\"dividing\",\"boomerang\",\"gigglier\",\"respects\",\"layette\",\"heads\",\"devised\",\"franny\",\"therapists\",\"ballsy\",\"inkier\",\"passer\",\"capone\",\"housebreak\",\"rachel\",\"portered\",\"palpate\",\"bugles\",\"marionettes\",\"werewolves\",\"primitive\",\"powerboat\",\"polio\",\"wylie\",\"industrial\",\"convenes\",\"sweep\",\"wear\",\"peaks\",\"trudging\",\"manuring\",\"yttrium\",\"hometown\",\"graving\",\"latency\",\"warrant\",\"tinsmiths\",\"preheats\",\"withered\",\"priestley\",\"dipper\",\"overtakes\",\"thurber\",\"softwood\",\"renounced\",\"turfed\",\"immensely\",\"pilgrim\",\"neophyte\",\"mendicant\",\"trampolining\",\"detachable\",\"corralling\",\"haydn\",\"victimizing\",\"pockmarks\",\"goya\",\"triumphs\",\"sleet\",\"whiplashes\",\"inconsistent\",\"slaked\",\"handled\",\"nissan\",\"housecleaned\",\"gentling\",\"alexandra\",\"dallying\",\"kiddos\",\"rayleigh\",\"oxen\",\"boarders\",\"demonstrator\",\"mollusk\",\"micawber\",\"earthshaking\",\"burials\",\"consecration\",\"algeria\",\"sinister\",\"bloodcurdling\",\"garrotted\",\"byte\",\"dungeon\",\"ferrets\",\"trunk\",\"finery\",\"dodos\",\"staid\",\"champagnes\",\"gelt\",\"hedonists\",\"barrier\",\"trikes\",\"lock\",\"scaly\",\"hibernation\",\"lopsidedly\",\"snake\",\"ellison\",\"runabout\",\"rhapsodizing\",\"divinity\",\"bugged\",\"entomological\",\"kazoo\",\"powdered\",\"smeared\",\"shoestring\",\"knocker\",\"galbraith\",\"clomp\",\"rudders\",\"infused\",\"sale\",\"silicone\",\"underfoot\",\"chirruped\",\"beatific\",\"preached\",\"commingles\",\"enchanters\",\"nonflammable\",\"vacillating\",\"autistic\",\"uganda\",\"intruding\",\"expatiating\",\"coddles\",\"attendant\",\"races\",\"paying\",\"confuting\",\"guyed\",\"expanded\",\"tolstoy\",\"contestants\",\"judd\",\"comediennes\",\"pansy\",\"upstage\",\"schoolmistresses\",\"lesion\",\"rollback\",\"rapt\",\"sicked\",\"locomotion\",\"flint\",\"interactions\",\"vaginae\",\"intonation\",\"comedic\",\"totaled\",\"sickles\",\"immensities\",\"leastwise\",\"brothers\",\"rinking\",\"worksheet\",\"impending\",\"mussed\",\"reinterpretation\",\"backtrack\",\"thrummed\",\"devastate\",\"plaiding\",\"accusatory\",\"rafts\",\"stew\",\"infringe\",\"impulses\",\"shuffleboard\",\"decaffeinates\",\"marquez\",\"milksop\",\"artisan\",\"attlee\",\"decide\",\"italic\",\"catalyst\",\"squeamish\",\"transmuted\",\"coffer\",\"sadness\",\"forays\",\"slipperier\",\"bella\",\"dandy\",\"singletons\",\"inflating\",\"pittance\",\"shearer\",\"spilling\",\"acid\",\"mortgager\",\"proverbs\",\"wily\",\"headwinds\",\"murmured\",\"humidified\",\"cramping\",\"herrick\",\"phoneticians\",\"boas\",\"bucksaw\",\"play\",\"falters\",\"overbites\",\"dill\",\"renovators\",\"mush\",\"clockworks\",\"diaspora\",\"favorites\",\"stomachaches\",\"flinch\",\"boston\",\"scrounges\",\"hubert\",\"utters\",\"million\",\"weekended\",\"touchdown\",\"reactor\",\"postcards\",\"brown\",\"snide\",\"banjoist\",\"recourse\",\"deuced\",\"scurrying\",\"chihuahuas\",\"abutments\",\"proliferate\",\"carillonned\",\"saucier\",\"kaposi\",\"amanda\",\"fillet\",\"demographics\",\"eldon\",\"skyed\",\"abut\",\"bernadette\",\"downplays\",\"alluvia\",\"trappers\",\"insofar\",\"breathlessness\",\"insistently\",\"imitative\",\"cede\",\"embargoed\",\"boisterousness\",\"edicts\",\"braise\",\"impacted\",\"ukrainian\",\"lankiest\",\"bounden\",\"trilling\",\"pinnate\",\"unconvincing\",\"kent\",\"indulging\",\"stagnant\",\"piston\",\"cookery\",\"commits\",\"caucasoid\",\"fronds\",\"bootless\",\"clustered\",\"giggled\",\"lugubriousness\",\"intents\",\"elms\",\"boorishly\",\"stalemate\",\"blaine\",\"proportionality\",\"sampson\",\"ethnologists\",\"francisco\",\"headmistress\",\"propel\",\"knapsack\",\"misapplied\",\"ensnare\",\"subtotal\",\"intersected\",\"maud\",\"shooing\",\"pouts\",\"messed\",\"schmidt\",\"liberated\",\"continuations\",\"impossible\",\"unsatisfied\",\"flanneling\",\"unscrupulous\",\"comity\",\"scopes\",\"incised\",\"venial\",\"takes\",\"auction\",\"bashfully\",\"bremen\",\"televangelists\",\"eyesight\",\"ineptness\",\"hecate\",\"sweller\",\"carrot\",\"presidency\",\"hook\",\"nerveless\",\"mastication\",\"abstractnesses\",\"precognition\",\"indent\",\"sombre\",\"fieriness\",\"quiescent\",\"indispositions\",\"shiftiness\",\"caveatted\",\"gulps\",\"best\",\"spread\",\"chews\",\"prevaricating\",\"shoon\",\"manicures\",\"privier\",\"yawns\",\"surnames\",\"solacing\",\"tattering\",\"contrail\",\"downsizing\",\"unnerve\",\"avenger\",\"misanthropists\",\"retiring\",\"roughest\",\"canard\",\"dowdiness\",\"corinne\",\"hilton\",\"summon\",\"whacky\",\"luncheonettes\",\"morals\",\"hunches\",\"ibices\",\"waded\",\"meany\",\"valving\",\"articulations\",\"typefaces\",\"born\",\"wretches\",\"reflexes\",\"tickled\",\"showier\",\"reddest\",\"scallop\",\"rethought\",\"registries\",\"behaves\",\"abnegates\",\"sharping\",\"helm\",\"rapscallions\",\"manifestation\",\"elected\",\"mulligan\",\"unmanageable\",\"exude\",\"centerfolds\",\"unbind\",\"enshrine\",\"skeptically\",\"pained\",\"yeah\",\"frostbiting\",\"nonessential\",\"bakers\",\"exorcist\",\"tonalities\",\"timmy\",\"provisional\",\"bugatti\",\"whisper\",\"nonfiction\",\"snippet\",\"quest\",\"jabberer\",\"mittens\",\"metatarsal\",\"quotient\",\"sponsorship\",\"ferociously\",\"brig\",\"meditation\",\"scotch\",\"mess\",\"saith\",\"appropriately\",\"smithson\",\"emacs\",\"bookending\",\"misses\",\"warmonger\",\"subvert\",\"pretties\",\"ficklest\",\"inaugurated\",\"teetotal\",\"shipmate\",\"irony\",\"canaan\",\"jeopardized\",\"lanes\",\"sloan\",\"connexion\",\"ideals\",\"uprising\",\"sited\",\"lamebrains\",\"patchwork\",\"vocalizes\",\"maura\",\"taller\",\"patronage\",\"barbarians\",\"midshipmen\",\"granddaughter\",\"grapefruits\",\"sideways\",\"mistreating\",\"pensive\",\"foreseen\",\"manageability\",\"lammer\",\"affiliation\",\"aguilar\",\"aunts\",\"ghats\",\"tricycles\",\"privileged\",\"athlete\",\"ls\",\"colonnades\",\"constrictors\",\"stickied\",\"ritualism\",\"catharses\",\"scrappiest\",\"almoravid\",\"tiaras\",\"habituate\",\"merino\",\"witches\",\"handbag\",\"steamroll\",\"conics\",\"marion\",\"forte\",\"rectangles\",\"australoid\",\"gaborone\",\"invidiously\",\"fugues\",\"nervelessly\",\"p\",\"plunderers\",\"newspaperwomen\",\"embolism\",\"splendider\",\"lathes\",\"pleistocene\",\"acceleration\",\"caterers\",\"hauled\",\"fluent\",\"severus\",\"dubbed\",\"rollicked\",\"cal\",\"hastily\",\"scourged\",\"homogenization\",\"leakages\",\"teaches\",\"vocabulary\",\"interpolate\",\"bacterium\",\"ambiguous\",\"virtual\",\"flory\",\"apostrophe\",\"bellamy\",\"lushest\",\"misconstrued\",\"obsessives\",\"romanticizes\",\"feeblest\",\"encodes\",\"anthropologists\",\"clinked\",\"hammerstein\",\"duckbill\",\"expurgations\",\"coroner\",\"unclasping\",\"inconsistently\",\"default\",\"skullcaps\",\"inverses\",\"toadstool\",\"raga\",\"cristina\",\"malady\",\"nonrenewable\",\"zonal\",\"suva\",\"trothed\",\"clarifies\",\"moravia\",\"waggles\",\"flyspeck\",\"blanker\",\"overstays\",\"admired\",\"speckles\",\"fumigates\",\"languished\",\"dieseled\",\"president\",\"tuition\",\"escapees\",\"meyerbeer\",\"futilely\",\"pills\",\"afghans\",\"homeboys\",\"blankness\",\"hackles\",\"footman\",\"spies\",\"horsed\",\"arctics\",\"sunder\",\"mcluhan\",\"secures\",\"withdrawn\",\"bellicose\",\"quibbles\",\"chastens\",\"episcopate\",\"shenanigans\",\"salinity\",\"mending\",\"handsome\",\"tweed\",\"ladle\",\"condorcet\",\"metric\",\"tattletale\",\"rashly\",\"nurtures\",\"contemplation\",\"tucker\",\"moroni\",\"nickolas\",\"mcclellan\",\"phonics\",\"copyright\",\"overwhelms\",\"swahilis\",\"chessmen\",\"amusingly\",\"conjoint\",\"abstrusest\",\"canonicals\",\"ono\",\"callouses\",\"jiggled\",\"typecast\",\"memoranda\",\"tuxes\",\"stalwart\",\"ennobling\",\"nuked\",\"gaggle\",\"followings\",\"beeper\",\"hacksawing\",\"acclimatize\",\"orient\",\"declaims\",\"rising\",\"enamor\",\"doxologies\",\"waistcoats\",\"gustatory\",\"kitchening\",\"overpower\",\"subordination\",\"bone\",\"ricking\",\"yenisei\",\"harvesters\",\"junior\",\"elector\",\"simulcasted\",\"clarinettists\",\"modulators\",\"happily\",\"critic\",\"damage\",\"ineffectual\",\"arbitrates\",\"portrayed\",\"animists\",\"monasteries\",\"abductor\",\"dissolve\",\"befuddled\",\"emergence\",\"laments\",\"naturally\",\"ankle\",\"glastonbury\",\"woodpile\",\"zoroastrian\",\"near\",\"orneriest\",\"temperated\",\"icon\",\"stiffed\",\"penis\",\"reapplied\",\"getting\",\"specializes\",\"bushy\",\"complaisant\",\"slocum\",\"unreadier\",\"stiffest\",\"fives\",\"clumsiest\",\"engineers\",\"plumped\",\"waistline\",\"judgeship\",\"cryptographers\",\"bordello\",\"babar\",\"monthly\",\"possiblest\",\"libeler\",\"cartwheeling\",\"stiffer\",\"monickers\",\"digraphs\",\"salinger\",\"carping\",\"wrigglers\",\"assyrians\",\"sprawls\",\"visits\",\"saunaed\",\"preambling\",\"flairs\",\"obtuse\",\"unbounded\",\"septuagenarians\",\"syllabi\",\"roulette\",\"conjure\",\"clones\",\"aristocratic\",\"orleans\",\"discountenancing\",\"primordials\",\"expropriations\",\"patellas\",\"prurient\",\"walloon\",\"electroencephalographs\",\"contribution\",\"dwarfed\",\"caryatides\",\"billy\",\"presumed\",\"gnarly\",\"chinchilla\",\"shinning\",\"gripped\",\"sigurd\",\"ruff\",\"circumcising\",\"shriveled\",\"cysts\",\"bernstein\",\"storming\",\"calibrations\",\"suffuse\",\"stodginess\",\"brownian\",\"colorblind\",\"aberration\",\"cornered\",\"droppers\",\"heartbreaks\",\"becker\",\"suffusion\",\"ambassadorships\",\"souses\",\"arizonian\",\"oarlocks\",\"accountants\",\"elephants\",\"surer\",\"citadels\",\"betroths\",\"gentian\",\"individualism\",\"venezuelan\",\"tour\",\"rancorously\",\"cabral\",\"constants\",\"parochialism\",\"fustian\",\"coxswains\",\"ironing\",\"rusted\",\"babbling\",\"inapplicable\",\"sedans\",\"leukocyte\",\"opaqueness\",\"bluffs\",\"tuneless\",\"capsized\",\"brochures\",\"severance\",\"hyperventilated\",\"len\",\"shortstop\",\"adoringly\",\"damming\",\"credits\",\"accentuates\",\"lurch\",\"illegitimacy\",\"martens\",\"bleeders\",\"rankle\",\"mortarboard\",\"unify\",\"remark\",\"thermometers\",\"provoked\",\"bittersweet\",\"dame\",\"clarinets\",\"workers\",\"misinterpreted\",\"surveillance\",\"thickset\",\"assaulted\",\"intervening\",\"swede\",\"rustbelt\",\"suns\",\"gasoline\",\"clifton\",\"energized\",\"indiscreetly\",\"soundless\",\"notepad\",\"uneaten\",\"cicatrixes\",\"rhythms\",\"inimitably\",\"subjectively\",\"drifter\",\"snowdrop\",\"moonstone\",\"olga\",\"sabled\",\"eightieths\",\"yonder\",\"inaccurately\",\"madams\",\"flautist\",\"surrealist\",\"persimmons\",\"davenport\",\"retinues\",\"markets\",\"cursing\",\"femora\",\"sharpers\",\"fishermen\",\"cores\",\"clarifying\",\"lakes\",\"sake\",\"sync\",\"impinged\",\"smartness\",\"retarded\",\"grubby\",\"okayed\",\"rustles\",\"croupiers\",\"civilizing\",\"suffocatings\",\"blackmails\",\"recessives\",\"substantives\",\"profitable\",\"delicatessens\",\"familiars\",\"terence\",\"frumpier\",\"maximums\",\"shiners\",\"regals\",\"stieglitz\",\"newsagents\",\"confirmation\",\"inebriation\",\"alva\",\"snowplowing\",\"crudity\",\"tams\",\"gobs\",\"sourpusses\",\"pursuant\",\"busts\",\"angrily\",\"betaking\",\"subsumed\",\"uniformity\",\"mote\",\"censuring\",\"sir\",\"sifting\",\"yachts\",\"sexists\",\"orientation\",\"forewarned\",\"brigs\",\"gyro\",\"knickknacks\",\"retrains\",\"klondiked\",\"nonpluses\",\"contemplative\",\"sears\",\"trammed\",\"serializes\",\"brigands\",\"stratified\",\"burial\",\"sumter\",\"malplaquet\",\"upholsters\",\"parenthesized\",\"dinkies\",\"classy\",\"jugulars\",\"contradicts\",\"sunup\",\"terracing\",\"bulletined\",\"postponements\",\"teenier\",\"afterburners\",\"greenback\",\"dependants\",\"hardy\",\"unbelievers\",\"surrealistic\",\"chaises\",\"snapple\",\"dowry\",\"writhes\",\"expurgates\",\"magically\",\"toolkit\",\"boondoggled\",\"timorously\",\"fuselages\",\"corine\",\"deploying\",\"neckerchiefs\",\"oz\",\"sequoya\",\"waives\",\"dives\",\"reprocessing\",\"clearly\",\"discontinuations\",\"mezzanines\",\"antibiotic\",\"likeness\",\"squabbles\",\"navigable\",\"temples\",\"described\",\"libretto\",\"tanking\",\"perilous\",\"drowsiness\",\"pilferers\",\"beakers\",\"ingram\",\"prevaricate\",\"voiced\",\"procrastinated\",\"vanilla\",\"salween\",\"han\",\"marquises\",\"bewails\",\"cocks\",\"ledger\",\"panty\",\"dupont\",\"typewriter\",\"blackfoot\",\"possession\",\"conglomerated\",\"collects\",\"escutcheon\",\"titting\",\"condiments\",\"smouldered\",\"marquees\",\"interjected\",\"element\",\"outlet\",\"briefing\",\"liquidator\",\"shrieks\",\"nanking\",\"salting\",\"reopens\",\"glasgow\",\"arabians\",\"transgressing\",\"reasoning\",\"bleated\",\"bearable\",\"criticize\",\"whereat\",\"bureaus\",\"dismounts\",\"roxie\",\"tussled\",\"yeomen\",\"equine\",\"cyclist\",\"hugely\",\"felted\",\"messy\",\"desist\",\"shenandoah\",\"sushi\",\"storeroom\",\"hindquarter\",\"opposed\",\"benevolently\",\"archives\",\"luaus\",\"diskette\",\"chiefer\",\"hangover\",\"sparta\",\"faxed\",\"hedge\",\"eddington\",\"pins\",\"bushiest\",\"loco\",\"rooking\",\"lifer\",\"trespassed\",\"swears\",\"husked\",\"darrell\",\"completed\",\"shirring\",\"interactively\",\"places\",\"injured\",\"stolid\",\"secondly\",\"explores\",\"committees\",\"airwaves\",\"littler\",\"sprawling\",\"hydroplaned\",\"uglied\",\"depended\",\"mortared\",\"gloaming\",\"shinbones\",\"outlaw\",\"proselytize\",\"moralling\",\"worn\",\"extricates\",\"exclamatory\",\"layperson\",\"frolicsome\",\"conjugates\",\"arrest\",\"guttural\",\"paycheck\",\"phyllis\",\"alphonse\",\"drumming\",\"multiply\",\"wed\",\"actuating\",\"sidled\",\"sapient\",\"fingers\",\"wantonness\",\"habitually\",\"emulsion\",\"handwork\",\"indeterminate\",\"prig\",\"pareto\",\"wartime\",\"nuthatches\",\"squalider\",\"selflessness\",\"chip\",\"uvulars\",\"debonair\",\"replenishing\",\"naughtiest\",\"renounce\",\"anemic\",\"schoolgirl\",\"dilation\",\"slipping\",\"tape\",\"ginning\",\"crucifixions\",\"indecisiveness\",\"formidably\",\"pokes\",\"resigned\",\"chitchatted\",\"holograms\",\"coppices\",\"dialects\",\"vicissitudes\",\"penologist\",\"shirtwaist\",\"heeds\",\"hybridizes\",\"calliope\",\"likable\",\"adequately\",\"wight\",\"heehawed\",\"exhibits\",\"undressing\",\"seditious\",\"collapses\",\"perishes\",\"peevish\",\"foregoings\",\"harsher\",\"effectuate\",\"halls\",\"petitioned\",\"afrikaners\",\"bright\",\"holidayed\",\"subtitled\",\"comfortable\",\"whoa\",\"aspens\",\"mops\",\"islams\",\"valedictorians\",\"jellies\",\"jewel\",\"gouging\",\"leftmost\",\"breaches\",\"minimal\",\"overcharged\",\"porting\",\"smith\",\"predominates\",\"motorbike\",\"enigmatically\",\"equable\",\"trickery\",\"streetcar\",\"flautists\",\"countrysides\",\"disregarding\",\"pakistanis\",\"grapevine\",\"chicana\",\"maneuverable\",\"diction\",\"falsified\",\"peppering\",\"murmurs\",\"abated\",\"radiance\",\"maharajas\",\"pediments\",\"entrants\",\"friedman\",\"discombobulated\",\"misprints\",\"reimbursements\",\"andropov\",\"fizzle\",\"stress\",\"sifters\",\"establishments\",\"chippers\",\"boomed\",\"describable\",\"contused\",\"moscow\",\"stonewall\",\"meander\",\"kaleidoscopes\",\"subcontract\",\"physiognomies\",\"bayeux\",\"telegraphic\",\"emotional\",\"govs\",\"crotches\",\"jayne\",\"morison\",\"funguses\",\"schlepped\",\"rhubarbs\",\"bump\",\"banged\",\"shrieked\",\"petal\",\"phooey\",\"piercings\",\"defending\",\"lapidaries\",\"muffle\",\"halcyon\",\"transmitting\",\"smallest\",\"tottered\",\"bossily\",\"ruling\",\"sequencers\",\"lowest\",\"overtaxing\",\"misalignment\",\"plutonium\",\"paroling\",\"windsurfs\",\"annals\",\"nasser\",\"gomorrah\",\"dispute\",\"intensity\",\"unwillingly\",\"witt\",\"stockiest\",\"addends\",\"jacklyn\",\"kind\",\"giauque\",\"reborn\",\"discontinued\",\"headdress\",\"favorite\",\"vivaces\",\"keith\",\"descriptions\",\"secondarily\",\"whinnier\",\"kismet\",\"underrates\",\"restated\",\"guessed\",\"inestimable\",\"irritable\",\"managua\",\"deft\",\"blockbusters\",\"ascribes\",\"melodramatics\",\"cormorants\",\"deliquescent\",\"unpins\",\"twits\",\"confers\",\"bargained\",\"tide\",\"floundering\",\"censorious\",\"gouges\",\"magistrates\",\"reynolds\",\"sequels\",\"as\",\"incinerator\",\"swathes\",\"candelabras\",\"spelling\",\"scratchier\",\"dejecting\",\"implementation\",\"reaffirms\",\"blanches\",\"western\",\"ebony\",\"reason\",\"appending\",\"polluters\",\"jove\",\"gambits\",\"corpuses\",\"grittier\",\"rhetoricians\",\"distils\",\"explicate\",\"jansen\",\"jolt\",\"curing\",\"medicine\",\"tender\",\"supplanted\",\"andres\",\"scrofula\",\"glopped\",\"indulgently\",\"pilchards\",\"scuffs\",\"harmonize\",\"hoagies\",\"xmases\",\"witness\",\"caller\",\"detail\",\"mayo\",\"misidentify\",\"bath\",\"disports\",\"filets\",\"cheapest\",\"scorpions\",\"prevent\",\"promptness\",\"looping\",\"authenticating\",\"cab\",\"reamers\",\"protestation\",\"outgrown\",\"devoting\",\"naphthalene\",\"quarrels\",\"rambler\",\"garment\",\"councilor\",\"chronic\",\"acceptances\",\"resurrection\",\"southpaw\",\"raceway\",\"diffidence\",\"uneventful\",\"mecca\",\"cheri\",\"scarceness\",\"nebraska\",\"elfin\",\"bookies\",\"dietary\",\"auditory\",\"eggo\",\"articulateness\",\"steadying\",\"boulders\",\"impressing\",\"misdo\",\"greta\",\"comae\",\"horace\",\"pedalled\",\"tram\",\"sahib\",\"fetishists\",\"dumbness\",\"belonged\",\"rotunda\",\"moons\",\"falconers\",\"rail\",\"dispels\",\"redeemer\",\"petitioners\",\"forewent\",\"onshore\",\"precincts\",\"detoxes\",\"quintupling\",\"befouling\",\"knit\",\"balls\",\"eddy\",\"poetess\",\"divines\",\"candor\",\"tomcats\",\"weapons\",\"unsnaps\",\"viaducts\",\"chatted\",\"susie\",\"reconvened\",\"condemns\",\"thickeners\",\"collect\",\"rock\",\"apothecary\",\"clue\",\"mulberries\",\"territories\",\"pups\",\"earthing\",\"pledged\",\"coffers\",\"wells\",\"extractors\",\"mistiness\",\"sterility\",\"microfilming\",\"anesthesiologists\",\"miss\",\"volleys\",\"nabs\",\"foamier\",\"wrested\",\"minefields\",\"empathizes\",\"lakshmi\",\"victualling\",\"huffiest\",\"shirrs\",\"centralizes\",\"inapt\",\"besieging\",\"babbitt\",\"psychoanalysts\",\"gybe\",\"enlisting\",\"discomfits\",\"helicoptered\",\"sukkot\",\"skidded\",\"avoirdupois\",\"horsewhipping\",\"khulna\",\"plateaus\",\"rwandan\",\"emerson\",\"copycatted\",\"herald\",\"bemuses\",\"hesitate\",\"gleefully\",\"siestas\",\"tonsure\",\"generals\",\"flunky\",\"eyes\",\"indivisibly\",\"hydrangea\",\"berne\",\"gag\",\"redesigned\",\"insinuating\",\"reenters\",\"remote\",\"douche\",\"budget\",\"afterlives\",\"shootout\",\"shortbread\",\"eatables\",\"omens\",\"abelard\",\"waxen\",\"presaging\",\"platforms\",\"beachheads\",\"redeveloped\",\"praia\",\"peppy\",\"indonesians\",\"plated\",\"abouts\",\"sunbathed\",\"mobiles\",\"playacted\",\"files\",\"verlaine\",\"deceptively\",\"townsmen\",\"acetic\",\"resorting\",\"ritually\",\"rhinestone\",\"neologisms\",\"opposition\",\"cauterizing\",\"sprinkling\",\"theoreticians\",\"khoikhoi\",\"peahens\",\"compensated\",\"shrive\",\"roughage\",\"drastically\",\"objector\",\"manliness\",\"lanyard\",\"espied\",\"saturate\",\"canards\",\"launderer\",\"hightailed\",\"hauler\",\"frosty\",\"blithely\",\"astrophysicist\",\"squirrel\",\"derailing\",\"huffily\",\"suture\",\"mahatma\",\"egocentric\",\"reverting\",\"doctors\",\"anubis\",\"flatly\",\"minuter\",\"staterooms\",\"delineate\",\"rive\",\"offbeat\",\"principals\",\"micra\",\"invoices\",\"menominee\",\"cartographer\",\"ujungpandang\",\"notoriously\",\"reapplying\",\"totalled\",\"whiskers\",\"crassness\",\"incoherently\",\"grassiest\",\"sponging\",\"protects\",\"numeration\",\"preppy\",\"ceased\",\"powering\",\"recreates\",\"musicians\",\"header\",\"bounteous\",\"negligently\",\"berenice\",\"trustfully\",\"methinks\",\"preface\",\"disproportionately\",\"comeuppances\",\"firefighting\",\"synced\",\"disturbing\",\"tuscan\",\"robles\",\"factored\",\"aircraft\",\"nazca\",\"shrank\",\"panhandler\",\"oversleeps\",\"huckleberry\",\"countersank\",\"hopper\",\"paneled\",\"kayaking\",\"billowy\",\"inhalers\",\"sapped\",\"rarefy\",\"thunderclouds\",\"rockets\",\"imperiously\",\"dregs\",\"hockshops\",\"stemming\",\"nymphomaniacs\",\"tightening\",\"refreshing\",\"ryder\",\"persecutor\",\"win\",\"darted\",\"benchmark\",\"abuzz\",\"incises\",\"brunei\",\"scuttled\",\"astronauts\",\"pizazz\",\"covetously\",\"maltreating\",\"barbarism\",\"manila\",\"zuni\",\"humanizes\",\"microcosms\",\"fellow\",\"exonerate\",\"geckoes\",\"foregone\",\"cuttings\",\"butterflying\",\"underflow\",\"saintliness\",\"slather\",\"toddle\",\"isobars\",\"spelunkers\",\"rigmaroles\",\"offings\",\"interning\",\"representative\",\"luann\",\"pursuit\",\"tennis\",\"marijuana\",\"reconvening\",\"shapelessly\",\"strum\",\"kilts\",\"brutalized\",\"gloom\",\"rajas\",\"courses\",\"poising\",\"disclaimers\",\"baluchistan\",\"brief\",\"recognizable\",\"gore\",\"outermost\",\"ascertainable\",\"pitfalls\",\"posers\",\"vegetable\",\"inglorious\",\"mottos\",\"hurtle\",\"heartbreak\",\"chichier\",\"bolshevist\",\"cockscomb\",\"delineates\",\"spouted\",\"asides\",\"chrystal\",\"presentiment\",\"pekings\",\"teargas\",\"classes\",\"foamed\",\"distinguished\",\"sherlock\",\"purling\",\"apace\",\"goalies\",\"specifiable\",\"enfranchised\",\"cycle\",\"crunchiest\",\"ericson\",\"membership\",\"sheraton\",\"reaffirmed\",\"lassie\",\"readily\",\"gunfire\",\"archaism\",\"bulged\",\"watercraft\",\"internal\",\"dishonors\",\"caviled\",\"volcanic\",\"blahs\",\"instances\",\"yammers\",\"colombians\",\"mussier\",\"allegheny\",\"contraband\",\"heinrich\",\"dogged\",\"impossibility\",\"syntactic\",\"infuriate\",\"max\",\"specifically\",\"brent\",\"eugenics\",\"ankhs\",\"icelander\",\"woodshed\",\"emblazoning\",\"thru\",\"overhearing\",\"ultrasuede\",\"hillock\",\"twitching\",\"dishonoring\",\"gridlocking\",\"grouches\",\"sequestering\",\"pressurized\",\"freeloads\",\"ursula\",\"carpet\",\"formulation\",\"aliens\",\"warbling\",\"frazzling\",\"furnishes\",\"abridged\",\"theocracies\",\"karamazov\",\"abridgements\",\"adipose\",\"wideness\",\"lacing\",\"adversaries\",\"prohibitions\",\"nosy\",\"inopportune\",\"radiotherapists\",\"extortionist\",\"relabels\",\"bullish\",\"diagraming\",\"bracing\",\"scrounged\",\"seniority\",\"congregationalists\",\"incompatibles\",\"cavalcade\",\"allergist\",\"stippled\",\"salaciousness\",\"crazily\",\"snuggles\",\"deserve\",\"squashiest\",\"waterfowls\",\"carjacking\",\"trampolined\",\"sister\",\"swankier\",\"kazakhstan\",\"blaspheming\",\"kidnappers\",\"disorganizes\",\"elongated\",\"glopping\",\"windbag\",\"buckeye\",\"rebellious\",\"leaf\",\"biographer\",\"verily\",\"downpours\",\"baxter\",\"qaddafi\",\"suffocated\",\"drowns\",\"doses\",\"rebated\",\"amplifying\",\"paprika\",\"played\",\"midwifed\",\"nightfall\",\"rocketing\",\"solemnizing\",\"pacifiers\",\"alaska\",\"snicker\",\"small\",\"hotshots\",\"jumbos\",\"leagued\",\"subpoena\",\"sivan\",\"overbalanced\",\"rasalhague\",\"washbasin\",\"imponderables\",\"packers\",\"consecrate\",\"majorettes\",\"clarendon\",\"fain\",\"pettifog\",\"bessie\",\"reword\",\"genoa\",\"storey\",\"ezra\",\"shutting\",\"legitimately\",\"obsequies\",\"leggy\",\"diodes\",\"mechanizes\",\"buggies\",\"disavowal\",\"jaunties\",\"johnnie\",\"ladyship\",\"epiphany\",\"probabilities\",\"bucketing\",\"tomboys\",\"slackens\",\"womanizer\",\"venn\",\"toddling\",\"hustling\",\"tattle\",\"bikes\",\"mouthe\",\"daryl\",\"succumb\",\"geffen\",\"honeymoons\",\"denmark\",\"caucasians\",\"introverts\",\"verdure\",\"plausible\",\"conjuror\",\"insetting\",\"aftermath\",\"withers\",\"miller\",\"interdepartmental\",\"decalogue\",\"liquefies\",\"recreated\",\"holographic\",\"median\",\"pidgin\",\"matchless\",\"skinnier\",\"milligram\",\"psychic\",\"titted\",\"consecutive\",\"reject\",\"inhales\",\"colossal\",\"tintinnabulation\",\"virgil\",\"fiduciary\",\"friday\",\"resumptions\",\"rambling\",\"ilene\",\"bordeaux\",\"swaying\",\"giacometti\",\"succeeded\",\"hobbies\",\"photocopying\",\"reinvests\",\"chiselers\",\"respire\",\"dodoes\",\"vaporous\",\"gloried\",\"unproductive\",\"salami\",\"argots\",\"allege\",\"mutinous\",\"mirfak\",\"keepers\",\"hocked\",\"primness\",\"tubers\",\"improvidence\",\"soil\",\"discontinuing\",\"landslides\",\"mollycoddling\",\"smokier\",\"corolla\",\"ripper\",\"splenetic\",\"convening\",\"twangs\",\"snootiest\",\"rousing\",\"stablest\",\"ordinarier\",\"windiest\",\"quizes\",\"tallahassee\",\"hutchinson\",\"becomingly\",\"attentively\",\"sourcing\",\"guppy\",\"demands\",\"lupins\",\"ladders\",\"liechtenstein\",\"emancipated\",\"toughness\",\"maladjustment\",\"bringing\",\"clopping\",\"acrylic\",\"undervalues\",\"bogy\",\"juggles\",\"proprietor\",\"assertions\",\"snobbishness\",\"overcautious\",\"bernie\",\"pylons\",\"enmity\",\"westerns\",\"hobbyhorse\",\"edgy\",\"probing\",\"footsore\",\"cagney\",\"rumpling\",\"engorges\",\"holdover\",\"lyman\",\"ambiguously\",\"boding\",\"adulterous\",\"intriguing\",\"capstan\",\"punitive\",\"stiletto\",\"monotony\",\"weathercocking\",\"torturing\",\"sixtieths\",\"inkling\",\"nutritionist\",\"akron\",\"habits\",\"eyries\",\"ukraine\",\"curlicues\",\"sate\",\"rosendo\",\"seclude\",\"commended\",\"truthfulness\",\"fender\",\"shekel\",\"unrelated\",\"crouch\",\"crueler\",\"kiss\",\"intimately\",\"encumbered\",\"shell\",\"spotters\",\"nosegay\",\"goatherds\",\"pasadena\",\"dropouts\",\"forgathers\",\"predestination\",\"gigglers\",\"invulnerable\",\"negros\",\"workman\",\"onomatopoeia\",\"leaking\",\"immediate\",\"retraces\",\"subheading\",\"fanciers\",\"wield\",\"sacrosanct\",\"sauerkraut\",\"chinatowns\",\"bimonthlies\",\"mistrial\",\"watchtowers\",\"muddle\",\"copernicus\",\"nonuser\",\"amassing\",\"infantries\",\"lead\",\"tantalus\",\"anemones\",\"callahan\",\"bombastic\",\"noise\",\"giantesses\",\"damien\",\"nietzsche\",\"sects\",\"limbs\",\"attire\",\"thickest\",\"deducible\",\"space\",\"fenders\",\"blackballs\",\"slashing\",\"signatories\",\"bast\",\"mousetrapping\",\"motor\",\"bothers\",\"trunks\",\"destine\",\"coursing\",\"kipper\",\"dressmaker\",\"ghanaian\",\"sheathed\",\"sward\",\"mishandle\",\"ferrari\",\"georgian\",\"nearsightedness\",\"chestnuts\",\"basketballs\",\"suffered\",\"yardarms\",\"verses\",\"apothecaries\",\"tequilas\",\"excavated\",\"beauregard\",\"floating\",\"unruliness\",\"certificates\",\"tens\",\"literate\",\"watchfully\",\"tartars\",\"moaning\",\"currant\",\"instincts\",\"codify\",\"sachet\",\"looks\",\"bedrock\",\"roundelay\",\"candidacy\",\"tragicomedies\",\"hollyhocks\",\"pummels\",\"sheldon\",\"swayed\",\"misfired\",\"botany\",\"vane\",\"retrospect\",\"bully\",\"divots\",\"tailgating\",\"outbreaking\",\"varmints\",\"sorcerer\",\"terminal\",\"stein\",\"inland\",\"suggesting\",\"octavia\",\"catalysts\",\"cover\",\"pulsated\",\"incommensurate\",\"northrop\",\"cranked\",\"preemption\",\"sturdily\",\"melons\",\"unicorns\",\"shadiest\",\"mythology\",\"kaboom\",\"orate\",\"soppings\",\"fountainheads\",\"chitchatting\",\"jo\",\"idealism\",\"accordions\",\"constrains\",\"steakhouses\",\"acquited\",\"underlying\",\"tunes\",\"patagonian\",\"untilled\",\"thankfulness\",\"pummeling\",\"undergarment\",\"rodger\",\"walkout\",\"casualties\",\"slews\",\"hiking\",\"funded\",\"catchall\",\"critiquing\",\"flirtatiously\",\"soberly\",\"cherry\",\"disbelieve\",\"longhorn\",\"scuttle\",\"yell\",\"fit\",\"discomforts\",\"cheeriest\",\"masterly\",\"vapors\",\"sulkiness\",\"sign\",\"obsequiously\",\"tryout\",\"stethoscopes\",\"radiators\",\"wrangled\",\"subverting\",\"grievances\",\"typographical\",\"oahu\",\"kaolin\",\"constellations\",\"transnational\",\"efrain\",\"pylon\",\"committal\",\"disables\",\"climatic\",\"taoist\",\"moldiness\",\"scrutiny\",\"mulatto\",\"misstatements\",\"brontosaur\",\"viticulture\",\"waistbands\",\"sharks\",\"trowel\",\"hall\",\"scuppers\",\"stations\",\"buggiest\",\"sole\",\"slyest\",\"london\",\"smokies\",\"shuttlecocks\",\"irreverently\",\"sunfish\",\"befogs\",\"arraigns\",\"uneasy\",\"cadavers\",\"brights\",\"photojournalism\",\"commissioners\",\"gate\",\"idealizes\",\"chaparral\",\"veronese\",\"misguidedly\",\"maker\",\"biophysics\",\"maced\",\"excite\",\"carousals\",\"apes\",\"cruel\",\"bohemian\",\"epigrams\",\"allocate\",\"goldie\",\"grams\",\"porfirio\",\"wears\",\"senecas\",\"weirdly\",\"synthesizer\",\"creditor\",\"chowed\",\"smithies\",\"omnivore\",\"cocktail\",\"isis\",\"derailment\",\"outspokenness\",\"immigrating\",\"snivel\",\"outgo\",\"stopwatches\",\"vibrators\",\"dustbin\",\"gentlest\",\"commune\",\"unregulated\",\"vaccinates\",\"stern\",\"coagulates\",\"pyramidal\",\"ill\",\"intensifier\",\"sweltering\",\"maritza\",\"needlework\",\"stolidly\",\"bantams\",\"missive\",\"relearning\",\"honeycombs\",\"straddles\",\"portraits\",\"active\",\"ceiling\",\"repackaging\",\"malfunctions\",\"bavarians\",\"emanates\",\"flaunts\",\"revision\",\"ceded\",\"housebound\",\"adulates\",\"polarize\",\"supine\",\"bites\",\"rescuer\",\"exploratory\",\"deadlock\",\"abode\",\"twingeing\",\"libertarians\",\"chan\",\"beiderbecke\",\"crannies\",\"syncopating\",\"crosspiece\",\"titmouse\",\"relationships\",\"scumming\",\"synchronizations\",\"grandiloquence\",\"hellenization\",\"cavil\",\"derision\",\"normed\",\"druggist\",\"preternatural\",\"arider\",\"adapts\",\"leopold\",\"rhapsodize\",\"conquests\",\"succulents\",\"overpaying\",\"holiest\",\"offering\",\"jordanian\",\"trains\",\"saleable\",\"credible\",\"versus\",\"graybeard\",\"freedoms\",\"moseley\",\"ethical\",\"sanctums\",\"belched\",\"cremated\",\"persuasions\",\"resonating\",\"doggedness\",\"emil\",\"riddle\",\"yeasts\",\"eyelash\",\"tremolos\",\"keenness\",\"romeo\",\"gypsy\",\"undistinguished\",\"oliver\",\"predicaments\",\"joking\",\"raconteur\",\"sultanate\",\"lodges\",\"nonesuches\",\"coopering\",\"omelette\",\"quito\",\"quaffs\",\"quadrilles\",\"stream\",\"compiles\",\"camellias\",\"oxide\",\"malfunctioned\",\"jaywalking\",\"gherkin\",\"dispatcher\",\"aztlan\",\"leonine\",\"stallone\",\"argonne\",\"messieurs\",\"envisaging\",\"pairs\",\"privates\",\"scalawags\",\"choreographed\",\"duplicates\",\"oath\",\"celery\",\"undue\",\"engenders\",\"jersey\",\"policyholders\",\"hermaphroditic\",\"encrusts\",\"jalopy\",\"diversification\",\"padre\",\"ridding\",\"waterbury\",\"fluids\",\"pillories\",\"preciously\",\"fraternity\",\"contends\",\"collegiate\",\"overstep\",\"corroborate\",\"struts\",\"halloween\",\"leonardo\",\"pharmacopoeias\",\"methodically\",\"rural\",\"marquetry\",\"stadium\",\"climates\",\"deviation\",\"saks\",\"dartboard\",\"providential\",\"reissued\",\"bukharin\",\"deadlocked\",\"addicting\",\"lawless\",\"rumble\",\"security\",\"gags\",\"tobogganing\",\"hereford\",\"stucco\",\"minibikes\",\"renovating\",\"tanned\",\"admonishments\",\"mccoys\",\"veblen\",\"capitol\",\"earliest\",\"serf\",\"snippiest\",\"clothes\",\"exhales\",\"seesaw\",\"obelisk\",\"spacial\",\"carolyn\",\"vantages\",\"loaf\",\"robber\",\"weepings\",\"tactlessly\",\"transition\",\"iterates\",\"peremptorily\",\"pummelling\",\"wiener\",\"pooching\",\"symbiotic\",\"vine\",\"cried\",\"remorseless\",\"engorged\",\"crusaders\",\"therapeutically\",\"locust\",\"prominently\",\"shagging\",\"biblical\",\"unplumbed\",\"remiss\",\"grovel\",\"disgustingly\",\"lifers\",\"branched\",\"crept\",\"marting\",\"autobiography\",\"suffragans\",\"hark\",\"anesthetizing\",\"summoner\",\"expectancy\",\"semen\",\"parents\",\"canvasser\",\"tenderfeet\",\"dyspeptics\",\"whigs\",\"straightedge\",\"running\",\"sylph\",\"poconos\",\"textually\",\"unabated\",\"trickster\",\"frieda\",\"stagnates\",\"waterloos\",\"wring\",\"punched\",\"postage\",\"ghostwritten\",\"extirpate\",\"transships\",\"ricardo\",\"rivera\",\"reclines\",\"maestri\",\"clampdowns\",\"negate\",\"whiplash\",\"authorizations\",\"coruscating\",\"brigantines\",\"meredith\",\"ringlets\",\"gobbed\",\"unpretentious\",\"levelers\",\"glowing\",\"cursedest\",\"retooling\",\"dowagers\",\"dolphins\",\"poem\",\"incognito\",\"deice\",\"sirs\",\"impishness\",\"apparitions\",\"interlude\",\"lottie\",\"link\",\"glassier\",\"underbidding\",\"patrolwoman\",\"parapsychology\",\"pilings\",\"chemise\",\"essen\",\"flummoxes\",\"disbelieves\",\"bravo\",\"slouches\",\"penal\",\"countersink\",\"mole\",\"absorbency\",\"doings\",\"conjuring\",\"medial\",\"ropes\",\"iroquois\",\"kirkpatrick\",\"stigmatizes\",\"pillorying\",\"lunatics\",\"scream\",\"crossovers\",\"splays\",\"deportment\",\"empire\",\"flatcar\",\"teaing\",\"declassify\",\"philippines\",\"pear\",\"berliner\",\"goldenest\",\"priced\",\"khan\",\"flo\",\"mauls\",\"dimmest\",\"yells\",\"puns\",\"severed\",\"erasing\",\"foreordain\",\"meddled\",\"gel\",\"misconducting\",\"untouched\",\"flickers\",\"extraterrestrial\",\"obituary\",\"buffalos\",\"prevaricator\",\"hoorayed\",\"parallelism\",\"phoenix\",\"totals\",\"liaison\",\"institutionalize\",\"tupperware\",\"disenchanted\",\"organisms\",\"pirouetted\",\"kelvin\",\"bewared\",\"misdoings\",\"sandra\",\"malt\",\"lavish\",\"pimento\",\"elizabethan\",\"earplugs\",\"bassinet\",\"luminescence\",\"mahabharata\",\"oaten\",\"coolant\",\"cr\",\"associated\",\"policies\",\"passport\",\"exists\",\"fertilizes\",\"apprehensive\",\"lara\",\"move\",\"beauteously\",\"razed\",\"aggregation\",\"dainty\",\"osborn\",\"scoring\",\"swift\",\"climbs\",\"schwarzkopf\",\"economics\",\"scrumptious\",\"di\",\"ferraro\",\"microwaving\",\"liverpudlian\",\"influences\",\"sandhog\",\"relegates\",\"potsherd\",\"jaywalker\",\"heston\",\"quivers\",\"privateers\",\"refinement\",\"incontrovertible\",\"syriac\",\"commodes\",\"sanctioning\",\"cooperates\",\"tattles\",\"pakistan\",\"adz\",\"fascinates\",\"capitulating\",\"unwarier\",\"monarchy\",\"ascertained\",\"doping\",\"percheron\",\"wardroom\",\"evaded\",\"accession\",\"loophole\",\"restarting\",\"dryer\",\"derringers\",\"handbill\",\"brunswick\",\"dealt\",\"quiescence\",\"changed\",\"instigators\",\"racked\",\"dram\",\"floorboards\",\"slap\",\"implicit\",\"pigged\",\"disestablishing\",\"squishes\",\"obtruding\",\"willed\",\"gusty\",\"traumata\",\"lighthouse\",\"teen\",\"spinster\",\"sharpest\",\"majors\",\"fluoride\",\"maleness\",\"jared\",\"repaint\",\"jarlsberg\",\"matisse\",\"cicatrice\",\"emerge\",\"transgressions\",\"impregnate\",\"definers\",\"supposings\",\"evelyn\",\"karl\",\"centigramme\",\"loner\",\"relinquishment\",\"claustrophobic\",\"display\",\"pubbed\",\"dewberries\",\"besieged\",\"grosz\",\"scanter\",\"sublimely\",\"ind\",\"ophthalmic\",\"schoolteachers\",\"o\",\"mannheim\",\"hodgepodge\",\"unison\",\"overselling\",\"yessed\",\"blocked\",\"agreement\",\"tracery\",\"promoter\",\"handicaps\",\"search\",\"straw\",\"opinionated\",\"anorexics\",\"koshering\",\"orthopaedist\",\"cranmer\",\"tributary\",\"annapurna\",\"regrets\",\"harrison\",\"giants\",\"kathy\",\"randolph\",\"chairwoman\",\"anecdotes\",\"arno\",\"spaced\",\"throat\",\"mondale\",\"devastated\",\"sit\",\"acquit\",\"zincing\",\"silenter\",\"disenfranchise\",\"aggravations\",\"reamer\",\"authentic\",\"mythical\",\"overburden\",\"anaemic\",\"emulation\",\"shop\",\"preoccupying\",\"adjoined\",\"sparks\",\"receivers\",\"aggravate\",\"ministrations\",\"thirteens\",\"prejudged\",\"rightly\",\"august\",\"leno\",\"processors\",\"commerce\",\"marlboro\",\"leveler\",\"convinced\",\"anthill\",\"tethers\",\"timurid\",\"fatherless\",\"unfeelingly\",\"remodelled\",\"schoolhouse\",\"gorky\",\"rummaged\",\"gladioluses\",\"blare\",\"communicants\",\"enameled\",\"cleopatra\",\"fissures\",\"buttery\",\"reverberates\",\"pennon\",\"uneconomic\",\"permanently\",\"entrenchment\",\"propound\",\"schoolboys\",\"gobbling\",\"kerosine\",\"backpacks\",\"invoked\",\"broadly\",\"mange\",\"semaphoring\",\"camerae\",\"poured\",\"brattiest\",\"celestas\",\"remonstrates\",\"ngaliema\",\"falseness\",\"paraplegic\",\"cramps\",\"unitarian\",\"dinghies\",\"maddens\",\"imbroglios\",\"sergio\",\"southwesters\",\"chasten\",\"fleischer\",\"conjunction\",\"museums\",\"unnoticed\",\"rebirths\",\"compulsions\",\"carotids\",\"equitable\",\"hypodermic\",\"sizes\",\"critique\",\"spanking\",\"intransigents\",\"inset\",\"peron\",\"exterminating\",\"protozoans\",\"ideographs\",\"louisville\",\"stationed\",\"tormentors\",\"credence\",\"curviest\",\"misdemeanor\",\"tranquilest\",\"satisfy\",\"subsistence\",\"gina\",\"montages\",\"rifles\",\"bequests\",\"tendentiousness\",\"impasses\",\"chimney\",\"register\",\"salamanders\",\"afternoon\",\"expensive\",\"defining\",\"glandular\",\"chagrined\",\"voices\",\"olympians\",\"disapprovingly\",\"editorship\",\"shillings\",\"validated\",\"lame\",\"rupees\",\"wielded\",\"voled\",\"maxes\",\"targeted\",\"firebreak\",\"substantially\",\"domingo\",\"outmaneuver\",\"chalet\",\"ulcered\",\"anyplace\",\"immaterial\",\"placebo\",\"untangles\",\"ar\",\"unnerved\",\"frumps\",\"incarcerating\",\"misapprehension\",\"fattiest\",\"preventible\",\"jennifer\",\"tan\",\"intercontinental\",\"white\",\"latticework\",\"flowers\",\"spitz\",\"insurances\",\"institutionalizes\",\"praise\",\"insuring\",\"flinched\",\"inclement\",\"handsprings\",\"codependents\",\"armholes\",\"smashed\",\"cymbal\",\"depresses\",\"gentler\",\"szymborska\",\"everlasting\",\"lice\",\"kurile\",\"reduction\",\"atkins\",\"pimpliest\",\"grip\",\"instil\",\"extraditions\",\"nonplussed\",\"flatteringly\",\"galahads\",\"reprocesses\",\"whimpers\",\"gusted\",\"sullen\",\"mufflers\",\"plinth\",\"intones\",\"tuned\",\"revitalize\",\"bataan\",\"unearth\",\"upping\",\"naughtiness\",\"enquiry\",\"incorruptible\",\"reassesses\",\"rough\",\"mitterrand\",\"tranquilizing\",\"occasioning\",\"bevy\",\"modify\",\"brawniest\",\"punt\",\"brenton\",\"circularity\",\"juarez\",\"purebreds\",\"disparagement\",\"produces\",\"wallow\",\"occurring\",\"dickers\",\"authoritarianism\",\"leopard\",\"stout\",\"cottonwood\",\"chichiest\",\"moisturizers\",\"pallet\",\"summeriest\",\"grilling\",\"garlicked\",\"very\",\"enters\",\"bewitched\",\"collides\",\"sc\",\"fishbowl\",\"alkaid\",\"calicos\",\"endorsements\",\"clavicles\",\"corralled\",\"brocade\",\"mortgaged\",\"uncontroversial\",\"undercharge\",\"poise\",\"plagiarisms\",\"grebe\",\"aggrieve\",\"stubbly\",\"croesus\",\"echelon\",\"ascribing\",\"blackshirt\",\"jeremiads\",\"investigations\",\"naturalized\",\"cyclamens\",\"fillers\",\"paraguay\",\"structural\",\"ho\",\"massive\",\"lubavitcher\",\"repletes\",\"poisons\",\"migration\",\"sublimer\",\"tutors\",\"peiping\",\"centenary\",\"devoured\",\"dare\",\"want\",\"entitling\",\"church\",\"paucity\",\"midway\",\"slops\",\"sidekick\",\"upbeat\",\"stepson\",\"behemoths\",\"campground\",\"windswept\",\"sunbeams\",\"monuments\",\"costlier\",\"shockproof\",\"admirals\",\"teach\",\"fallout\",\"defaulter\",\"oxymorons\",\"saunders\",\"trinity\",\"irrational\",\"finns\",\"yeats\",\"tannest\",\"hoarse\",\"gazetting\",\"strangled\",\"suggester\",\"prefabbing\",\"jigsawed\",\"vehemence\",\"jointing\",\"halfpennies\",\"chumash\",\"indecentest\",\"riverfronts\",\"dustpan\",\"idlest\",\"quieted\",\"chaplains\",\"ariosto\",\"overprice\",\"ginny\",\"chronicle\",\"lap\",\"glassiest\",\"delegate\",\"patriots\",\"multifariousness\",\"warms\",\"signifying\",\"refashions\",\"streetlights\",\"customizes\",\"bipartite\",\"rankles\",\"cracker\",\"castries\",\"erogenous\",\"cleverer\",\"peddle\",\"wartiest\",\"coven\",\"refundable\",\"resurgent\",\"ton\",\"xenakis\",\"adulteress\",\"prevaricators\",\"saloons\",\"counties\",\"wanton\",\"gleaned\",\"stilettos\",\"laundresses\",\"rube\",\"irritate\",\"consults\",\"remarkable\",\"gunsmith\",\"formosan\",\"neutralizer\",\"tanners\",\"dissonances\",\"hatcheries\",\"bereaving\",\"elevations\",\"strumpet\",\"loadstone\",\"antibody\",\"upstarted\",\"wainscottings\",\"gratefully\",\"prepayment\",\"spine\",\"embitters\",\"firehouse\",\"nipple\",\"abhorred\",\"reveller\",\"bowdlerized\",\"bushiness\",\"scrapes\",\"surplussing\",\"tylenol\",\"garners\",\"astonished\",\"workplace\",\"conway\",\"deforesting\",\"pyxed\",\"transship\",\"persons\",\"bogging\",\"trojans\",\"areas\",\"beatings\",\"plays\",\"denominators\",\"aimlessly\",\"ricochetting\",\"scan\",\"voluptuous\",\"atrocious\",\"epiglottises\",\"modernize\",\"tourmaline\",\"nimbi\",\"honester\",\"sleuth\",\"repartees\",\"songs\",\"uprooted\",\"deacons\",\"cains\",\"unloosed\",\"discourtesies\",\"disclaim\",\"permutation\",\"colitis\",\"acclimatisation\",\"alcuin\",\"hypothesized\",\"crisply\",\"beggars\",\"critiqued\",\"nuder\",\"beat\",\"jocked\",\"daguerreotyping\",\"shuttlecocking\",\"skited\",\"shellacking\",\"jeeringly\",\"recollected\",\"gateway\",\"duracell\",\"militant\",\"faithful\",\"straddled\",\"hairless\",\"turret\",\"supernatural\",\"adjectivally\",\"smouldering\",\"patiently\",\"inherited\",\"pebbled\",\"connery\",\"equivocation\",\"strews\",\"fuzed\",\"daniels\",\"nostrils\",\"petrochemical\",\"obloquy\",\"goldfinch\",\"inamoratas\",\"librettists\",\"shaffer\",\"dusters\",\"urban\",\"affirmatively\",\"merrick\",\"interoffice\",\"uriah\",\"lamasery\",\"tamely\",\"irish\",\"disgruntles\",\"commencing\",\"grus\",\"mightier\",\"soddy\",\"propositional\",\"victoria\",\"bemusing\",\"illiterate\",\"altruist\",\"martyred\",\"praiseworthy\",\"puree\",\"poring\",\"disappoint\",\"fencer\",\"giggling\",\"toffy\",\"duran\",\"william\",\"christies\",\"incisively\",\"checkpoint\",\"conceiving\",\"tapestry\",\"incarceration\",\"alleged\",\"salivated\",\"loam\",\"modal\",\"assumed\",\"purveyor\",\"bonbons\",\"exacerbated\",\"leave\",\"devour\",\"pork\",\"lapp\",\"milking\",\"converses\",\"laces\",\"crustaceans\",\"drivelled\",\"reprobate\",\"outings\",\"shrinks\",\"saddening\",\"pinch\",\"unproven\",\"shareholder\",\"blacks\",\"bisect\",\"tied\",\"bloodshed\",\"profanity\",\"kannada\",\"sara\",\"exhibitionist\",\"roughened\",\"condense\",\"caption\",\"yellowing\",\"scrip\",\"despicably\",\"holdup\",\"ruddied\",\"interrogator\",\"groggy\",\"tops\",\"telekinesis\",\"cadaverous\",\"perfidy\",\"promulgate\",\"carina\",\"dusted\",\"robbery\",\"undresses\",\"phalli\",\"bilge\",\"aggregating\",\"megaphones\",\"fatten\",\"waste\",\"resignation\",\"indubitable\",\"eject\",\"kinkiest\",\"tiffing\",\"moping\",\"kebob\",\"poky\",\"inquiringly\",\"wove\",\"countenanced\",\"idle\",\"mosley\",\"enrico\",\"motherboards\",\"shantung\",\"unbuttoned\",\"spheroids\",\"salvaged\",\"respectively\",\"westing\",\"coccyxes\",\"overdraw\",\"treetop\",\"juneau\",\"stall\",\"backer\",\"cognomens\",\"angelic\",\"introductions\",\"telecast\",\"beep\",\"towed\",\"dukedom\",\"spinoff\",\"motto\",\"tantalizingly\",\"untiringly\",\"tousle\",\"impeccable\",\"rolodex\",\"slavs\",\"kayaks\",\"proposals\",\"departure\",\"hex\",\"locating\",\"bypassing\",\"drawer\",\"misused\",\"cather\",\"marmot\",\"pattered\",\"superlative\",\"retrievable\",\"frostiest\",\"clamored\",\"ethernet\",\"mont\",\"coexist\",\"phalanx\",\"complicating\",\"basic\",\"anthologists\",\"yevtushenko\",\"torture\",\"ines\",\"mullins\",\"unfaithful\",\"pecking\",\"costumed\",\"isidro\",\"brotherhood\",\"carlene\",\"humblest\",\"showeriest\",\"portentous\",\"puzzler\",\"bailout\",\"dropsy\",\"diffuse\",\"blindfolded\",\"uproarious\",\"upanishads\",\"smooth\",\"paunches\",\"liquefaction\",\"wiggle\",\"rejection\",\"particle\",\"aeries\",\"ceramic\",\"undecided\",\"compassing\",\"appurtenances\",\"gyrate\",\"skinner\",\"rostrum\",\"retreated\",\"composing\",\"ares\",\"tenements\",\"roadrunners\",\"misapprehending\",\"mozzarella\",\"thorazine\",\"wallaby\",\"liebfraumilch\",\"frameworks\",\"elroy\",\"crams\",\"reanimate\",\"whistle\",\"waving\",\"flaunted\",\"vocative\",\"quiting\",\"edelweiss\",\"recompiling\",\"superintendent\",\"musician\",\"pillioned\",\"cobble\",\"tee\",\"scatting\",\"beaufort\",\"lyceum\",\"putrefies\",\"exonerated\",\"playwright\",\"constitutionals\",\"neutrality\",\"carbonated\",\"thruway\",\"redistricts\",\"decadently\",\"nicklaus\",\"barbiturate\",\"domicile\",\"escalator\",\"turncoats\",\"geriatric\",\"dittos\",\"interceding\",\"boozes\",\"complimented\",\"pomerania\",\"literary\",\"marxisms\",\"handicapper\",\"guises\",\"sublimes\",\"fountained\",\"materialism\",\"lentil\",\"apt\",\"workload\",\"dudgeon\",\"screwdriver\",\"concerti\",\"zoomed\",\"ailerons\",\"counseled\",\"rediscovery\",\"hothousing\",\"goth\",\"undecideds\",\"symbolics\",\"novokuznetsk\",\"esteemed\",\"lambkins\",\"treachery\",\"manacling\",\"evaporated\",\"curio\",\"sanders\",\"viola\",\"equivocal\",\"clumps\",\"jujitsu\",\"egress\",\"portrayals\",\"acclimated\",\"graves\",\"weirdness\",\"caprice\",\"film\",\"romp\",\"negotiable\",\"fillies\",\"tucking\",\"troublemaker\",\"communistic\",\"extemporizes\",\"flowery\",\"forties\",\"ghoulish\",\"spaniels\",\"merrill\",\"sundown\",\"emeries\",\"mandrake\",\"been\",\"conceptions\",\"knitting\",\"kiddy\",\"blink\",\"lindy\",\"doweled\",\"disassembling\",\"burger\",\"genii\",\"manges\",\"oligarchs\",\"caesuras\",\"asphalting\",\"collision\",\"chatterer\",\"gendarme\",\"ruminating\",\"safekeeping\",\"wreaking\",\"carbuncle\",\"boor\",\"inducement\",\"belay\",\"bangladesh\",\"predeceased\",\"marxism\",\"humors\",\"coppicing\",\"empathy\",\"roomer\",\"upstreaming\",\"bales\",\"frontiers\",\"dredges\",\"timezone\",\"mouthfuls\",\"media\",\"downwind\",\"carollers\",\"postludes\",\"insurrectionists\",\"infrequently\",\"wee\",\"syphilis\",\"wanna\",\"stutterers\",\"peritonitis\",\"mar\",\"spartans\",\"taprooms\",\"memoir\",\"blankenship\",\"misbehaves\",\"predictions\",\"wino\",\"exuding\",\"paperbacked\",\"concludes\",\"southbound\",\"uncompressed\",\"opalescence\",\"stoker\",\"lawfulness\",\"butlering\",\"repudiations\",\"maxima\",\"extensional\",\"sufism\",\"zens\",\"corkscrewed\",\"beseeching\",\"ariadne\",\"commandments\",\"toledo\",\"strums\",\"jangles\",\"rommel\",\"consanguinity\",\"afire\",\"punchy\",\"yippee\",\"cataleptic\",\"cases\",\"retrospection\",\"insecurity\",\"bequeathing\",\"presently\",\"assured\",\"kirchhoff\",\"collections\",\"inquiries\",\"extraordinarily\",\"terkel\",\"geed\",\"klutz\",\"campaigner\",\"mainsail\",\"upsurges\",\"fortune\",\"pods\",\"fields\",\"prejudiced\",\"shredder\",\"yugoslavia\",\"pitches\",\"guesstimate\",\"dirty\",\"negroes\",\"psychological\",\"baccalaureates\",\"mount\",\"mazarin\",\"floppier\",\"villain\",\"preventing\",\"mutual\",\"perforce\",\"scientist\",\"initials\",\"bisque\",\"bloopers\",\"occupying\",\"repayment\",\"stratifies\",\"wiseacres\",\"girlfriend\",\"sisal\",\"fleece\",\"alphabetically\",\"waxwings\",\"castaway\",\"minnelli\",\"brainstormed\",\"frostbelt\",\"overwriting\",\"leisure\",\"entertainer\",\"recast\",\"deflates\",\"grooves\",\"concedes\",\"conveys\",\"contesting\",\"thermostat\",\"michael\",\"constrict\",\"posteriors\",\"administer\",\"shaped\",\"brueghel\",\"displeased\",\"bronzed\",\"lambskins\",\"disadvantage\",\"haiphong\",\"weirds\",\"misinform\",\"absurdities\",\"departmentalized\",\"pinpricked\",\"distances\",\"electorates\",\"dispensaries\",\"motlier\",\"rarefied\",\"revokes\",\"herzegovina\",\"damaged\",\"hume\",\"discoloration\",\"misjudgement\",\"liberian\",\"irking\",\"tax\",\"surfaced\",\"perpetuation\",\"shows\",\"terminus\",\"doritos\",\"ensembles\",\"tenderized\",\"choristers\",\"undertake\",\"celebrant\",\"finaglers\",\"debora\",\"sprinting\",\"ladles\",\"drawings\",\"junket\",\"burks\",\"spelunker\",\"atlases\",\"ginsu\",\"lovings\",\"squirm\",\"truncating\",\"newcomer\",\"conference\",\"pena\",\"narnia\",\"adolfo\",\"appraisals\",\"ariel\",\"hampton\",\"crinkle\",\"situations\",\"juliet\",\"digits\",\"vex\",\"preeminence\",\"anchovies\",\"debarred\",\"weller\",\"bathed\",\"congenital\",\"sandwiching\",\"palliation\",\"undeniably\",\"settled\",\"included\",\"unorganized\",\"staggers\",\"oxnard\",\"senator\",\"salesmen\",\"slightly\",\"orlon\",\"surreptitious\",\"traditions\",\"paige\",\"annihilation\",\"joyrode\",\"qingdao\",\"deadline\",\"vaunted\",\"hogwash\",\"federals\",\"chaotically\",\"lettering\",\"tunisians\",\"indisposed\",\"svelter\",\"chaplaincy\",\"preens\",\"ascents\",\"allegros\",\"heaviness\",\"socratic\",\"vesper\",\"sana\",\"ascendent\",\"tumult\",\"biannually\",\"welt\",\"slaphappiest\",\"addict\",\"awing\",\"silting\",\"juggernaut\",\"comedies\",\"panmunjom\",\"prizefights\",\"heifer\",\"ferocious\",\"percale\",\"inexpressible\",\"thermostats\",\"oneal\",\"sunblocks\",\"lusciously\",\"bop\",\"exigencies\",\"griffins\",\"loop\",\"braves\",\"reception\",\"punches\",\"popularizes\",\"vivaciousness\",\"serialization\",\"actively\",\"soggiest\",\"thant\",\"toshiba\",\"rookeries\",\"civilities\",\"misconstruing\",\"forgoing\",\"pi\",\"polygraph\",\"aisled\",\"compresses\",\"browbeating\",\"skywriters\",\"scrimmaging\",\"caparison\",\"custer\",\"sancta\",\"shoppers\",\"cattlemen\",\"batty\",\"espousal\",\"trumpeter\",\"fathomed\",\"acquiting\",\"residuals\",\"seminole\",\"penny\",\"adapted\",\"chanter\",\"inescapable\",\"citizenship\",\"headwind\",\"cowslips\",\"nightshades\",\"tameness\",\"brownie\",\"kramer\",\"magnetosphere\",\"skaters\",\"defies\",\"vowing\",\"annexing\",\"amortizations\",\"sunburning\",\"execution\",\"cordite\",\"patinas\",\"defile\",\"jeeps\",\"stewardship\",\"projection\",\"macroscopic\",\"endowment\",\"vocalics\",\"discussion\",\"printable\",\"baobabs\",\"colfax\",\"squirrelling\",\"kaput\",\"overabundance\",\"burglarizing\",\"culbertson\",\"kyrgyzstan\",\"voodooed\",\"treacherous\",\"muppet\",\"elinor\",\"moonshot\",\"castaneda\",\"gypsies\",\"playpen\",\"backfield\",\"raffish\",\"loudness\",\"pinkies\",\"dijkstra\",\"chafed\",\"bridgeport\",\"phantasm\",\"bronchus\",\"soundproof\",\"clinic\",\"shelving\",\"prostitution\",\"foretold\",\"amerindians\",\"stairwells\",\"exhaustively\",\"kneads\",\"inconstancy\",\"negating\",\"pinwheels\",\"males\",\"metrically\",\"proverbially\",\"ripes\",\"recanting\",\"diarists\",\"thump\",\"ads\",\"ottawa\",\"useless\",\"properly\",\"route\",\"pusan\",\"wafer\",\"rubied\",\"crankcases\",\"regret\",\"hannah\",\"wiesenthal\",\"load\",\"rewinds\",\"partnered\",\"phenomenons\",\"nominates\",\"chubbiness\",\"sensible\",\"elba\",\"incurring\",\"reopening\",\"earthquakes\",\"bodyguard\",\"record\",\"matriculating\",\"dive\",\"sogginess\",\"overgrows\",\"bankrupt\",\"quickened\",\"rekindling\",\"angularity\",\"offends\",\"oscillates\",\"lives\",\"ported\",\"pompon\",\"warehouses\",\"manumitting\",\"easterners\",\"resound\",\"demoralizing\",\"knavish\",\"sq\",\"doorknob\",\"allegorically\",\"orphan\",\"winded\",\"chanukahs\",\"hoeing\",\"dogwoods\",\"diphthongs\",\"disemboweled\",\"jasper\",\"seraph\",\"countermanding\",\"sises\",\"druid\",\"manful\",\"analysts\",\"saints\",\"disassociate\",\"sniggers\",\"battlefield\",\"gustavus\",\"optimism\",\"combs\",\"rebuttals\",\"casablanca\",\"frankie\",\"marisa\",\"logotypes\",\"cloning\",\"ridge\",\"frye\",\"instal\",\"darvon\",\"knackwursts\",\"abutting\",\"equivalently\",\"tat\",\"hermit\",\"layettes\",\"poxed\",\"rustlers\",\"enslaving\",\"postmistresses\",\"tucked\",\"mig\",\"wafted\",\"proofreading\",\"flypaper\",\"toxicologists\",\"carmine\",\"harmoniously\",\"corpses\",\"policemen\",\"gauche\",\"encephalitis\",\"prismatic\",\"coronaries\",\"fluoroscope\",\"catapults\",\"slothfulness\",\"like\",\"theorized\",\"vulnerability\",\"tighter\",\"gnarlier\",\"nefariousness\",\"publicly\",\"dissed\",\"brandeis\",\"jambing\",\"conjunctivitis\",\"blench\",\"multiplicand\",\"sumerian\",\"nonmalignant\",\"jaunted\",\"accompanies\",\"braved\",\"jobless\",\"languishing\",\"towelled\",\"realtor\",\"vitalizes\",\"coworker\",\"trickling\",\"climactic\",\"snip\",\"comprehend\",\"bloat\",\"balloted\",\"avaricious\",\"pivoting\",\"blackmailer\",\"recharged\",\"decal\",\"turboprop\",\"reed\",\"garb\",\"magnums\",\"hotbeds\",\"outreaches\",\"bishop\",\"prophetically\",\"exercising\",\"sported\",\"vivid\",\"mushrooming\",\"lydia\",\"inadmissible\",\"aviator\",\"rastaban\",\"protean\",\"chlorofluorocarbons\",\"improvises\",\"organized\",\"nicely\",\"golfers\",\"tsars\",\"snuffle\",\"wastebaskets\",\"buffers\",\"willemstad\",\"parka\",\"forecasted\",\"substantiates\",\"ptolemy\",\"haberdashers\",\"weedier\",\"outstripped\",\"horthy\",\"mamboed\",\"fireplaces\",\"churchgoers\",\"cringe\",\"shout\",\"staci\",\"commercially\",\"fungal\",\"correctives\",\"tearjerkers\",\"execrates\",\"push\",\"woken\",\"tin\",\"employes\",\"pushed\",\"earwax\",\"flakes\",\"liturgies\",\"global\",\"open\",\"pompoms\",\"callow\",\"barbarously\",\"physicking\",\"dermatology\",\"overwritten\",\"rewinding\",\"proterozoic\",\"simulcasts\",\"domesticating\",\"individually\",\"muriel\",\"rhyme\",\"developer\",\"crozier\",\"anonymous\",\"symbolism\",\"priggish\",\"archaisms\",\"murderous\",\"teeter\",\"prop\",\"abounded\",\"epaulettes\",\"germane\",\"morbidity\",\"sexiest\",\"zworykin\",\"lyly\",\"limit\",\"undertaking\",\"reincarnate\",\"nevermore\",\"reefer\",\"insisted\",\"fables\",\"spiraling\",\"dispossesses\",\"resembles\",\"frippery\",\"shortchanged\",\"squiggled\",\"shagginess\",\"predecease\",\"persecutions\",\"wheal\",\"frosted\",\"scarifies\",\"without\",\"anticking\",\"excellencies\",\"embellished\",\"mood\",\"squashier\",\"snouted\",\"strategy\",\"screams\",\"chitchats\",\"naughty\",\"bailey\",\"ambitiously\",\"uninhabitable\",\"staunches\",\"impeccables\",\"sidewise\",\"digestible\",\"haloed\",\"antagonistically\",\"chartism\",\"evolving\",\"weeknights\",\"pothooks\",\"heros\",\"fishhooks\",\"modicum\",\"handspring\",\"mainly\",\"ousters\",\"viburnums\",\"criminology\",\"finishing\",\"analytically\",\"apologies\",\"christens\",\"abstentions\",\"mci\",\"nacho\",\"reports\",\"monstrosities\",\"nongovernmental\",\"copacabana\",\"leg\",\"misconducted\",\"irks\",\"enjoining\",\"unmentionable\",\"starving\",\"brayed\",\"pummel\",\"jiggle\",\"spooned\",\"pulsation\",\"ambidextrous\",\"dendrite\",\"firewater\",\"topmost\",\"corpora\",\"designate\",\"legislator\",\"schedar\",\"portering\",\"politicked\",\"backdates\",\"deluges\",\"locales\",\"schmuck\",\"lyell\",\"mikes\",\"doorstep\",\"perked\",\"centenaries\",\"sprucing\",\"rainier\",\"jesuits\",\"proclamations\",\"kremlin\",\"salads\",\"beauticians\",\"eels\",\"frying\",\"godzilla\",\"boatman\",\"menopausal\",\"heydays\",\"newsier\",\"incalculably\",\"rubbers\",\"looneys\",\"vaccinate\",\"glissandi\",\"peyote\",\"climax\",\"stools\",\"bloods\",\"unintelligent\",\"revivalist\",\"conditioners\",\"kidders\",\"abscissas\",\"lorrie\",\"third\",\"workhorse\",\"setups\",\"visioned\",\"shorn\",\"windmilled\",\"stochastic\",\"beebe\",\"doubter\",\"cropper\",\"personages\",\"bettye\",\"overawing\",\"flanks\",\"nonviolence\",\"kidnapper\",\"yups\",\"megaton\",\"stevie\",\"perusals\",\"halters\",\"emote\",\"overprinted\",\"phalanxes\",\"deltas\",\"formatting\",\"virulently\",\"wingers\",\"pepperonis\",\"everett\",\"alta\",\"riveting\",\"varlets\",\"wader\",\"mesas\",\"unlatched\",\"unicycle\",\"progeny\",\"firebrand\",\"chickens\",\"yelped\",\"re\",\"elks\",\"outflank\",\"iniquitous\",\"boleyn\",\"births\",\"news\",\"modem\",\"deacon\",\"cuspid\",\"namibian\",\"milwaukee\",\"sulfurous\",\"celled\",\"incubated\",\"sparkle\",\"dins\",\"begonia\",\"yodels\",\"disconsolately\",\"warty\",\"kristine\",\"flyover\",\"perspiring\",\"upton\",\"eglantine\",\"implements\",\"jitterbugged\",\"randomly\",\"imminence\",\"refocusing\",\"tarzan\",\"cockscombs\",\"enrols\",\"abilities\",\"bulgarian\",\"sporing\",\"terming\",\"fulminate\",\"guevara\",\"shuns\",\"inked\",\"truckload\",\"audiences\",\"fijian\",\"swamps\",\"inflict\",\"disbelief\",\"worrier\",\"websites\",\"footsteps\",\"jaxartes\",\"faggot\",\"bring\",\"bagging\",\"systematically\",\"sobbing\",\"ranter\",\"polished\",\"navajoes\",\"reuther\",\"binging\",\"sagittarius\",\"kim\",\"bookstore\",\"keyboarding\",\"dutchmen\",\"backboards\",\"alternatives\",\"decided\",\"depreciates\",\"fates\",\"sorted\",\"adjacently\",\"turnover\",\"breaking\",\"biospheres\",\"gavottes\",\"fulminates\",\"hostessed\",\"ergs\",\"deputizes\",\"millay\",\"speeder\",\"adhering\",\"hagiographa\",\"lugging\",\"bustling\",\"circumspect\",\"romping\",\"galleried\",\"defy\",\"ronda\",\"robbie\",\"kite\",\"cervical\",\"connectives\",\"shaven\",\"loanword\",\"muesli\",\"veterinaries\",\"courtesans\",\"sargon\",\"goofing\",\"nephritis\",\"cuddliest\",\"tided\",\"avoiding\",\"torched\",\"donutted\",\"dolling\",\"furloughs\",\"flavors\",\"hyperspace\",\"milk\",\"quartet\",\"sterning\",\"autoworker\",\"countersigns\",\"ruskin\",\"confectionery\",\"splashy\",\"distinctions\",\"liquidation\",\"rhomboids\",\"efren\",\"counter\",\"rapture\",\"lessened\",\"predisposing\",\"specializing\",\"abductors\",\"diagonally\",\"alloy\",\"infectious\",\"bandit\",\"incarnation\",\"biology\",\"kohl\",\"quintessences\",\"guthrie\",\"parody\",\"sours\",\"obscured\",\"ramification\",\"undertakers\",\"untold\",\"greasing\",\"thawed\",\"crumbed\",\"adoration\",\"permanent\",\"glass\",\"fuzzes\",\"intentness\",\"wilkes\",\"amaranths\",\"embezzler\",\"classed\",\"mincemeat\",\"reiteration\",\"innocuously\",\"calamines\",\"unexceptional\",\"eucharists\",\"fratricide\",\"microphones\",\"salk\",\"aspic\",\"religions\",\"surmount\",\"cage\",\"ostracism\",\"inspected\",\"stopped\",\"sloping\",\"gurgle\",\"sic\",\"helpers\",\"carets\",\"kneeing\",\"appraiser\",\"sedater\",\"rubicon\",\"plumb\",\"twofer\",\"cinematic\",\"ballistics\",\"criterions\",\"walk\",\"undisputed\",\"slitted\",\"bled\",\"yowled\",\"whets\",\"reentry\",\"mestizoes\",\"noels\",\"trestle\",\"dodged\",\"missouri\",\"hoffman\",\"thanksgivings\",\"moder\",\"damascus\",\"batting\",\"spoke\",\"dotingly\",\"penalize\",\"biochemists\",\"togae\",\"unsaying\",\"auschwitz\",\"cameroon\",\"reinserted\",\"hellespont\",\"enzymes\",\"underworld\",\"donning\",\"downstream\",\"yearnings\",\"cozily\",\"perceptive\",\"wrings\",\"congesting\",\"forename\",\"pooling\",\"hectoring\",\"gritty\",\"armatures\",\"liens\",\"infinitesimally\",\"consummations\",\"austerely\",\"knuckle\",\"casualty\",\"harpsichord\",\"incoming\",\"previewed\",\"amniocentesis\",\"situates\",\"raffia\",\"scaramouch\",\"unenlightened\",\"relationship\",\"stirrups\",\"sabbath\",\"chirrup\",\"tourney\",\"pupas\",\"tone\",\"suffers\",\"falling\",\"burbank\",\"collectibles\",\"soaping\",\"rehearsal\",\"crosier\",\"syphilitics\",\"decrepitude\",\"uncannily\",\"axiomatically\",\"modulated\",\"middy\",\"intoxicate\",\"oklahomans\",\"buckskins\",\"divorce\",\"distributes\",\"hellenize\",\"peters\",\"locate\",\"saar\",\"verbals\",\"keg\",\"bombardier\",\"bribing\",\"grosses\",\"sag\",\"ivanhoe\",\"hollered\",\"paraphrases\",\"grouch\",\"importunes\",\"underbids\",\"diehard\",\"selectman\",\"slugging\",\"caisson\",\"carcinomata\",\"supering\",\"inhalators\",\"spittle\",\"approximates\",\"heep\",\"predecessors\",\"inlay\",\"indecency\",\"strewed\",\"multinationals\",\"ogbomosho\",\"wavy\",\"managing\",\"recombination\",\"cottaging\",\"toils\",\"decriminalize\",\"netherlanders\",\"wannest\",\"shinnying\",\"sticks\",\"kilos\",\"franchised\",\"toleration\",\"vista\",\"riping\",\"timeworn\",\"ticonderoga\",\"ventriloquism\",\"trapping\",\"competitive\",\"morton\",\"pierrot\",\"gallstone\",\"milkweeds\",\"viscountess\",\"atonality\",\"scuffles\",\"hindustan\",\"streaked\",\"overreached\",\"disproportionating\",\"rudest\",\"kilometers\",\"storekeeper\",\"fickler\",\"finish\",\"discerns\",\"frilliest\",\"horseradish\",\"vermont\",\"coeducational\",\"fairground\",\"cavalcades\",\"calfs\",\"cubbyholes\",\"acrux\",\"clop\",\"poesy\",\"tramps\",\"disowning\",\"scalloped\",\"katelyn\",\"ostracizing\",\"warping\",\"douay\",\"infraction\",\"nominations\",\"housebroken\",\"crossbeams\",\"pulped\",\"goodyear\",\"notation\",\"loathe\",\"positional\",\"widespread\",\"belmopan\",\"bias\",\"breadfruit\",\"problematical\",\"gringo\",\"quicker\",\"academically\",\"loon\",\"alec\",\"smile\",\"hotels\",\"grandstand\",\"rape\",\"walkway\",\"nonliving\",\"monarchic\",\"napes\",\"programmables\",\"agonize\",\"grandparents\",\"cherished\",\"libidinous\",\"battalions\",\"cram\",\"readout\",\"skylights\",\"subsidy\",\"landowners\",\"sheering\",\"yukking\",\"reinterpret\",\"dot\",\"epithets\",\"malaria\",\"mixtures\",\"calico\",\"proofing\",\"coped\",\"candling\",\"sensitiveness\",\"facing\",\"stye\",\"gabby\",\"campinas\",\"hums\",\"collectivize\",\"ringlet\",\"orator\",\"racecourse\",\"deejay\",\"triviality\",\"gall\",\"laval\",\"relabeled\",\"forbade\",\"quenched\",\"irksome\",\"microwave\",\"sinkholes\",\"edna\",\"baited\",\"joyfully\",\"coherently\",\"bloch\",\"snuffboxes\",\"mortified\",\"perorations\",\"rat\",\"flossed\",\"nicaraguan\",\"mooring\",\"wefts\",\"braggart\",\"suleiman\",\"chastity\",\"ronny\",\"subcutaneous\",\"woefully\",\"cavalryman\",\"bets\",\"colgate\",\"pizzas\",\"elegiac\",\"tame\",\"unitarians\",\"simone\",\"lousy\",\"resuscitators\",\"presumptions\",\"impress\",\"seminars\",\"armand\",\"ionesco\",\"mcveigh\",\"catalan\",\"technical\",\"plumping\",\"nurturing\",\"cabbies\",\"tenacity\",\"drawling\",\"boggiest\",\"thai\",\"headhunters\",\"lodestar\",\"brute\",\"grayish\",\"gushy\",\"pancaked\",\"politicize\",\"college\",\"algebras\",\"medically\",\"cleanings\",\"nahum\",\"sappier\",\"mosaic\",\"parmesan\",\"spews\",\"colludes\",\"suzuki\",\"squirmier\",\"mcmahon\",\"trouts\",\"misdirecting\",\"culturing\",\"sledding\",\"waifing\",\"nilled\",\"lees\",\"blent\",\"conformist\",\"concord\",\"sultriest\",\"stigmata\",\"scriptwriter\",\"machismo\",\"ceases\",\"unthinkingly\",\"confidence\",\"refined\",\"braises\",\"lethargy\",\"accusative\",\"feminines\",\"divisors\",\"deportations\",\"immunize\",\"bloodhounds\",\"quartos\",\"astutely\",\"scalped\",\"rotundness\",\"sayers\",\"mineralogists\",\"regent\",\"paleontologist\",\"iowans\",\"inuit\",\"unbidden\",\"daugherty\",\"chintziest\",\"neared\",\"compliance\",\"blustery\",\"cantor\",\"adamant\",\"manicurists\",\"concepts\",\"jefferey\",\"undoubted\",\"prosody\",\"limos\",\"circumvention\",\"friend\",\"fatuousness\",\"freebie\",\"calyx\",\"maldivian\",\"demagnetized\",\"geologies\",\"sacs\",\"bedding\",\"cozens\",\"leafy\",\"mullet\",\"grungiest\",\"mounting\",\"bait\",\"incredibly\",\"relinquished\",\"adulterers\",\"erika\",\"reneges\",\"columned\",\"consummates\",\"falloff\",\"stargazers\",\"perfumes\",\"grunting\",\"toadying\",\"expressible\",\"affix\",\"configuration\",\"solemnest\",\"latitude\",\"bandoleers\",\"reactivates\",\"announcement\",\"nudists\",\"nunnery\",\"dissimilars\",\"hamilton\",\"bigamists\",\"moors\",\"inessential\",\"shrubbery\",\"cockleshell\",\"einsteins\",\"pikes\",\"preschooler\",\"continued\",\"punishable\",\"liaising\",\"walkmans\",\"pythias\",\"fluid\",\"semaphored\",\"pepped\",\"gayness\",\"boastful\",\"sinewy\",\"homophone\",\"leveraging\",\"disgorge\",\"disabling\",\"wildcat\",\"barrings\",\"agonized\",\"banshees\",\"combinations\",\"parthenogenesis\",\"outdo\",\"prancing\",\"selective\",\"haling\",\"octogenarian\",\"iraqi\",\"pause\",\"retrofitted\",\"closeouts\",\"blotchy\",\"lye\",\"unforeseeable\",\"overreach\",\"telephonic\",\"sultana\",\"hygienically\",\"kaitlin\",\"attaching\",\"infiltrate\",\"programming\",\"basque\",\"mucking\",\"potash\",\"bifurcated\",\"restrained\",\"talker\",\"mammon\",\"keeping\",\"bauer\",\"capitalism\",\"dreaded\",\"trillionth\",\"presupposes\",\"gyration\",\"living\",\"affecting\",\"directness\",\"afterbirths\",\"treatise\",\"v\",\"twanging\",\"wardered\",\"quirks\",\"globally\",\"tint\",\"nearby\",\"attestation\",\"travails\",\"woolgathering\",\"callings\",\"calypsos\",\"wrens\",\"routinized\",\"spock\",\"aqua\",\"chive\",\"fillmore\",\"purulence\",\"renewed\",\"wildly\",\"vamps\",\"buchanan\",\"geneticists\",\"wreathing\",\"singleton\",\"trivialize\",\"beginnings\",\"fitness\",\"outburst\",\"full\",\"retirement\",\"unburden\",\"halter\",\"wessex\",\"trustier\",\"preeminently\",\"dragnet\",\"treats\",\"nourish\",\"chimps\",\"aggravated\",\"seen\",\"incidentally\",\"bathmats\",\"scant\",\"disrespectful\",\"seepage\",\"papyri\",\"dialyzes\",\"rescinded\",\"philosophizing\",\"telexes\",\"remonstrating\",\"thirds\",\"mandates\",\"schmaltzy\",\"richardson\",\"steward\",\"landwards\",\"shufflers\",\"tingly\",\"acrimonious\",\"unpopular\",\"solitaires\",\"spiffy\",\"subtotaled\",\"meshes\",\"saddle\",\"extraneously\",\"faunas\",\"brads\",\"crullers\",\"requesting\",\"zoe\",\"wavelet\",\"telegraphing\",\"retraction\",\"ashe\",\"restoration\",\"percentile\",\"pompom\",\"lighthouses\",\"sympathized\",\"shiner\",\"motionless\",\"regales\",\"heaped\",\"fringes\",\"musing\",\"mucky\",\"maintainability\",\"miscellaneous\",\"baaed\",\"shortest\",\"ratification\",\"pleat\",\"butteriest\",\"lane\",\"springfield\",\"yogurt\",\"bidets\",\"orientals\",\"bombs\",\"blubbers\",\"stereoscopes\",\"delusive\",\"weighted\",\"jingles\",\"dante\",\"overachieve\",\"jetsam\",\"upsurging\",\"comb\",\"cosmologists\",\"sidetracking\",\"maitreya\",\"artichoke\",\"decaf\",\"seasonable\",\"steamy\",\"disparate\",\"alphabetical\",\"comprehending\",\"circulation\",\"uvulas\",\"imposters\",\"lucretia\",\"mothball\",\"numbering\",\"appliance\",\"unchecked\",\"accost\",\"coasters\",\"slabbed\",\"salver\",\"countesses\",\"meditating\",\"depressives\",\"drily\",\"stratify\",\"rarefying\",\"toadstools\",\"placing\",\"shingled\",\"purchasing\",\"ina\",\"mammoths\",\"ceremonials\",\"boastfulness\",\"stigmatizing\",\"implodes\",\"armored\",\"hemstitches\",\"unmanned\",\"cassette\",\"rob\",\"marrowing\",\"indenturing\",\"fourneyron\",\"kabob\",\"fixatives\",\"herein\",\"lancets\",\"slammers\",\"mg\",\"sympathy\",\"believe\",\"unscramble\",\"niacin\",\"shari\",\"refit\",\"lankier\",\"crazy\",\"willingest\",\"dourly\",\"litmus\",\"odyssey\",\"personifying\",\"freakier\",\"ammeter\",\"splatter\",\"darwin\",\"boogies\",\"bivouac\",\"timider\",\"sleazily\",\"consensus\",\"goldbricks\",\"precipitant\",\"unheeded\",\"alpacas\",\"oozing\",\"allotments\",\"sootiest\",\"nintendo\",\"takeout\",\"keillor\",\"unsatisfying\",\"generous\",\"dunging\",\"unbent\",\"sovereignty\",\"snuffled\",\"mounding\",\"micrometers\",\"ingesting\",\"apparition\",\"stigmatize\",\"hellhole\",\"belligerent\",\"mcintyre\",\"pilloried\",\"deploy\",\"wooziest\",\"punned\",\"layman\",\"bullpen\",\"jukeboxes\",\"immature\",\"emit\",\"beech\",\"octopus\",\"intransigence\",\"aftertastes\",\"queenly\",\"bolled\",\"phonologists\",\"wiper\",\"maidenhood\",\"quart\",\"undid\",\"interlopers\",\"dispensable\",\"outcries\",\"howell\",\"indescribably\",\"individualist\",\"jags\",\"primaries\",\"metabolize\",\"deviltries\",\"amplified\",\"polarization\",\"vocalizations\",\"wrinkle\",\"churlishly\",\"belled\",\"subpoenas\",\"photosensitive\",\"soothes\",\"infantryman\",\"demobilize\",\"worsening\",\"drafty\",\"blanching\",\"spuds\",\"tautest\",\"tacos\",\"throe\",\"following\",\"disruptions\",\"leeches\",\"measure\",\"stubbing\",\"mexicans\",\"abolishing\",\"plottering\",\"sailfish\",\"hales\",\"spook\",\"mercantile\",\"fussbudgets\",\"urning\",\"vignettes\",\"recriminates\",\"humane\",\"unreleased\",\"frankincense\",\"dinkiest\",\"gyms\",\"submersibles\",\"gallbladders\",\"unfair\",\"rome\",\"meticulousness\",\"overfull\",\"youngish\",\"moseys\",\"beholder\",\"available\",\"saltier\",\"depravities\",\"dustiest\",\"tremble\",\"accountant\",\"clumsiness\",\"imparting\",\"rankin\",\"stingy\",\"joel\",\"izod\",\"undefended\",\"trademarking\",\"lasted\",\"tabulated\",\"diversion\",\"baroda\",\"hags\",\"globing\",\"firebomb\",\"mozambican\",\"inherit\",\"philosophy\",\"whomever\",\"nettle\",\"faulty\",\"awakens\",\"bethink\",\"poll\",\"meg\",\"interscholastic\",\"lilith\",\"roiled\",\"garland\",\"mussels\",\"supermarket\",\"flares\",\"satyr\",\"underfunded\",\"draftier\",\"prevailing\",\"avenging\",\"punishing\",\"inflammatory\",\"copier\",\"droplet\",\"misinterpretation\",\"multilateral\",\"zoology\",\"expletive\",\"miscarriages\",\"raiment\",\"translating\",\"tarpon\",\"unbolt\",\"muskellunges\",\"watercress\",\"macing\",\"scurfier\",\"olivier\",\"doubters\",\"changeovers\",\"significance\",\"catechise\",\"rosined\",\"ptomaine\",\"corduroys\",\"affected\",\"fruitier\",\"muddled\",\"purl\",\"spiffiest\",\"lightweight\",\"doomed\",\"aeriest\",\"twittering\",\"vocabularies\",\"resolve\",\"franck\",\"haunched\",\"heath\",\"rosemary\",\"proofread\",\"gray\",\"cowpox\",\"slanderous\",\"palsying\",\"revelation\",\"basing\",\"hind\",\"wacs\",\"wall\",\"decries\",\"intergalactic\",\"burdock\",\"styptics\",\"jovially\",\"using\",\"ministers\",\"idolaters\",\"viewfinder\",\"orthopaedic\",\"linguists\",\"freud\",\"institutional\",\"moneymaker\",\"initiatives\",\"beatriz\",\"evidence\",\"ecclesiastes\",\"humped\",\"buildings\",\"kay\",\"vice\",\"northward\",\"altman\",\"neurotically\",\"fateful\",\"cowpoke\",\"bureaucratically\",\"irremediable\",\"endemic\",\"oxbow\",\"les\",\"propelled\",\"protozoan\",\"perforated\",\"chainsawed\",\"bush\",\"curtseys\",\"deductibles\",\"womanlier\",\"surf\",\"dumbly\",\"navels\",\"hubbub\",\"algerians\",\"recompilation\",\"alsatian\",\"escher\",\"cephalic\",\"bus\",\"decision\",\"washrooms\",\"enrolling\",\"quipped\",\"exhibited\",\"dis\",\"thoreau\",\"jose\",\"bombing\",\"softly\",\"practicals\",\"unadvised\",\"neuralgic\",\"usurious\",\"commentates\",\"unexpurgated\",\"condescending\",\"effusions\",\"remissness\",\"aludra\",\"frantic\",\"repentance\",\"stanks\",\"ketches\",\"semite\",\"swaths\",\"uzbekistan\",\"jaws\",\"steined\",\"largess\",\"minimized\",\"chancelleries\",\"convolutions\",\"smetana\",\"congenitally\",\"ferry\",\"confederations\",\"hugest\",\"dredged\",\"woof\",\"jounces\",\"romero\",\"iquitos\",\"truckles\",\"gus\",\"dickies\",\"wisecracks\",\"reinaldo\",\"inquired\",\"intolerant\",\"warden\",\"enrich\",\"mohammed\",\"swaggers\",\"mirroring\",\"vulgarer\",\"thalia\",\"afraid\",\"slurp\",\"penologists\",\"stardom\",\"beehive\",\"waffles\",\"warble\",\"have\",\"hopelessness\",\"droopiest\",\"nehemiah\",\"vividest\",\"docudramas\",\"rationalism\",\"lysistrata\",\"fights\",\"ursa\",\"stockades\",\"marius\",\"pronounceable\",\"regroup\",\"hayden\",\"scarborough\",\"snowplows\",\"giovanni\",\"sidesplitting\",\"traffics\",\"voters\",\"regenerates\",\"untimeliness\",\"sleepy\",\"unravelling\",\"triad\",\"token\",\"itineraries\",\"flagellation\",\"conciliator\",\"rabbited\",\"humanization\",\"recopied\",\"manses\",\"locked\",\"combated\",\"drumsticks\",\"pocketbooks\",\"chagrining\",\"passageway\",\"corinth\",\"dehumanizes\",\"hurdle\",\"highbrow\",\"mister\",\"querulous\",\"inveigles\",\"outright\",\"severity\",\"imprints\",\"inductee\",\"requiem\",\"gerrymanders\",\"lunacies\",\"screeching\",\"handmade\",\"tennyson\",\"denial\",\"stoking\",\"vessels\",\"moronic\",\"extol\",\"abilene\",\"congolese\",\"bobbles\",\"chairmen\",\"poked\",\"careens\",\"lucked\",\"bewares\",\"abloom\",\"astounds\",\"tournament\",\"wayside\",\"showiest\",\"gondola\",\"nimbus\",\"raped\",\"mercuries\",\"circumnavigated\",\"imbroglio\",\"intimidate\",\"snug\",\"figging\",\"barents\",\"latinos\",\"winced\",\"adage\",\"lupin\",\"prepositions\",\"plaintively\",\"osman\",\"prerecording\",\"slaloming\",\"cravings\",\"vented\",\"orangeades\",\"snit\",\"taunt\",\"tushed\",\"rejecting\",\"subjugation\",\"refinishes\",\"deformities\",\"mortising\",\"hooligans\",\"suffix\",\"serengeti\",\"harbin\",\"skill\",\"insinuations\",\"arteriosclerosis\",\"tavern\",\"endemics\",\"anarchistic\",\"aftereffect\",\"lorenz\",\"streetwalkers\",\"sociology\",\"appendicitis\",\"pipped\",\"roebuck\",\"lumbers\",\"repairing\",\"cryptograms\",\"dictates\",\"infections\",\"airing\",\"capillaries\",\"give\",\"brecht\",\"broader\",\"dander\",\"gerontologists\",\"snowfalls\",\"shadow\",\"prognosticate\",\"carlton\",\"overalls\",\"paranoia\",\"beastlier\",\"pacifying\",\"anomalous\",\"disliking\",\"sermoned\",\"calcify\",\"demolition\",\"remount\",\"immoderately\",\"cassie\",\"jellybean\",\"nanjing\",\"ruffles\",\"vegetation\",\"invisibility\",\"fiascos\",\"briar\",\"rhinos\",\"strictures\",\"canvassers\",\"salyut\",\"barns\",\"scorers\",\"unintelligibly\",\"seth\",\"restructures\",\"rhinestones\",\"chancery\",\"sandiest\",\"foreshorten\",\"towns\",\"wicks\",\"birdwatchers\",\"barks\",\"gaffs\",\"flatfishes\",\"rhythmic\",\"riches\",\"tsar\",\"thirsts\",\"fluked\",\"vladimir\",\"screwing\",\"enunciate\",\"pairwise\",\"bowels\",\"mizzen\",\"keeled\",\"belittles\",\"outstations\",\"enjoyments\",\"reinforces\",\"preponderated\",\"minutiae\",\"inspect\",\"hickeys\",\"squadding\",\"deadbolts\",\"cotswold\",\"surged\",\"creations\",\"cagiest\",\"mhz\",\"staider\",\"center\",\"realistically\",\"abandons\",\"iodine\",\"originate\",\"leads\",\"returning\",\"leaked\",\"izanagi\",\"journalist\",\"swapping\",\"parsimonious\",\"bilking\",\"mongol\",\"nauseatingly\",\"villa\",\"engagingly\",\"perambulates\",\"bah\",\"tittered\",\"approvingly\",\"airfields\",\"digested\",\"crazier\",\"dotson\",\"opaques\",\"irresolutely\",\"braggarts\",\"mooted\",\"taproots\",\"signify\",\"dolts\",\"cowper\",\"dormouse\",\"theodoric\",\"pointedly\",\"cascade\",\"perpetrating\",\"rejoiced\",\"saddled\",\"pencilling\",\"flysheet\",\"woodchucks\",\"render\",\"apostolic\",\"usual\",\"gaunted\",\"kilohertzes\",\"nonwhite\",\"nodded\",\"loath\",\"tinkle\",\"rubbling\",\"tombing\",\"boyish\",\"tromp\",\"pastured\",\"stewarding\",\"affirmative\",\"consistently\",\"reminiscing\",\"vulgarities\",\"opiate\",\"teat\",\"fuckers\",\"substrate\",\"potpie\",\"sasses\",\"latrine\",\"lobs\",\"directional\",\"sakha\",\"recline\",\"palmettoes\",\"tweet\",\"failed\",\"immaturely\",\"eyeballs\",\"beards\",\"interestingly\",\"quadrature\",\"busily\",\"birdcage\",\"postulates\",\"heps\",\"microchips\",\"grinned\",\"libation\",\"cerebrums\",\"hairiest\",\"vito\",\"avid\",\"thundercloud\",\"sauntering\",\"staving\",\"mica\",\"accusing\",\"waived\",\"concluded\",\"dissident\",\"censure\",\"cumberland\",\"caesarean\",\"inhale\",\"inventiveness\",\"schusses\",\"england\",\"snaffled\",\"demographic\",\"landsat\",\"observance\",\"maneuverability\",\"lacerate\",\"cassettes\",\"annulment\",\"burglars\",\"noncom\",\"disadvantageous\",\"pummelled\",\"travel\",\"chiaroscuro\",\"newlyweds\",\"rustic\",\"spryly\",\"sugariest\",\"strafing\",\"caveats\",\"digs\",\"swiss\",\"communism\",\"fallow\",\"thymus\",\"ascella\",\"dabbed\",\"unlocking\",\"sorrel\",\"skinflints\",\"exclaiming\",\"informed\",\"louses\",\"obligations\",\"petrolatum\",\"toga\",\"castigation\",\"fluster\",\"chutney\",\"mendocino\",\"dispatching\",\"mutiny\",\"shrinking\",\"marring\",\"pollinates\",\"twa\",\"smirks\",\"dimer\",\"broaches\",\"musketeer\",\"stapler\",\"zionism\",\"newsboy\",\"basilica\",\"turbine\",\"wasatch\",\"misjudge\",\"frigid\",\"orgasm\",\"convocations\",\"michelle\",\"furor\",\"blockages\",\"defenses\",\"stroked\",\"gruffing\",\"incoherence\",\"brutes\",\"desperado\",\"magnetic\",\"sandblasters\",\"eeyore\",\"semis\",\"nebula\",\"barraging\",\"alias\",\"valeted\",\"transcend\",\"titanic\",\"bibliophile\",\"knowingest\",\"facile\",\"equivalent\",\"garnisheed\",\"nays\",\"spritzed\",\"sweetener\",\"ensued\",\"ail\",\"matterhorn\",\"sledge\",\"documentary\",\"extraction\",\"portending\",\"uglies\",\"trainees\",\"edinburgh\",\"accreditation\",\"mournfuller\",\"trusties\",\"expound\",\"inveigled\",\"pomaded\",\"pickles\",\"musicologist\",\"torturers\",\"skinniest\",\"confute\",\"forgetfully\",\"deliriums\",\"sunspots\",\"kirchner\",\"houseboats\",\"sucks\",\"ghoul\",\"onrush\",\"useable\",\"congenial\",\"aramco\",\"gumdrops\",\"podhoretz\",\"harley\",\"hunchbacks\",\"bassoonists\",\"stitch\",\"steamboat\",\"ellipses\",\"execute\",\"saliva\",\"bared\",\"begotten\",\"inquisitively\",\"trailer\",\"briskets\",\"curvature\",\"outstript\",\"pharaohs\",\"spangle\",\"ointment\",\"staggerings\",\"gibbering\",\"curatives\",\"rasmussen\",\"matchmakers\",\"powdery\",\"bounces\",\"art\",\"secreted\",\"clunkiest\",\"pasteurize\",\"gouda\",\"light\",\"omega\",\"caliban\",\"pillowing\",\"insouciant\",\"marketers\",\"deception\",\"protectively\",\"steinway\",\"castanet\",\"hokusai\",\"lunching\",\"prejudge\",\"easing\",\"inchoated\",\"divinely\",\"vitalized\",\"woodworm\",\"journalese\",\"austere\",\"pipes\",\"doodad\",\"evenhanded\",\"steal\",\"appoints\",\"returns\",\"intransitive\",\"declaimed\",\"diastolic\",\"axiomatics\",\"genuflecting\",\"accuser\",\"cytology\",\"welcome\",\"pumices\",\"noways\",\"shade\",\"unseasonable\",\"woodsheds\",\"stopgap\",\"interlace\",\"lumpiest\",\"bengal\",\"aspiring\",\"galois\",\"catechism\",\"adventitious\",\"tediousness\",\"followed\",\"smoothing\",\"churl\",\"simulate\",\"polishing\",\"mesh\",\"dimensional\",\"stabbing\",\"golden\",\"nit\",\"fiords\",\"banned\",\"ishim\",\"exempts\",\"cherokee\",\"seeker\",\"boils\",\"watershed\",\"scherzo\",\"melchior\",\"mosques\",\"gleamed\",\"resolution\",\"neurological\",\"nemesis\",\"shambles\",\"suborning\",\"summarily\",\"kuznetsk\",\"support\",\"crummier\",\"thawing\",\"admonitory\",\"cataloguing\",\"perennially\",\"abe\",\"scooting\",\"kit\",\"cornbread\",\"lodging\",\"debarking\",\"reupholsters\",\"runs\",\"cosigner\",\"listed\",\"stooges\",\"cheddars\",\"abscond\",\"outselling\",\"repulsively\",\"larynxes\",\"refunded\",\"nanosecond\",\"inherently\",\"asseverate\",\"ridiculed\",\"insides\",\"displaced\",\"letterbox\",\"harpy\",\"indiscreet\",\"bobsledding\",\"maraca\",\"fluctuate\",\"enlarged\",\"suppresses\",\"essentials\",\"blackguards\",\"approves\",\"spume\",\"moister\",\"raggedy\",\"slewed\",\"nook\",\"whiner\",\"lousiest\",\"controverting\",\"reconstructing\",\"fnma\",\"molls\",\"paupers\",\"taproot\",\"moths\",\"generalities\",\"flatfooting\",\"vs\",\"bose\",\"mesmerize\",\"despatches\",\"hiving\",\"prosecutions\",\"heaters\",\"installed\",\"piety\",\"playrooms\",\"oppose\",\"fanfare\",\"jeopardize\",\"headfirst\",\"ghent\",\"innkeepers\",\"israelites\",\"gardenias\",\"encircled\",\"coyer\",\"yearbooks\",\"concentrate\",\"cogitates\",\"teethes\",\"fleeted\",\"weekdays\",\"rainforest\",\"defoliating\",\"photo\",\"malaysia\",\"trend\",\"shroud\",\"thoraces\",\"famishing\",\"disembowels\",\"senders\",\"blaze\",\"gale\",\"gloomiest\",\"morning\",\"marabous\",\"retrench\",\"snyder\",\"boos\",\"breakneck\",\"hostlers\",\"indemnified\",\"shiver\",\"mil\",\"thoughts\",\"nile\",\"selvaging\",\"severest\",\"colorado\",\"rushes\",\"overrates\",\"dissembles\",\"magnifying\",\"solubles\",\"entrepreneur\",\"expressionism\",\"stalemated\",\"thirsty\",\"parasite\",\"bristly\",\"schoolchild\",\"calibrating\",\"snob\",\"hookworms\",\"conciliates\",\"progression\",\"mismanage\",\"hotelier\",\"roxy\",\"tut\",\"stipulated\",\"shiftiest\",\"danubian\",\"kaunas\",\"whopping\",\"ganglion\",\"queuing\",\"octane\",\"tibiae\",\"damneder\",\"pronghorn\",\"maim\",\"vazquez\",\"ironies\",\"emotive\",\"groupers\",\"henpeck\",\"subservients\",\"recursively\",\"blamed\",\"meagerness\",\"distracted\",\"cheerless\",\"semblances\",\"hat\",\"burps\",\"mutate\",\"convulsive\",\"frederic\",\"goblins\",\"complainers\",\"hobnobbed\",\"coyote\",\"debra\",\"negligible\",\"sepulchered\",\"gearshifts\",\"beelined\",\"caking\",\"acupuncturists\",\"focussed\",\"retread\",\"ingrain\",\"taupe\",\"chloroforms\",\"impales\",\"regresses\",\"llanos\",\"blurriest\",\"sisyphean\",\"typesetter\",\"budweiser\",\"maxed\",\"appendages\",\"redistribute\",\"gods\",\"scabrous\",\"roger\",\"spacesuit\",\"evacuate\",\"moll\",\"suitors\",\"theocracy\",\"shaft\",\"motherlands\",\"sights\",\"earmarking\",\"tranquilizes\",\"inaugural\",\"disheartening\",\"skydiver\",\"advise\",\"cellophane\",\"beheading\",\"repasting\",\"slavonic\",\"wantonly\",\"buffeting\",\"triked\",\"narmada\",\"splotch\",\"outsides\",\"reigned\",\"cronkite\",\"hypertext\",\"alleluias\",\"broad\",\"hogging\",\"appreciatively\",\"admonish\",\"seconal\",\"wolverines\",\"incontinent\",\"damion\",\"amongst\",\"accomplice\",\"hitchhike\",\"patrick\",\"escapism\",\"southerns\",\"continuances\",\"among\",\"commit\",\"capsizing\",\"ballrooms\",\"noumea\",\"dick\",\"somali\",\"congruent\",\"cozies\",\"underclassmen\",\"jeanine\",\"husbanded\",\"debris\",\"protesters\",\"galatea\",\"hies\",\"watermarking\",\"clapboarding\",\"manufactures\",\"miffs\",\"coops\",\"reality\",\"tailspin\",\"sniper\",\"rants\",\"capacitor\",\"excretions\",\"polluting\",\"incompatibility\",\"receipted\",\"wrongness\",\"prevaricated\",\"beige\",\"boyfriend\",\"humbled\",\"pigging\",\"hamburgs\",\"parching\",\"costume\",\"minicams\",\"womanish\",\"yiddish\",\"orally\",\"schultz\",\"tiptops\",\"condor\",\"prefixes\",\"daddy\",\"absconds\",\"law\",\"blued\",\"mobile\",\"scrupled\",\"jacobin\",\"decays\",\"crud\",\"remarkably\",\"unhealthier\",\"iberia\",\"stepsons\",\"restorer\",\"chatterboxes\",\"basilicas\",\"suffices\",\"starts\",\"suggestively\",\"emmett\",\"intended\",\"auspice\",\"obsolescent\",\"inexplicable\",\"crushes\",\"conversationalists\",\"bouquet\",\"installations\",\"custody\",\"hundredths\",\"capriciously\",\"newsed\",\"reasonableness\",\"thoughtlessness\",\"socket\",\"skipper\",\"tempura\",\"chumminess\",\"resumption\",\"blazoned\",\"balking\",\"reaches\",\"morocco\",\"fricasseed\",\"tutelage\",\"louis\",\"countless\",\"transfigure\",\"sheratan\",\"unclearest\",\"blotched\",\"steelier\",\"gooks\",\"necromancy\",\"amortization\",\"rumoring\",\"gurgled\",\"evaporate\",\"ideological\",\"bobtails\",\"acrobatics\",\"federation\",\"anticipates\",\"volley\",\"ashen\",\"busiest\",\"chargers\",\"hanoverian\",\"joyrider\",\"freeloader\",\"savings\",\"neutrinos\",\"wigs\",\"sexpots\",\"evades\",\"reliefs\",\"deena\",\"descending\",\"markov\",\"scanners\",\"potters\",\"anomaly\",\"step\",\"raspier\",\"nantucket\",\"happened\",\"unsupported\",\"bunion\",\"sympathies\",\"styron\",\"bereavements\",\"tristan\",\"constabularies\",\"ionizer\",\"effervescence\",\"gashes\",\"mithridates\",\"shale\",\"cassias\",\"sidetracks\",\"thousandth\",\"barons\",\"nonevents\",\"crackpot\",\"indonesian\",\"nourished\",\"abortion\",\"patriarchs\",\"jinn\",\"sodding\",\"slouched\",\"calumniates\",\"sharpness\",\"pettifogged\",\"decedent\",\"control\",\"nostrum\",\"kindliest\",\"backfields\",\"steadied\",\"squinter\",\"creed\",\"chummier\",\"precipices\",\"premiums\",\"unsheathing\",\"mousiness\",\"challengers\",\"gilbert\",\"transmigration\",\"croon\",\"leaves\",\"furry\",\"minutes\",\"runyon\",\"conjectural\",\"kebab\",\"gawks\",\"ra\",\"cacophonies\",\"hustlers\",\"stretching\",\"forefeet\",\"satanically\",\"sofa\",\"exclusively\",\"provence\",\"rembrandt\",\"savageness\",\"yogurts\",\"servility\",\"precursor\",\"strut\",\"deliriously\",\"turks\",\"unmasking\",\"charioteered\",\"forefront\",\"suntanned\",\"transmigrated\",\"whizz\",\"melodic\",\"accelerations\",\"codices\",\"manuscript\",\"hats\",\"electrolysis\",\"dolt\",\"nyquil\",\"diurnally\",\"tellered\",\"suppurated\",\"bestiality\",\"cottonseeds\",\"ordovician\",\"farmyard\",\"billfold\",\"northeasts\",\"brightens\",\"plagiarists\",\"scooters\",\"binged\",\"melanges\",\"fortifying\",\"journeyed\",\"hippos\",\"warrantying\",\"invariables\",\"feedbags\",\"values\",\"yuletide\",\"devilishly\",\"enervated\",\"caveatting\",\"triplied\",\"repackages\",\"primly\",\"buoyantly\",\"mordant\",\"termite\",\"investigates\",\"chechnya\",\"rochambeau\",\"unhooked\",\"bedevil\",\"communed\",\"cornwall\",\"mys\",\"devoutly\",\"changsha\",\"competitors\",\"unattached\",\"zirconium\",\"shearers\",\"dislike\",\"valentines\",\"horton\",\"barbara\",\"factitious\",\"froze\",\"drizzles\",\"descriptively\",\"cums\",\"milken\",\"dissatisfaction\",\"opuses\",\"pointing\",\"drilling\",\"cooping\",\"guff\",\"carousers\",\"aquarium\",\"reunite\",\"nauseating\",\"creaking\",\"whit\",\"bounciest\",\"endymion\",\"decoding\",\"disdain\",\"damsels\",\"citizens\",\"discreditable\",\"carillons\",\"propinquity\",\"fifths\",\"extravagances\",\"socialization\",\"signposted\",\"south\",\"bloated\",\"clued\",\"clouts\",\"pusillanimity\",\"cimabue\",\"praetorian\",\"bladed\",\"deathless\",\"trustworthier\",\"peel\",\"bleeding\",\"larding\",\"cotter\",\"mug\",\"jays\",\"override\",\"wanting\",\"wampum\",\"wax\",\"cancelled\",\"foraging\",\"deftly\",\"krugerrand\",\"spared\",\"quaking\",\"throw\",\"rodent\",\"picnicking\",\"tagore\",\"greer\",\"kelly\",\"indecencies\",\"swimsuits\",\"obadiah\",\"moratoria\",\"peabody\",\"faultlessly\",\"outtakes\",\"suitcases\",\"mississippian\",\"wackos\",\"freebooters\",\"hobgoblin\",\"neptune\",\"door\",\"jude\",\"benefices\",\"gannet\",\"fagoting\",\"neglectfully\",\"revolutionize\",\"haloing\",\"mangroves\",\"immorally\",\"homerooms\",\"belaying\",\"profligate\",\"nightmare\",\"circulations\",\"candy\",\"infinitude\",\"goodnight\",\"vegans\",\"mortise\",\"stubbiest\",\"motion\",\"hotshot\",\"keisha\",\"pocketfuls\",\"franks\",\"palates\",\"exhale\",\"cardiopulmonary\",\"swelled\",\"remorseful\",\"cracks\",\"nabokov\",\"blockbuster\",\"shovelling\",\"indistinguishable\",\"mice\",\"tartly\",\"wretchedest\",\"theorizing\",\"mopeds\",\"nauseated\",\"comforters\",\"splintered\",\"aiming\",\"quotation\",\"transplantation\",\"submersible\",\"proceedings\",\"orchestras\",\"echoes\",\"discreeter\",\"innocently\",\"lacy\",\"recondite\",\"requirements\",\"kitsch\",\"motorboats\",\"auditorium\",\"receptors\",\"typeset\",\"yucking\",\"litters\",\"confucianisms\",\"expeditious\",\"bestowal\",\"faceting\",\"bedevils\",\"obscurity\",\"cecilia\",\"trumpeters\",\"touched\",\"memphis\",\"repeals\",\"thrifts\",\"keynesian\",\"martin\",\"haunting\",\"bostonian\",\"lowenbrau\",\"admission\",\"stun\",\"unionized\",\"seaway\",\"holly\",\"vijayanagar\",\"kiths\",\"fluting\",\"cadets\",\"cabin\",\"reactivation\",\"foregrounded\",\"airings\",\"queue\",\"unedited\",\"pandemonium\",\"steeplechases\",\"close\",\"spotter\",\"quilt\",\"confession\",\"traditionally\",\"unroll\",\"groovy\",\"toddled\",\"visas\",\"optic\",\"appropriation\",\"socials\",\"menstruate\",\"meadows\",\"fumigators\",\"prostrated\",\"nibs\",\"stressful\",\"khorana\",\"wakefulness\",\"fount\",\"sensor\",\"radioactive\",\"lajos\",\"centigrammes\",\"perspires\",\"disguise\",\"toed\",\"outnumbering\",\"psalms\",\"subversives\",\"hues\",\"school\",\"tunneling\",\"lessie\",\"educated\",\"upend\",\"eng\",\"charbray\",\"butterflied\",\"wishers\",\"cube\",\"forecasts\",\"leaven\",\"havoline\",\"fathered\",\"naughtier\",\"chittagong\",\"update\",\"framer\",\"islets\",\"scrimshawing\",\"momentous\",\"sacking\",\"maxilla\",\"verdigrising\",\"servers\",\"distortions\",\"schlockier\",\"pigskins\",\"spouting\",\"topologically\",\"melt\",\"tarot\",\"permian\",\"vouchsafe\",\"spinners\",\"ablatives\",\"batsman\",\"cabbed\",\"slippery\",\"evasions\",\"ladyfinger\",\"backstroked\",\"yolanda\",\"machine\",\"celli\",\"penalties\",\"bur\",\"guatemalan\",\"contended\",\"vargas\",\"observably\",\"dowdy\",\"ugly\",\"sandinista\",\"queerer\",\"lilly\",\"bamboozles\",\"fricassee\",\"vipers\",\"concretes\",\"fart\",\"triplicated\",\"innuendo\",\"municipality\",\"tet\",\"rejects\",\"lentils\",\"murmuring\",\"intercessor\",\"connector\",\"pricks\",\"bewitch\",\"veracity\",\"bivouacking\",\"tommy\",\"commodious\",\"democracy\",\"studies\",\"numerate\",\"effusiveness\",\"west\",\"thumbscrews\",\"brainwashed\",\"phekda\",\"overemphasized\",\"caiaphas\",\"elusiveness\",\"attacker\",\"unites\",\"theistic\",\"lagrangian\",\"pain\",\"guzzlers\",\"scold\",\"cracked\",\"oracled\",\"musharraf\",\"volcker\",\"judases\",\"berry\",\"eighteen\",\"dean\",\"broadcaster\",\"sheathes\",\"become\",\"voyages\",\"cotillions\",\"assurance\",\"sumptuous\",\"indefinites\",\"bullock\",\"astute\",\"distilleries\",\"great\",\"gopher\",\"feasted\",\"duties\",\"dullards\",\"markups\",\"adeptest\",\"enthusiastically\",\"gallivants\",\"mainstream\",\"peroxiding\",\"lathered\",\"reformatory\",\"sum\",\"idea\",\"wyeth\",\"bidder\",\"puerility\",\"unfortunately\",\"evanescent\",\"poetical\",\"perambulators\",\"picturing\",\"stripe\",\"blackbeard\",\"pans\",\"amend\",\"dweeb\",\"mortgagee\",\"patna\",\"earthworks\",\"gabriela\",\"straits\",\"fifes\",\"oddities\",\"gerontologist\",\"poppins\",\"cymbals\",\"wedder\",\"shipping\",\"gamine\",\"aviation\",\"outbounds\",\"husbanding\",\"phallic\",\"gonna\",\"spraying\",\"doyen\",\"aging\",\"slyer\",\"woodsy\",\"apexes\",\"prizing\",\"recruited\",\"supper\",\"traduce\",\"buts\",\"reawakening\",\"vibratos\",\"qom\",\"anticlimax\",\"professionalism\",\"oxbows\",\"dumpies\",\"danny\",\"weaklier\",\"spay\",\"interrupting\",\"adjusting\",\"decenter\",\"vengeance\",\"samoset\",\"sawdust\",\"breathing\",\"undersecretaries\",\"concluding\",\"adopts\",\"foley\",\"centimeter\",\"filaments\",\"stows\",\"zests\",\"sags\",\"detoxed\",\"amaryllises\",\"justifiable\",\"damply\",\"hahs\",\"blowguns\",\"scalding\",\"mongrel\",\"cornflowers\",\"adorn\",\"grammars\",\"rosy\",\"luis\",\"midwest\",\"book\",\"coruscate\",\"tacoma\",\"carnally\",\"imp\",\"motorcycles\",\"escape\",\"reincarnated\",\"stickers\",\"hank\",\"bipedal\",\"holidaying\",\"seeking\",\"stalagmites\",\"totality\",\"entitled\",\"leghorn\",\"pretenses\",\"halfheartedly\",\"infestations\",\"stab\",\"regimenting\",\"awakening\",\"temple\",\"barber\",\"cotes\",\"efficaciously\",\"doodler\",\"semiannual\",\"wrathed\",\"pavement\",\"accommodated\",\"bostons\",\"irritation\",\"maladies\",\"athletes\",\"spidery\",\"which\",\"prehistory\",\"revere\",\"hasten\",\"swirled\",\"treads\",\"masterwork\",\"guzzle\",\"aeolus\",\"collied\",\"cretan\",\"powerboats\",\"f\",\"erma\",\"prodigality\",\"infuriates\",\"chillings\",\"nakedly\",\"undergraduates\",\"trundled\",\"reportage\",\"vaccinating\",\"lucidness\",\"discourage\",\"abolish\",\"follow\",\"internships\",\"buggier\",\"ceramics\",\"realists\",\"sharped\",\"rigs\",\"extremism\",\"mockery\",\"swastikas\",\"percolates\",\"mires\",\"recessional\",\"preconceptions\",\"curating\",\"tastelessness\",\"squattered\",\"achieving\",\"disagreeably\",\"emend\",\"breach\",\"pregnant\",\"argentinian\",\"anthologizing\",\"rectifying\",\"burned\",\"delicacies\",\"bunkhouse\",\"gyros\",\"stockiness\",\"strangulates\",\"sudra\",\"proportionals\",\"inaugurations\",\"downsizes\",\"confucius\",\"mirabeau\",\"ententes\",\"practice\",\"scavenging\",\"inlet\",\"brashness\",\"centuries\",\"doffed\",\"porosity\",\"structuralist\",\"phylum\",\"ferrous\",\"usurpation\",\"apotheosis\",\"bank\",\"miked\",\"peshawar\",\"respires\",\"videotape\",\"lottery\",\"mandible\",\"piecework\",\"occident\",\"indiana\",\"correspondents\",\"bullrings\",\"acquisitive\",\"saturating\",\"francine\",\"unauthenticated\",\"ellen\",\"limitation\",\"amputation\",\"evasion\",\"jeanette\",\"mysteried\",\"priscilla\",\"falkland\",\"cultures\",\"mummification\",\"cortes\",\"codding\",\"tapioca\",\"taster\",\"liberator\",\"housemaid\",\"rangoon\",\"desegregate\",\"vintages\",\"la\",\"tinkering\",\"overtime\",\"shiraz\",\"coerces\",\"gardeners\",\"stakeout\",\"hoedowns\",\"thickenings\",\"bobs\",\"misfiring\",\"scenically\",\"pouting\",\"emancipating\",\"semites\",\"deludes\",\"incubation\",\"hilariously\",\"howard\",\"sledgehammered\",\"humidors\",\"sciatic\",\"pistil\",\"inextinguishable\",\"panchromatic\",\"raspberry\",\"consecrations\",\"baronial\",\"serbian\",\"permanence\",\"anthropology\",\"deceasing\",\"speedier\",\"derisory\",\"carefree\",\"rebels\",\"peeks\",\"disinclining\",\"backspin\",\"beautification\",\"unlearned\",\"indeed\",\"principle\",\"disembowelling\",\"diagrammatic\",\"proofs\",\"chinchillas\",\"acrobat\",\"cartographers\",\"seethe\",\"osaka\",\"snow\",\"spinnaker\",\"conclusion\",\"dumbing\",\"libya\",\"lizzie\",\"numerates\",\"cyclades\",\"forenoon\",\"bravado\",\"decorates\",\"taping\",\"rounding\",\"douching\",\"beltways\",\"so\",\"wipes\",\"to\",\"untruest\",\"detesting\",\"cheered\",\"pedestrianizes\",\"medullae\",\"evaporates\",\"coleen\",\"fixes\",\"crushing\",\"themistocles\",\"coexists\",\"imploded\",\"bekesy\",\"difficulty\",\"maimed\",\"remorselessly\",\"somewhats\",\"mongolism\",\"unspeakably\",\"commissioned\",\"engorge\",\"gives\",\"unfettering\",\"armature\",\"trial\",\"adjuster\",\"tokens\",\"applications\",\"luzon\",\"dorsals\",\"fission\",\"urgency\",\"traversed\",\"surrounding\",\"hernias\",\"dingoes\",\"spain\",\"wolfe\",\"nabbing\",\"adieux\",\"klingon\",\"bloc\",\"belgrade\",\"tidewaters\",\"trustee\",\"videocassette\",\"bankrupts\",\"dismemberment\",\"redness\",\"trickiest\",\"nervous\",\"rumpled\",\"letitia\",\"recriminating\",\"sequoia\",\"directorates\",\"tumor\",\"ascending\",\"stylishly\",\"salts\",\"canons\",\"sclerosis\",\"rubble\",\"provenders\",\"chaplet\",\"teensy\",\"spray\",\"washerwomen\",\"injunction\",\"saigon\",\"sodas\",\"bundling\",\"jinnah\",\"reuses\",\"cowls\",\"diviner\",\"refocuses\",\"outnumbered\",\"saiths\",\"andean\",\"vital\",\"chapt\",\"transmutation\",\"currycombed\",\"baddest\",\"pensacola\",\"barbecue\",\"mobil\",\"fudging\",\"peter\",\"waterproofed\",\"comedy\",\"discords\",\"subsided\",\"capitulates\",\"foreshadowed\",\"impertinents\",\"gigs\",\"hallucinogens\",\"perspicuity\",\"calculi\",\"allen\",\"pierre\",\"recompense\",\"brickbat\",\"swallowing\",\"addictions\",\"deputized\",\"springboard\",\"etchings\",\"chivalrous\",\"comparable\",\"physicist\",\"governance\",\"grimly\",\"sugarier\",\"tersest\",\"spying\",\"consenting\",\"waters\",\"inseminate\",\"leach\",\"disordered\",\"whales\",\"adorable\",\"possessor\",\"paleface\",\"salamis\",\"reissues\",\"tempter\",\"imagined\",\"censoring\",\"reinforcing\",\"leverages\",\"cinch\",\"sieve\",\"hoarfrost\",\"universe\",\"essays\",\"tyrannosaurs\",\"eyebrow\",\"sartorial\",\"stigma\",\"nonchalant\",\"intricate\",\"wineglasses\",\"cry\",\"perfectionist\",\"screenings\",\"mohammad\",\"guarantees\",\"speaker\",\"socking\",\"hashes\",\"bluffer\",\"glockenspiel\",\"militantly\",\"goaled\",\"declined\",\"commercialism\",\"passkey\",\"mallards\",\"purdue\",\"codicil\",\"oared\",\"milieu\",\"despised\",\"lowliest\",\"atwood\",\"babysits\",\"dying\",\"serviceable\",\"amorously\",\"aramaic\",\"dec\",\"piquant\",\"rhenish\",\"eagerest\",\"testis\",\"invalidated\",\"stated\",\"herculean\",\"folding\",\"long\",\"underwritten\",\"acquaintance\",\"figuring\",\"cuckold\",\"variants\",\"naiver\",\"pinkest\",\"preferences\",\"bunions\",\"compaq\",\"conspicuously\",\"disabused\",\"dashboards\",\"amperes\",\"hammerings\",\"supervise\",\"corrodes\",\"aquae\",\"wiled\",\"recriminate\",\"online\",\"sympathizing\",\"mention\",\"reelect\",\"summations\",\"cocteau\",\"turnround\",\"turnabouts\",\"commemorating\",\"localling\",\"crowing\",\"placer\",\"wounds\",\"flunkeys\",\"whaling\",\"shrivel\",\"akita\",\"censoriously\",\"affidavit\",\"closed\",\"protein\",\"syphilizing\",\"flattering\",\"isotropic\",\"shivers\",\"categorization\",\"wifely\",\"commonwealths\",\"newtons\",\"overcharges\",\"midmost\",\"undercharges\",\"goaling\",\"porpoises\",\"dearly\",\"swallowed\",\"hospitalizes\",\"cower\",\"orienting\",\"sailor\",\"remunerated\",\"gail\",\"corina\",\"excreting\",\"backstroke\",\"measlier\",\"execrating\",\"filmiest\",\"bridgette\",\"smackers\",\"convection\",\"nonskid\",\"obscurely\",\"roots\",\"palindromes\",\"combative\",\"frightfully\",\"edifices\",\"arjuna\",\"marsala\",\"offsprings\",\"talkers\",\"logo\",\"icarus\",\"unwinding\",\"fevers\",\"pedantry\",\"aberdeen\",\"backfiring\",\"backwaters\",\"affiliate\",\"maharajahs\",\"miking\",\"apostles\",\"chaste\",\"schneider\",\"yukked\",\"redolent\",\"shame\",\"packed\",\"abolitionist\",\"adversarial\",\"golly\",\"dumbed\",\"broom\",\"boons\",\"earlobe\",\"thinnest\",\"emblazon\",\"chrysostom\",\"threat\",\"descender\",\"pithier\",\"wretch\",\"subliminal\",\"actuates\",\"glutted\",\"devalue\",\"festoon\",\"belief\",\"politics\",\"nickel\",\"despairingly\",\"encyclopedias\",\"airheads\",\"naval\",\"muffing\",\"moot\",\"belfries\",\"porter\",\"universals\",\"guiding\",\"spreader\",\"televising\",\"minis\",\"strollers\",\"campaigned\",\"amalgamated\",\"lepers\",\"performing\",\"agreeable\",\"frond\",\"cronies\",\"armenian\",\"omnipresence\",\"shaves\",\"cunts\",\"disconcert\",\"gannets\",\"optimum\",\"amatory\",\"uncomprehending\",\"threnody\",\"nosed\",\"disfavoring\",\"reprimands\",\"quoiting\",\"coruscated\",\"confuted\",\"bleach\",\"aloha\",\"cooler\",\"trading\",\"abetting\",\"intensifiers\",\"mahayanist\",\"pointer\",\"dashingly\",\"brutishly\",\"cells\",\"quintupled\",\"muzzling\",\"chic\",\"karaoke\",\"pellet\",\"rockefeller\",\"frigidaire\",\"dillydallies\",\"smooch\",\"promptly\",\"wetbacks\",\"bandwagons\",\"herbivore\",\"proceed\",\"meaningful\",\"sulks\",\"deming\",\"spry\",\"assorting\",\"unsung\",\"womanly\",\"shamelessly\",\"cornelia\",\"pillbox\",\"zimbabwean\",\"douched\",\"unashamed\",\"pepsi\",\"cowardice\",\"grownups\",\"reeducated\",\"weed\",\"fifteens\",\"spurs\",\"feral\",\"industrialization\",\"tempestuous\",\"reinitialize\",\"mummify\",\"spaceships\",\"otherwise\",\"bow\",\"patting\",\"cauterized\",\"poultry\",\"richard\",\"hill\",\"respelt\",\"pan\",\"crabbing\",\"thick\",\"tablecloth\",\"jogs\",\"coagulated\",\"infidelities\",\"habit\",\"zion\",\"price\",\"budged\",\"breeze\",\"inconsiderable\",\"basses\",\"nonabsorbent\",\"omsk\",\"hustle\",\"sideline\",\"discs\",\"altruism\",\"agent\",\"catholicisms\",\"dissected\",\"snappers\",\"molluscs\",\"unscrupulousness\",\"miscue\",\"poverty\",\"chewier\",\"inane\",\"metaphors\",\"thrifty\",\"irreparable\",\"irritant\",\"dragged\",\"roam\",\"note\",\"pock\",\"advent\",\"alternators\",\"swiping\",\"cots\",\"noemi\",\"screech\",\"tinning\",\"hero\",\"katowice\",\"arithmetic\",\"motivated\",\"niggling\",\"gleam\",\"mammography\",\"kansans\",\"tampons\",\"snuffed\",\"philosophical\",\"militate\",\"squelched\",\"loudlier\",\"actives\",\"idly\",\"grotius\",\"tranquillize\",\"charade\",\"spunks\",\"transgression\",\"faceless\",\"rebelling\",\"parachute\",\"sharpened\",\"undesirability\",\"tithe\",\"vibrancy\",\"impasse\",\"saddens\",\"aboding\",\"wake\",\"downbeat\",\"resin\",\"pitchfork\",\"fulfilment\",\"displacements\",\"regiment\",\"cowing\",\"killdeers\",\"goldsmith\",\"coaled\",\"cameraman\",\"corrupting\",\"revisits\",\"congeal\",\"clorets\",\"jeep\",\"yawed\",\"clayton\",\"grease\",\"grails\",\"unconcerned\",\"bhutan\",\"gaudier\",\"weakest\",\"agrarians\",\"phenomenon\",\"dickering\",\"electromagnet\",\"syringed\",\"emailed\",\"carpets\",\"galactic\",\"sallies\",\"sapience\",\"milestones\",\"jacobi\",\"copenhagen\",\"telexed\",\"underhand\",\"flannelled\",\"burdensome\",\"lessee\",\"hashish\",\"pulverized\",\"parquet\",\"beavered\",\"profaned\",\"lad\",\"enchantresses\",\"sobers\",\"anatolian\",\"woodcutting\",\"pillion\",\"toxins\",\"ates\",\"tractor\",\"mommie\",\"financier\",\"hairpins\",\"expropriating\",\"boardinghouses\",\"marceau\",\"lithographs\",\"waves\",\"munificent\",\"retardants\",\"blarney\",\"politicos\",\"savaging\",\"brittleness\",\"pushing\",\"underacts\",\"vestiges\",\"rotors\",\"screwy\",\"superiority\",\"skydive\",\"atlanta\",\"hearst\",\"multiracial\",\"gulfs\",\"dependents\",\"fanfares\",\"sharpeners\",\"accumulate\",\"horrified\",\"fraternization\",\"buffy\",\"sermon\",\"cattleman\",\"grandpas\",\"minx\",\"roughness\",\"tutsi\",\"incinerated\",\"quite\",\"soupiest\",\"naught\",\"encampments\",\"opals\",\"implacably\",\"chromatic\",\"harbingers\",\"naturals\",\"firsthand\",\"desirable\",\"divulged\",\"zoologist\",\"parishes\",\"microscopically\",\"saltcellars\",\"banishing\",\"fezzes\",\"elton\",\"perversion\",\"vassals\",\"in\",\"honorifics\",\"blimp\",\"blitzing\",\"puckett\",\"cuts\",\"frontal\",\"proselytized\",\"hargreaves\",\"northeastward\",\"lingerers\",\"percolation\",\"camembert\",\"brackets\",\"seashores\",\"dmitri\",\"sensitive\",\"acquiring\",\"hurled\",\"sensed\",\"totem\",\"pragmatists\",\"sportier\",\"tawniest\",\"plenteous\",\"caloocan\",\"humus\",\"testimonials\",\"shirker\",\"simon\",\"vibraphones\",\"chocks\",\"smear\",\"americans\",\"secondary\",\"zosma\",\"quadrille\",\"bobsled\",\"infesting\",\"invitational\",\"causalities\",\"friable\",\"rumbled\",\"sprucer\",\"distressing\",\"shadowing\",\"uvular\",\"ashtrays\",\"abreast\",\"treacled\",\"enviousness\",\"amigo\",\"interviewed\",\"explaining\",\"see\",\"dislocating\",\"incitements\",\"suite\",\"procured\",\"disinterment\",\"anna\",\"proportioning\",\"reimposed\",\"toughs\",\"versified\",\"historian\",\"capon\",\"heraldic\",\"abrasively\",\"henceforth\",\"transducer\",\"different\",\"epidermises\",\"falsifies\",\"passions\",\"renunciations\",\"blurry\",\"selfishness\",\"scandalize\",\"microphone\",\"democratic\",\"altair\",\"succinctness\",\"persistently\",\"indirection\",\"stock\",\"existentialist\",\"weaseled\",\"strops\",\"buxomest\",\"quoited\",\"teethed\",\"derogating\",\"account\",\"saltest\",\"guise\",\"qualities\",\"siliceous\",\"escalated\",\"declamations\",\"cancels\",\"polyphony\",\"writes\",\"zippiest\",\"tiffs\",\"testified\",\"inadequately\",\"subcontracted\",\"called\",\"nabob\",\"stashing\",\"adolescence\",\"pumped\",\"floral\",\"tunisia\",\"overestimate\",\"visages\",\"probed\",\"vellum\",\"crackdowns\",\"spur\",\"reestablishes\",\"plywood\",\"phones\",\"comforting\",\"superannuates\",\"ba\",\"imprimaturs\",\"minimally\",\"chennai\",\"inhumanely\",\"tamerlane\",\"asimov\",\"stonier\",\"spiriting\",\"weakling\",\"rubbernecks\",\"rose\",\"pound\",\"boa\",\"despondency\",\"initiate\",\"crazing\",\"uncommonly\",\"privation\",\"bleeped\",\"scrimping\",\"hobnail\",\"theory\",\"hiccup\",\"subhuman\",\"tarragon\",\"misbehavior\",\"horsemanship\",\"mariners\",\"skewered\",\"suharto\",\"courtly\",\"vast\",\"reconstructs\",\"firmest\",\"mortaring\",\"embryos\",\"hungarian\",\"impinges\",\"heppest\",\"stripped\",\"skywriting\",\"sideswipe\",\"evilly\",\"tonsuring\",\"wednesday\",\"novellas\",\"spunkiest\",\"soprano\",\"source\",\"reran\",\"gabbed\",\"standoffs\",\"cheers\",\"stifle\",\"vocalize\",\"shillelagh\",\"gifted\",\"schizophrenics\",\"falasha\",\"stereo\",\"technologists\",\"configures\",\"mutts\",\"reverend\",\"aboriginal\",\"chumps\",\"stylish\",\"lycra\",\"mississippians\",\"coequal\",\"woefuller\",\"bobcats\",\"thymi\",\"unwrapping\",\"sticklers\",\"propelling\",\"mixers\",\"slouch\",\"mormonism\",\"ericka\",\"policewoman\",\"hohenstaufen\",\"sprites\",\"clacking\",\"antigua\",\"volvo\",\"proms\",\"berbers\",\"parachutes\",\"notarizing\",\"cookbooks\",\"parrying\",\"sunshine\",\"laburnums\",\"jocosely\",\"uplifts\",\"rebuses\",\"hodges\",\"utilize\",\"sloshes\",\"bacchanalia\",\"semi\",\"pyramids\",\"solemnized\",\"recycles\",\"treeing\",\"woodbine\",\"laths\",\"welters\",\"upcountry\",\"shutdown\",\"vasectomy\",\"inchon\",\"warhead\",\"phobics\",\"justifiably\",\"welders\",\"boycott\",\"mimeographing\",\"obsolete\",\"streaming\",\"paramilitary\",\"envelops\",\"saunter\",\"prorates\",\"glazing\",\"racing\",\"pig\",\"outcome\",\"located\",\"nursemaid\",\"extended\",\"humanitarian\",\"newscasting\",\"verandas\",\"mantes\",\"taints\",\"nowhere\",\"overborne\",\"jaime\",\"rankest\",\"rebating\",\"kroger\",\"slowness\",\"esophagus\",\"assessed\",\"hardheaded\",\"classification\",\"softener\",\"wastelands\",\"approbations\",\"levelheaded\",\"jamming\",\"facetiously\",\"bushing\",\"larboards\",\"nicobar\",\"lesotho\",\"marionette\",\"profiteering\",\"addictive\",\"congest\",\"crests\",\"durante\",\"trawled\",\"lodz\",\"pernod\",\"futurity\",\"sexy\",\"unpick\",\"encapsulations\",\"rubbled\",\"theorists\",\"lanker\",\"clank\",\"comparably\",\"exes\",\"gadget\",\"lusaka\",\"swish\",\"disenchantment\",\"marquesses\",\"buncombe\",\"bonaparte\",\"pentathlons\",\"blemish\",\"beechnut\",\"effortless\",\"triceps\",\"destruct\",\"overthrown\",\"dietaries\",\"headquarter\",\"plateau\",\"fencers\",\"loyalties\",\"accuracy\",\"descants\",\"nonstandard\",\"reliving\",\"produced\",\"pandemics\",\"commemorate\",\"hay\",\"rowboat\",\"actuaries\",\"vigorously\",\"accuse\",\"upgraded\",\"palavered\",\"drugstores\",\"vulgarizes\",\"digitally\",\"pesos\",\"appraisers\",\"sins\",\"miter\",\"module\",\"hibachis\",\"unseated\",\"park\",\"continent\",\"rocks\",\"footbridge\",\"serenades\",\"filleted\",\"north\",\"snoopier\",\"vest\",\"carnap\",\"nightsticks\",\"branch\",\"seeks\",\"supervises\",\"musculature\",\"sunburns\",\"cavour\",\"lumbermen\",\"joyfullest\",\"overlook\",\"yellowed\",\"backbit\",\"tussles\",\"sassafrases\",\"judiciousness\",\"firewalled\",\"spoon\",\"preheating\",\"freckles\",\"flabbergasting\",\"distrusting\",\"snitched\",\"frontier\",\"inappropriate\",\"bork\",\"instructional\",\"noway\",\"trustees\",\"feasible\",\"civilians\",\"jitterbugging\",\"sobbed\",\"lolling\",\"forester\",\"mispronounce\",\"little\",\"bugger\",\"jettison\",\"hysterics\",\"nightingale\",\"transvestites\",\"oates\",\"purges\",\"nonalcoholics\",\"surpluses\",\"wraith\",\"prokofiev\",\"fornicate\",\"pharisee\",\"writer\",\"hydra\",\"pleasured\",\"alienation\",\"ulcerous\",\"kosygin\",\"awarest\",\"hawkish\",\"brahmanisms\",\"regretful\",\"nifty\",\"naivest\",\"deliberates\",\"architectures\",\"undefinable\",\"peloponnese\",\"choirs\",\"cooperation\",\"photostat\",\"misrepresenting\",\"tuckers\",\"ditch\",\"milksops\",\"dilbert\",\"lesbianism\",\"advertises\",\"wordsworth\",\"lavishes\",\"disloyally\",\"mongolians\",\"arizonans\",\"moistened\",\"m\",\"satirize\",\"professorship\",\"odom\",\"overlong\",\"dislodges\",\"privileges\",\"persians\",\"dated\",\"survivor\",\"effie\",\"informants\",\"charming\",\"termed\",\"trendiest\",\"disenchants\",\"impressionable\",\"squiggling\",\"potshots\",\"broods\",\"adeline\",\"cog\",\"dunged\",\"yang\",\"slayings\",\"llano\",\"heathen\",\"chatterley\",\"lush\",\"birthplace\",\"alphabetizing\",\"yucked\",\"studs\",\"spokespersons\",\"overcoat\",\"bubbly\",\"liquids\",\"referees\",\"ostracized\",\"levelled\",\"salvation\",\"conferred\",\"shoeshines\",\"bluenose\",\"arbitrate\",\"flatbeds\",\"attempt\",\"suavity\",\"ombudsman\",\"attributively\",\"cheerful\",\"vancouver\",\"filliped\",\"murdoch\",\"pluralistic\",\"tempests\",\"enhancing\",\"rostand\",\"ebonies\",\"chipped\",\"bodice\",\"causation\",\"sharron\",\"waxiness\",\"lute\",\"snoozes\",\"dickered\",\"gratifies\",\"neuron\",\"condemned\",\"javelin\",\"undisturbed\",\"lauded\",\"vetting\",\"burrows\",\"prolific\",\"scarves\",\"sorrowed\",\"understatements\",\"affabler\",\"ampuls\",\"malices\",\"extemporizing\"]\n",
    "strs = [\"eat\",\"tea\",\"tan\",\"ate\",\"nat\",\"bat\"]\n",
    "anagram_map = defaultdict(list)\n",
    "        \n",
    "for word in strs:\n",
    "    sorted_word = ''.join(sorted(word))\n",
    "    anagram_map[sorted_word].append(word)\n",
    "        \n",
    "list(anagram_map.values())"
   ]
  },
  {
   "cell_type": "code",
   "execution_count": 4,
   "id": "a2bcc826",
   "metadata": {},
   "outputs": [
    {
     "name": "stdout",
     "output_type": "stream",
     "text": [
      "('e', 'a', 't')\n",
      "('e', 'a', 't')\n",
      "('n', 'a', 't')\n",
      "('e', 'a', 't')\n",
      "('n', 'a', 't')\n",
      "('a', 'b', 't')\n"
     ]
    },
    {
     "data": {
      "text/plain": [
       "[['ate'], ['nat'], ['bat']]"
      ]
     },
     "execution_count": 4,
     "metadata": {},
     "output_type": "execute_result"
    }
   ],
   "source": [
    "from collections import Counter\n",
    "# strs = [\"eat\",\"tea\",\"tan\",\"ate\",\"nat\",\"bat\"]\n",
    "strs = [\"eat\",\"tea\",\"tan\",\"ate\",\"nat\",\"bat\"]\n",
    "dict1 = dict()\n",
    "\n",
    "for idx in range(len(strs)):\n",
    "    str1 = strs[idx]\n",
    "    word = ''.join(sorted(str1))\n",
    "    x = tuple(set(word))\n",
    "    print(x)\n",
    "    if (x in dict1.keys()) and (Counter(str1)==Counter(dict1[x][0])):\n",
    "        dict1[word].append(str1)\n",
    "    else:\n",
    "        dict1[word] = [str1]\n",
    "\n",
    "\n",
    "list(dict1.values())"
   ]
  },
  {
   "cell_type": "code",
   "execution_count": 51,
   "id": "b8107bd7",
   "metadata": {},
   "outputs": [
    {
     "name": "stdout",
     "output_type": "stream",
     "text": [
      "[['eat']]\n",
      "[['eat', 'tea']]\n",
      "[['eat', 'tea'], ['tan']]\n",
      "[['eat', 'tea', 'ate'], ['tan']]\n",
      "[['eat', 'tea', 'ate'], ['tan', 'nat']]\n"
     ]
    },
    {
     "data": {
      "text/plain": [
       "[['eat', 'tea', 'ate'], ['tan', 'nat'], ['bat']]"
      ]
     },
     "execution_count": 51,
     "metadata": {},
     "output_type": "execute_result"
    }
   ],
   "source": [
    "from collections import Counter\n",
    "strs = [\"eat\",\"tea\",\"tan\",\"ate\",\"nat\",\"bat\"]\n",
    "\n",
    "res_lst = [[strs[0]]]\n",
    "\n",
    "for str1 in strs[1:]:\n",
    "    print(res_lst)\n",
    "    for idx, res in enumerate(res_lst):\n",
    "        if (Counter(str1) == Counter(res[0])):\n",
    "#             if (str1 not in res):\n",
    "            res.append(str1)\n",
    "            break\n",
    "        elif idx==len(res_lst)-1:\n",
    "            res_lst.append([str1])\n",
    "            break\n",
    "res_lst"
   ]
  },
  {
   "cell_type": "code",
   "execution_count": 52,
   "id": "bee370f3",
   "metadata": {},
   "outputs": [
    {
     "data": {
      "text/plain": [
       "True"
      ]
     },
     "execution_count": 52,
     "metadata": {},
     "output_type": "execute_result"
    }
   ],
   "source": [
    "\"\"==\"\""
   ]
  },
  {
   "cell_type": "code",
   "execution_count": 38,
   "id": "ed8abb17",
   "metadata": {},
   "outputs": [
    {
     "data": {
      "text/plain": [
       "1"
      ]
     },
     "execution_count": 38,
     "metadata": {},
     "output_type": "execute_result"
    }
   ],
   "source": [
    "# import counter class from collections module\n",
    "from collections import Counter\n",
    " \n",
    "#Creating a Counter class object using list as an iterable data container\n",
    "# a = [12, 3, 4, 3, 5, 11, 12, 6, 7]\n",
    "a = [14,12,14,14,12,14,14,12,12,12,12,14,14,12,14,14,14,12,12]\n",
    " \n",
    "# x = Counter(a)\n",
    "# print(x)\n",
    "# for k,v in x.items():\n",
    "#     print(k, v)\n",
    "# t=-1\n",
    "# if t:\n",
    "#     print(t)\n",
    "4//3"
   ]
  },
  {
   "cell_type": "code",
   "execution_count": 27,
   "id": "f90ca447",
   "metadata": {},
   "outputs": [
    {
     "data": {
      "text/plain": [
       "0"
      ]
     },
     "execution_count": 27,
     "metadata": {},
     "output_type": "execute_result"
    }
   ],
   "source": [
    "s=\"000000\"\n",
    "s.count(\"1\")"
   ]
  },
  {
   "cell_type": "code",
   "execution_count": 23,
   "id": "6c289776",
   "metadata": {},
   "outputs": [],
   "source": [
    "def findMatrix(num):\n",
    "        output = []\n",
    "        # idx = 0\n",
    "        for num in nums:\n",
    "            print(f'num:{num}')\n",
    "            if len(output)==0:# and (num not in output):\n",
    "                output.append([num])\n",
    "                print(f'1:{output}')\n",
    "            else:\n",
    "                for idx in range(len(output)):\n",
    "                    if num not in output[idx]:\n",
    "                        output[idx].append(num)\n",
    "                        print(f'2:{output}')\n",
    "                        break\n",
    "                    elif idx == len(output)-1:\n",
    "                        output.append([num])\n",
    "                        print(f'3:{output}')\n",
    "            print('-'*20)\n",
    "        return output"
   ]
  },
  {
   "cell_type": "code",
   "execution_count": 24,
   "id": "41efb553",
   "metadata": {},
   "outputs": [
    {
     "name": "stdout",
     "output_type": "stream",
     "text": [
      "num:1\n",
      "1:[[1]]\n",
      "--------------------\n",
      "num:3\n",
      "2:[[1, 3]]\n",
      "--------------------\n",
      "num:4\n",
      "2:[[1, 3, 4]]\n",
      "--------------------\n",
      "num:1\n",
      "3:[[1, 3, 4], [1]]\n",
      "--------------------\n",
      "num:2\n",
      "2:[[1, 3, 4, 2], [1]]\n",
      "--------------------\n",
      "num:3\n",
      "2:[[1, 3, 4, 2], [1, 3]]\n",
      "--------------------\n",
      "num:1\n",
      "3:[[1, 3, 4, 2], [1, 3], [1]]\n",
      "--------------------\n"
     ]
    },
    {
     "data": {
      "text/plain": [
       "[[1, 3, 4, 2], [1, 3], [1]]"
      ]
     },
     "execution_count": 24,
     "metadata": {},
     "output_type": "execute_result"
    }
   ],
   "source": [
    "nums = [1,3,4,1,2,3,1]\n",
    "findMatrix(nums)"
   ]
  },
  {
   "cell_type": "code",
   "execution_count": 3,
   "id": "99b8a5bd",
   "metadata": {},
   "outputs": [],
   "source": [
    "g=[262,437,433,102,438,346,131,160,281,34,219,373,466,275,51,118,209,32,108,57,385,514,439,73,271,442,366,515,284,425,491,466,322,34,484,231,450,355,106,279,496,312,96,461,446,422,143,98,444,461,142,234,416,45,271,344,446,364,216,16,431,370,120,463,377,106,113,406,406,481,304,41,2,174,81,220,158,104,119,95,479,323,145,205,218,482,345,324,253,368,214,379,343,375,134,145,268,56,206]\n",
    "s=[149,79,388,251,417,82,233,377,95,309,418,400,501,349,348,400,461,495,104,330,155,483,334,436,512,232,511,40,343,334,307,56,164,276,399,337,59,440,3,458,417,291,354,419,516,4,370,106,469,254,274,163,345,513,130,292,330,198,142,95,18,295,126,131,339,171,347,199,244,428,383,43,315,353,91,289,466,178,425,112,420,85,159,360,241,300,295,285,310,76,69,297,155,416,333,416,226,262,63,445,77,151,368,406,171,13,198,30,446,142,329,245,505,238,352,113,485,296,337,507,91,437,366,511,414,46,78,399,283,106,202,494,380,479,522,479,438,21,130,293,422,440,71,321,446,358,39,447,427,6,33,429,324,76,396,444,519,159,45,403,243,251,373,251,23,140,7,356,194,499,276,251,311,10,147,30,276,430,151,519,36,354,162,451,524,312,447,77,170,428,23,283,249,466,39,58,424,68,481,2,173,179,382,334,430,84,151,293,95,522,358,505,63,524,143,119,325,401,6,361,284,418,169,256,221,330,23,72,185,376,515,84,319,27,66,497]\n"
   ]
  },
  {
   "cell_type": "code",
   "execution_count": 8,
   "id": "ff7ba8e4",
   "metadata": {},
   "outputs": [
    {
     "data": {
      "text/plain": [
       "35"
      ]
     },
     "execution_count": 8,
     "metadata": {},
     "output_type": "execute_result"
    }
   ],
   "source": [
    "def findContentChildren(g,s):\n",
    "    cnt = 0\n",
    "    for greed in g:\n",
    "        if greed in s:\n",
    "            cnt+=1\n",
    "            for idx in range(len(s)):\n",
    "                s.remove(s[idx])\n",
    "                break\n",
    "\n",
    "    return cnt\n",
    "\n",
    "findContentChildren(g, s)"
   ]
  },
  {
   "cell_type": "code",
   "execution_count": 5,
   "id": "5ad84408",
   "metadata": {
    "scrolled": true
   },
   "outputs": [
    {
     "data": {
      "text/plain": [
       "Counter({262: 1,\n",
       "         437: 1,\n",
       "         433: 1,\n",
       "         102: 1,\n",
       "         438: 1,\n",
       "         346: 1,\n",
       "         131: 1,\n",
       "         160: 1,\n",
       "         281: 1,\n",
       "         34: 2,\n",
       "         219: 1,\n",
       "         373: 1,\n",
       "         466: 2,\n",
       "         275: 1,\n",
       "         51: 1,\n",
       "         118: 1,\n",
       "         209: 1,\n",
       "         32: 1,\n",
       "         108: 1,\n",
       "         57: 1,\n",
       "         385: 1,\n",
       "         514: 1,\n",
       "         439: 1,\n",
       "         73: 1,\n",
       "         271: 2,\n",
       "         442: 1,\n",
       "         366: 1,\n",
       "         515: 1,\n",
       "         284: 1,\n",
       "         425: 1,\n",
       "         491: 1,\n",
       "         322: 1,\n",
       "         484: 1,\n",
       "         231: 1,\n",
       "         450: 1,\n",
       "         355: 1,\n",
       "         106: 2,\n",
       "         279: 1,\n",
       "         496: 1,\n",
       "         312: 1,\n",
       "         96: 1,\n",
       "         461: 2,\n",
       "         446: 2,\n",
       "         422: 1,\n",
       "         143: 1,\n",
       "         98: 1,\n",
       "         444: 1,\n",
       "         142: 1,\n",
       "         234: 1,\n",
       "         416: 1,\n",
       "         45: 1,\n",
       "         344: 1,\n",
       "         364: 1,\n",
       "         216: 1,\n",
       "         16: 1,\n",
       "         431: 1,\n",
       "         370: 1,\n",
       "         120: 1,\n",
       "         463: 1,\n",
       "         377: 1,\n",
       "         113: 1,\n",
       "         406: 2,\n",
       "         481: 1,\n",
       "         304: 1,\n",
       "         41: 1,\n",
       "         2: 1,\n",
       "         174: 1,\n",
       "         81: 1,\n",
       "         220: 1,\n",
       "         158: 1,\n",
       "         104: 1,\n",
       "         119: 1,\n",
       "         95: 1,\n",
       "         479: 1,\n",
       "         323: 1,\n",
       "         145: 2,\n",
       "         205: 1,\n",
       "         218: 1,\n",
       "         482: 1,\n",
       "         345: 1,\n",
       "         324: 1,\n",
       "         253: 1,\n",
       "         368: 1,\n",
       "         214: 1,\n",
       "         379: 1,\n",
       "         343: 1,\n",
       "         375: 1,\n",
       "         134: 1,\n",
       "         268: 1,\n",
       "         56: 1,\n",
       "         206: 1})"
      ]
     },
     "execution_count": 5,
     "metadata": {},
     "output_type": "execute_result"
    }
   ],
   "source": [
    "# import counter class from collections module\n",
    "from collections import Counter\n",
    "\n",
    "# Creation of a Counter Class object using \n",
    "# string as an iterable data container\n",
    "Counter(g)"
   ]
  },
  {
   "cell_type": "code",
   "execution_count": 6,
   "id": "e6b65c5b",
   "metadata": {},
   "outputs": [
    {
     "data": {
      "text/plain": [
       "Counter({149: 1,\n",
       "         79: 1,\n",
       "         388: 1,\n",
       "         251: 4,\n",
       "         417: 2,\n",
       "         82: 1,\n",
       "         233: 1,\n",
       "         377: 1,\n",
       "         95: 3,\n",
       "         309: 1,\n",
       "         418: 2,\n",
       "         400: 2,\n",
       "         501: 1,\n",
       "         349: 1,\n",
       "         348: 1,\n",
       "         461: 1,\n",
       "         495: 1,\n",
       "         104: 1,\n",
       "         330: 3,\n",
       "         155: 2,\n",
       "         483: 1,\n",
       "         334: 3,\n",
       "         436: 1,\n",
       "         512: 1,\n",
       "         232: 1,\n",
       "         511: 2,\n",
       "         40: 1,\n",
       "         343: 1,\n",
       "         307: 1,\n",
       "         56: 1,\n",
       "         164: 1,\n",
       "         276: 3,\n",
       "         399: 2,\n",
       "         337: 2,\n",
       "         59: 1,\n",
       "         440: 2,\n",
       "         3: 1,\n",
       "         458: 1,\n",
       "         291: 1,\n",
       "         354: 2,\n",
       "         419: 1,\n",
       "         516: 1,\n",
       "         4: 1,\n",
       "         370: 1,\n",
       "         106: 2,\n",
       "         469: 1,\n",
       "         254: 1,\n",
       "         274: 1,\n",
       "         163: 1,\n",
       "         345: 1,\n",
       "         513: 1,\n",
       "         130: 2,\n",
       "         292: 1,\n",
       "         198: 2,\n",
       "         142: 2,\n",
       "         18: 1,\n",
       "         295: 2,\n",
       "         126: 1,\n",
       "         131: 1,\n",
       "         339: 1,\n",
       "         171: 2,\n",
       "         347: 1,\n",
       "         199: 1,\n",
       "         244: 1,\n",
       "         428: 2,\n",
       "         383: 1,\n",
       "         43: 1,\n",
       "         315: 1,\n",
       "         353: 1,\n",
       "         91: 2,\n",
       "         289: 1,\n",
       "         466: 2,\n",
       "         178: 1,\n",
       "         425: 1,\n",
       "         112: 1,\n",
       "         420: 1,\n",
       "         85: 1,\n",
       "         159: 2,\n",
       "         360: 1,\n",
       "         241: 1,\n",
       "         300: 1,\n",
       "         285: 1,\n",
       "         310: 1,\n",
       "         76: 2,\n",
       "         69: 1,\n",
       "         297: 1,\n",
       "         416: 2,\n",
       "         333: 1,\n",
       "         226: 1,\n",
       "         262: 1,\n",
       "         63: 2,\n",
       "         445: 1,\n",
       "         77: 2,\n",
       "         151: 3,\n",
       "         368: 1,\n",
       "         406: 1,\n",
       "         13: 1,\n",
       "         30: 2,\n",
       "         446: 2,\n",
       "         329: 1,\n",
       "         245: 1,\n",
       "         505: 2,\n",
       "         238: 1,\n",
       "         352: 1,\n",
       "         113: 1,\n",
       "         485: 1,\n",
       "         296: 1,\n",
       "         507: 1,\n",
       "         437: 1,\n",
       "         366: 1,\n",
       "         414: 1,\n",
       "         46: 1,\n",
       "         78: 1,\n",
       "         283: 2,\n",
       "         202: 1,\n",
       "         494: 1,\n",
       "         380: 1,\n",
       "         479: 2,\n",
       "         522: 2,\n",
       "         438: 1,\n",
       "         21: 1,\n",
       "         293: 2,\n",
       "         422: 1,\n",
       "         71: 1,\n",
       "         321: 1,\n",
       "         358: 2,\n",
       "         39: 2,\n",
       "         447: 2,\n",
       "         427: 1,\n",
       "         6: 2,\n",
       "         33: 1,\n",
       "         429: 1,\n",
       "         324: 1,\n",
       "         396: 1,\n",
       "         444: 1,\n",
       "         519: 2,\n",
       "         45: 1,\n",
       "         403: 1,\n",
       "         243: 1,\n",
       "         373: 1,\n",
       "         23: 3,\n",
       "         140: 1,\n",
       "         7: 1,\n",
       "         356: 1,\n",
       "         194: 1,\n",
       "         499: 1,\n",
       "         311: 1,\n",
       "         10: 1,\n",
       "         147: 1,\n",
       "         430: 2,\n",
       "         36: 1,\n",
       "         162: 1,\n",
       "         451: 1,\n",
       "         524: 2,\n",
       "         312: 1,\n",
       "         170: 1,\n",
       "         249: 1,\n",
       "         58: 1,\n",
       "         424: 1,\n",
       "         68: 1,\n",
       "         481: 1,\n",
       "         2: 1,\n",
       "         173: 1,\n",
       "         179: 1,\n",
       "         382: 1,\n",
       "         84: 2,\n",
       "         143: 1,\n",
       "         119: 1,\n",
       "         325: 1,\n",
       "         401: 1,\n",
       "         361: 1,\n",
       "         284: 1,\n",
       "         169: 1,\n",
       "         256: 1,\n",
       "         221: 1,\n",
       "         72: 1,\n",
       "         185: 1,\n",
       "         376: 1,\n",
       "         515: 1,\n",
       "         319: 1,\n",
       "         27: 1,\n",
       "         66: 1,\n",
       "         497: 1})"
      ]
     },
     "execution_count": 6,
     "metadata": {},
     "output_type": "execute_result"
    }
   ],
   "source": [
    "Counter(s)"
   ]
  },
  {
   "cell_type": "markdown",
   "id": "a8bad5cf",
   "metadata": {},
   "source": [
    "---"
   ]
  },
  {
   "cell_type": "code",
   "execution_count": null,
   "id": "5d6305d7",
   "metadata": {},
   "outputs": [],
   "source": [
    "# quick sort\n",
    "l = [0,9,3,8,2,7,5]\n",
    "\n",
    "def qs(l, pivot):\n",
    "    for num in l:\n",
    "        if l < pivot:\n",
    "            \n"
   ]
  },
  {
   "cell_type": "code",
   "execution_count": null,
   "id": "116f71d9",
   "metadata": {},
   "outputs": [],
   "source": []
  },
  {
   "cell_type": "code",
   "execution_count": 66,
   "id": "31b5e35e",
   "metadata": {},
   "outputs": [],
   "source": [
    "nums=[\"10133890\",\"52\",\"24\",\"\"]\n",
    "# nums = [\"8822284628006686824062608282282828802482026464846088620482040464402606828602602244808066460262686008684240008442068040648482260246880266624486662640884062480884880284462660442448808220660846208866266448004646480806868624268866284428048226260644048086280648444880042220446008620824402406422484802666228466444668624404008668008020646808604440686024862408404846248686028808262844646666684860824280246604802000400208846462688464466866646240200462044800482800400688408288040460826402220080842844824820042206462488862068288488686648486402404264062420604408486608002666268468086282680860042206462666008642882846080662684420208286862644208622226402880086408802486844228288202248006086226888828482220682248800648648622080482822800248408860060002888066426242642842266602808048400482664428660288680684622220228064426264840682088020460020044888288046606280428004220840826680248600280206426828688082642046622684808222802080200664802008086646242082248002280042882006020820226806600628022664002446080404002646060262484800006066848086682240646462008600688226424262482688224800048246204402800228404868608862208480640060444286060284400224642602800482086802220480002228064684606062228404886400600202628482400686400040082008404660864420228464640020220060648840482824424226604880402046824404664242022044626806844008882682664826022068686082264844264406624426020608082622602484840642200002046840668808620622226666200608820466282228288042468640020884406828686622464086840282026640002466224884202262026806848204086602204682840820842424824848664246884684286082066866440886824688826088006486048262264000640648608444404602640026040880226804202448406622224204260426648826288660008226668040084406484042048260688048402802046228008022486440002200648224640866682402886648482866048424804426022202080200602640442046248284200482624046468246686280688044282408642048804042822620800464282288482686488404200846248222404482826240460804804400242800800646804482060022208888864440668646688602262202606888024068044804000280800642004646662646464066644682620662402422448806464802464082886228842060046826064628460646284204806680262648446026000202442068286604848408062480808040600606864068806828088820602444268222082406626604264604464620606682660684604640448626688804662060288646284468002048688446068248842808688400828664226808888200824284606428866848426846062860202888208208024886026660606860608022804848466044648680800086402486604644648268624648804220240084408200222288264466864004224684024402006628628806286224068204084864284026420660646660226620602440282464408240228268420406006840862426224666204228444642642040042644626222040880862228666620268486646688608004040060028688440666846642264468482848260684666208886608040066204204464468842846246088226068888002086402686246688086280640040288860024886408226028260246888088846028046684604464084008084466886008248466648822884288080622822668644086286248464624680404062606866084648620860606268046220046064222800486622602828484280268842242686886604648840242042200206400024082022268842488042620804800864066024062042886822048480440466220628662268402402080284662220848448808888662044022004284884688680622244640462282444288604488202642406604848242200248464806442808062068406804066404202688844444862848404260260408860408882422646244482068002668860224008060224824886820408860828862420822002868084880686046066026248440020624844240682046020808428406282048248262080000408082228268862268808884408024664886262084884248266882684802822202886840844206846028260482020848804260006468260024222240066648202828886264840688644888204888046286844426864620226066620062460802842082224646002220402448044046686684044244242086482882084024622826226240664840200262624642604202840628042602248226840206020244804882080026882026642482688806684044602888604662046004460864268826062882042046286600460208808880082220406888668022024804000462666284646204822220222424268684844222826408484880282244824048066402806646200260044400642800082484424028084280244482684068040628260042288022628822468202024668608068466284282486840464828204002068882440442800442640086206862088884006882248800222008222480080202806002640480406044064082608660406486442028806486642846828602066862622862882660602446004064222806688446460844066202062424402886642468800048240842608468044202046228680264048402400688604264242808420400240060280800080628284202442428426644228046824680426080800808642208060820622446684604226082482464862246046622000224088488860684662280442002006448422844264422642204024882002026828668462628088608204260600666884282206026286026824620248044046226884880224682860260648608026260226240822242460888082004620868448224082262066080866406822248228248846820282668462028264042082442202008242046228444280400008604866040644666264846484242644808464480080844080084480042226466848664226060068480462868262280686800246068806242868204408048826260842000024022082048820060406646402044202424408480686428022284028026064884204480228004422068444648026862448006086480022004082280420624642400404860224488202864880622666640028802628066444228604804846682066826086806606264664806642088288886444044080444806886828084804662828440688626004248240488868688406884686860408400686800628680206042066800066446224848288286484240888024846886068040622244440244088448426482884400606040086246848428224428202260240800248820820600468062460828646246262482264004260046460882242802662268624400082060462406062062026284686484086486064868268268060666620682248040684260868264228886804026828420024860600008028240086062244444228842806860286404608226840826664002244462240242422862402080820226486242000046408688046466644804468486624260066484460222408666808080244240088442206406828280688824002466400640444262022442684204204842800604626044028808602604242640284268428006624806848820208286264200244268040084402680604848242822202084644822422664440284068268428262602826000806600468466826440628422880008664082226608486260220422066886200666624080460046602822882428460088206042226228240482006220628860280282260260082448266046886060600884402620428646646042228226662820400848484420624086604082204024220022046684684468084286286648624664448064288866468882620424480846844044400684628282646828288048860828448828244828044644404840044226808248626448800842408004886626664668400468660480602646848064402826228224802482282040224000460220888462646222266888242808484046088840606444644400822008648880084486060228206202208680686480440648404262440406824882046684042248806666008684464660666080862202028024286646646426886008046460682488200424088826820606264604642002468422260840280204240420048248846008242680440208802068404000244644888044208084208662262460826888024824228446488420880608400806202006482066880480828840042242242462620246000864222848846604884000682488642820826646084062204886666428428068804848428622004000264844626084826040888864442222486842264888442228884042628220680246408662668268486004246202206864062806008020406464602628224008020404842440644888026848882860808488826226448040468464848220806488426420686284428086204608468442486468608646268620288420604042262400460804682262082484068068064204204426206664464208068824022626680006440640284060886062480400884466866222286488826422840820468682264046664082624482866628446848682644046422840600422886824406844402046086642886002468400842282008026280008820088064840262224040208864048280806248202420282024446080284626228844268868480084804864666000826446448028220488208468266244280082460080066022480282466686800284040082460060224040882266664246680440480084822020624240604406224024284462288606424880428286622022220880048442886420464204442842688208664606620622606864826024044668808868084264682004060286848884888020004466624842286240602208804440604862620262866684246626082844048844606286424066284080068248400488820486684044480862226824448604686648402442808288680260042060264666286644484864266242602282442462084022400006680422062640660282602600202820448062860226600440228864882066602048804400406428060044884248440620400064488482866684884080404422002262082888464208224006268640888842286004224084808284022602064226800026888468204400422420286282688646666868020420062284808048864444408602264408840888826026608820660408804288846680400202426408684802886002028640660806604460644828800486066820860602022068628026260424060640082260644060284402486062628684642042206088248024684422646428044248686686288606262808066228280042048086824402224248642882606828282242840666808042646044202266620662064228806646886680088800406460862826464226286846020682422004068268202266604664246462820080664442844208842286260404840488202426086668004880226440442206448444264008040066644024262008444600484002064668044208626022480862848822828488264464604222202204488628026864280666622004086828464600626480080468042266486208402080424806246884684400220448646682264622428442400060020062664048406426222004440408440620468000868024026882444060064002682462880200284260284828640082086004826400866286622404462462642202040620800460060028042288006644840842208024604022646222242280806626486460440246882084600686460602640446060204044626880408864242680204602862224480600200000448204024604002004642846688424028642244088886402882466024268686084082466266648806026000202020682464642862464484244066664624800040868602088682406882222606468020400828400666824402264824826826284806008662226484060204206222086824688848648648404060628446488408088888600462200600486008846280604884280222282488640202428020684228028048804862002262646080862886866264024888642682242044248686626800640282280646264486266466220684042844806488242464820862404804086642402208646068408028824280882884864228480066040826820620008008444462462402484048422022886200208448660462264262240400880066080082404204486222026228040266886864880206600884268200626688280402020880224448288060406882202602440866640424442822688622042860268062620688204882842242022284648222628264880466086682060600286402002408664066624686006448844282666464264060220022842682842004848464468288248060486086228848606606244082602008886068822026404866266804846682662280864886406600228826206648020644662666282622666480806822664028428808046466822868466088208424044284864684084628860080666066206044840804882866824462288246462082660208688844866060024684800888828062688886264224820484862228822802822066422800802846022288228622060064062880046440002088600668680028884024020288842406868828480882440246642206280680264226026646260404464626600880048022442262464620666062460682486040484642862480024004802408266680204068240446204044040442246002288464262066848086086208420820840284082462042026462260064240668866424440280804024820088028484282622068400260800242262842068462660400486246680262828206880004486006406668042882408060244400644068444062428288644628088464886826222088260280680620046406600480044822406824206606846608440288824828848266422000484020266020040686086600804280608662060886246240000680402424226080802244604666820820208860828024284648684002288686606820444028880262004064820068086040864002440888606884004884484242882082864268086068460688202440624040066620246424866820420664204668824400806084620862400842646484448200668640884268802486028042642042026282282668086082846406800268088840204804646648880280642446222086460264268824008486428048426286002840420844626448000068606662824844468266680640024066426206244244880402686208604808660226020626646406200002868604600608208406246202406864220204220062068840600444248444202684682624864808848646280888462862006442604688666468424086282808604882668660442202244822024622682488282486062804688400666280202842880280426684020020668444428224866882424460648468402424268486288428684242200642400062240002264862064040262246442286868868824446882280048062808000488646802646240848006828688222622402080862246424680046488642626626268622022684208288848400482226240620842682220064682800460264662862408804868220446408264246886262040048004022242088664268008064626228262640660862686804820084466464802642842086286824648640404882420446484466862462886048282260440040262648462846426488062620040868048402820404044464846844280440248202846224464822024242808806480866208020828066446662200866426084200042648484042002228020884042864642468448226402040440020288008868228044800604800420486640648442402262442622240000420206264640242464262868088020026048622266888222662888220646884666406088882002426826002466680440000282242484802226248064606644002828882642068200042404044084222022824000642642028280462068688488424604400208682486866424882866002862046864466068062200884222680686440808488428680446686886208668226008424602440640222662646884400084400482642644064864464882662086868202222880288666664028406482264484820266604028604442288864064684440006600686400228006828226846664804428820480480428882602864402024824066046202826864408842228064228482628406086828284202046206400200404088464620240002846884840884466206246002884280888048844840608882082062020642624284044864646642884402826228280028000288062804066220480882620888408448646808826428680626208088246660466628488442062064266826000082008620262024408482008646684628068028248444868608408046044886608448602666222464844460242600084664668402208422226222660048604802662442028286286826602808684488688600882482468822682224688806064404840482604086826864666642808886842608624680802624840004048406024640482086044880246260602086040662428068280480460220480688228626424022228464240008060086862066228084246260280680088048648420442462400626202464204402040208280426864688442648028664486828846402488068246626460666866442860408402620680480688242000462246460460864480008646804600826222486048440246406084444664808022800002202462820244466068084422080244282486604684668006288284608244628486820868466286062484880884442066848004684244288646886828824424486446808264622840240804802804444026864228862248220648228006428884082886826440608620428208484020628448004822288824022066248864428644022062044442660408086204646404842642642842826248060806446000842468242664844024660868080064862022204662062822442228668668846246404624646808688028020020404608004668426004620068402660286866420420404840060884008608644884468808244266628480848428626842424002642022408420480440024006608044448020844820082006822680660080000868228000648402884044224248206262844044462860220662804682024066244682408408288260886482006282682422042824060664260044880068666242848420260664060246628828826468824648446600000624242802644428828480202408086446606646848048664400860644048882840886082668266400840824280866866844820004284224404682264204086060208800622804000628468640806488228220002202622868684442628606480268022082248042482688064640884204828060820220606840426466228066862086466048620808244848482242828062084240644242662000064686060626642620884442624066868246888822280604626886602020002828602068462082424024068060208688666022204804064042426866460846820084440626848668824640680266088664402424048886068082682064262268682840446488644286060268682428040068080600866822006660620828246620084004002446846886008486284284802246624886404424000066024060204228462408262240206420686426020608682468082800864486240086088428262404062244008080866888424004664222028022068848866648660688404048824828060648020642444842664220866266844488262646082066002020044666848060608602406244288224666048806242600888262228444468428200648060200440404206886882242842842866826688460686006404848440006822408826606804444228084682048260042260662044404042888224244808202680066202068888204422020266044802242446208224462828682864464428420066284020886826204422864082200824466086862426402448068268084422884422462688246042006826886842688240422008080664862042062868660848684882242428042460824648202880640448688428888248844608206282460664682824020862044600244428284242626266604668224668268822402082200820680286482408086404666026426822440642404246402282620002444266040668240066044246408622680688846662448086044686666664664244846424420008080080264666404000220686280468802482822846028806460240042264828064222286446224664400224646800842260288686802286420662044266888204664880824486640846880484624204460822240442448640024222266464688004860664222822280004640800422604842264088244280862480686264026260626404666424828408840206422024424882804402088202462406422226002280862808200284082428802680026842068844646882680886444486242444884806080082242462448846822082046622242468642268600846806424046626204822286268040028422288260608848846042880460644828062886220664206022264222808844868826406422286648008200284642628444620026248620428424888262260288846466220460080822686684004640486426466822420224628220468806804024226688228826266222862804406400248822080626688868646464480286804208222440622400668260064842860800260820640006282866860200004088600284200062228842240040080806682246062068204284868242648624222082628000008484684642042084448282882220066084026406462204602862242642626482220660488820244400084408424662448480824644240484884248608844864246606466008624626042646268804806020844284484466068886024026440428006082408620240680206800888268840460222668886288202664404004866662600822086284448622668820626420668848644660224422040046060620680620826488462804024288082620444822062486846020848068404424628282624806688866682204640220806802048204882000286428462042020228822826844602644840844680206640040008246848484046600800608282060266280204484602268844608688204404268244640028800262020086660208088606080462864020200824288004808800286442640840008024602284648048084288400880842802826888444006400626028248242220406648202280224886262420206026086660488644002604040606228286664488262406846642004882084224682864688822246646426040264666262646464608840666668466248402620408060662628482622228064880040086228044268662048220028282806260080422086208022680422882028466266004682860026624804024404280604044464880608008468204468228286408468426680048668028640866606286028486426628680464206682008800444682480266626422086288404286048684860002288664682444448866686062460426064684808082048800624420624862248888068064620602288006448204086620802662088604426666022446420428842268642682042002068088404428000666600860242286424460406644002266226088660282640442446008880042464840228860404240826840844822260228482644060062684264808442680688268242666668004662228646626868066088866466624062888404422864084682006424204840204262842666248682686660064822084800282046666024684660266606000426408262846608866888408864606866640868464448882060420246688488886266080828244420686464828266640080660822242684228226880662424442408286444886608600064628862622006084626268064024284680448244486806642462088442864006880862644626828684468262682864426648886820200688646648884280486464082668206424680888684622244600828648046040466460060026442808488642462266262028262828008202420220682042242428646688204264668260006468204206648206648604484828026688600486464026664004228842602804880484666082660226062442402262840046404688800464064080824860848466642846826624084884282400804206466224480206488864280084428082426066604648064840448002840280042060060004862242000422204262406260824648866040666084662404066288208642000484242286600668422624624880860022024048264226628640684280080848842666444404082448088464442026242620868620882080284806026482486622420220868020424800064080048682068420864222088048466082688862420006040642246246680840802020248824062446848680486248628208646842048062802242684442460222646424822206026262288080222884062684462202222224082484424042464082644046428286040606484284480046020042466220682260268022048646642066608468022848846828868066424446428884626640642088400648840026424246244080606660688804844828084080662688248080824680064424042082664824006464844660026040444088486280002844844064622280022806640084440624460448262068408444082840228684068408822228408864020064286046224044248820468860804020668668280002628426628260042228802262040440240806884422262024868080448666666666204622868020024460600268060840026826244246006444444882664208626282622422284648868406248424444808666426248468088666066602260084084240062024004222028224268242686084864466646882688626024468220868426808206406408828668688802260842082228808808040286024648846062044082020260082428808820022282002866088220822624826202664800488288848242222208040060606404404082608060040202240206840404626686080626202866448022806046608404228426460628848886462202826626866668242648604624286262608084602084644608824862660866044068424862024664648222808042244462080284280446040048440682688062046426806886288268260408862226886482004000228886600400480020882208844622426424606668268646664222086624808004408000886486224006046286626842886648626268000804000624088042002200808008686862626040602842288204288684020048686208088446246844466200244802044280004880486666626004044260466880220846428884660404280680222048084220248484488224604840884088282684840082020882028860260460668888644204428844080028228468882646846620820420468064844480420666668488000066800262208402800686620842828428880682884600406208620882802848842844286602006626826080262668264842640648068422804824844484664086262842042640408882862246820286000466202864800026046666004082644284622406464640840020846486260626460066062608464844006062020606682080860862404422202662466202286200024040220880006408644442620000682280282486660200868428204800666822868020080408040408280808086880088864008422622222626800406684046246262620600604840860226244822484286048044624862840282048862422888466004048648042404200808242204486082260042668600448486080006800884628600848646282260608688864064624448246440640400442820686282264406028002802686244222842286482464482062088808484020082442006240804466224226042800220804600808204020466208244804486486066022400040844800440484022666840208286400288268064060642624648648680622408888248624664662862282006286408802688044082208820040684620086666002260486480262802020042408828464442406648046644628628028248282482624468082486842068482488826444480420884886860246284680668062626086400204608400228204828022246808066886488002080240026024628004226608226080642006028604400686606688600246020480888864640082868240226462822668402202604080862264826284068626246646402442860822828000442884082022822686004880824288208440402440626464200422444862448486028088242408026640448242428280606060040668840642664000066422402888288026024488048488800240448222866008288282268028682620262228886022644840042260846684864686846204222426248044802646462864828808006048684288240240288022044244842644208668840680486248800222668242082044004240880826820688888066284686042462248844280802242260088224062628664404484286280046860864022064648060022860646266044068440444822800624086462842446426064064824420084028802008266028066884000448666682864826422886486662004808244860082264848428820082488602044066806448646028080284044026684888486040226206828644406444208648008020068242284466428424226682880082620406226840024664082082200882468288442688066440006224462068828048808804626028240828402884262006608046840208820620646044648208408268666282204028202826664868842468864066846606484042664624424208606464028886864822848644446808222062868288826882460246648004828602462288886884246464608606082062844644424242842200406480068226088266664640024086824668680644262868886048248864204062026062820220008840242044480028424406002260866488068884462268866020046002846222666622808422408424466026228260806222848468480044266646404882484604600266664868224046222662668646222464226808086208822068046226840864242400000664002004200000442048840244202064244086868880228842640084422228802066848440840440406840642222622220244482848428402840206020406046602446040008408408040644864442024202422000208884428840888668282644864842462604246422626042042202022200486044620060466060444000660002668488806226466222480004608664468042864420206006068048824484680040408206448820682862486242888848824846408204806800000888026400828684040864882862886002800824060244200402888248804428402664200868820022042066240442460688226264884460080408622866280628482282420244620400602080060424228246244684468242406682200660622000020802620444446842446642824068240826642246464842486240008680648026406248688848244620282048404266488882442004260262422646086248008862062622644268206464228648806404088864000640864622280420464208662628606888044642806282620028442488484464886684260804884622806026022082046800066640828684604448626402282026084226824060464000286442426240808648884664668848022064804242244004244426448264868802666402080668664468622280286222880262882620420828644620462202000242604228408222260266286824808622066680022486420408622222220048880042484802800284026226626008600404264408844882400820228620802060204888002044000646884226600026288866404404842880864682220226824060644606884200608624606282260600026460000800826248288666040648608620228640482840488066040080008004240002406824886606682404226008400640806802604806206844886886466828646288886402460220284408422042666408602262042224086822248640602626868068606284802800002866806080668044242202806862062222084222806624082688480086082486668444486626488002426480662440460620646622444802008822246424488006486480822486448628882066802842008826648000246684808048228280844262860480664026242820284422484660802406002808868862464480820864264048268666806826020686220684882228248864464484464888408406460246284240064860226844680088468044486604686482628206680048208662628640466862688404820662208626406468822804000282682222000088028868240606408040842640404208246822626686466486468024000242000208426688086888444484262246688802006884286026280468228600244048046482648886868022286060268622800008624862442880680084824606600442648200822820628664624224820466428602200606840642066684686468628226804446606260868602840628808886808062648428008866804486622424642888886482244842462068880042602042882488420466866284626042042424066448688844680486606280464480846840862064044000640266824062024220886042802608602002604668200680246624840686824040248028466868488068466202080220824846482664002026088408806040866406228842642488664220026648444666026240226822400428422446288840002480602884400882622888484462848846862464608646066848608846004444080088066682826440626246082886482026888620602486888246062480206242004820484284628060620286002220282606868280868426662846622406604086260040280240822282644644240426424006848060886064680206846646844864642846044048420028462668004068404680688282220668206842006468064060864266088400648448648604484686448400688022844682444464826282266828622226240266208080804408062666244620448662848080068824802208208422406868284026604404082826408226886228848084424800846624868620688688260400262442220280688202824668842840824042208204086282464246482282266284402846082400842060420408840028604668002008226844802068804860480826602868040464440284286684080846606424684262262084460668020626602808884088846688806868468420626022086248488246848046846608066402000660606840248024680600288062228886448606022226664046226228244008644042860266244866626264284446200244420804086624648248088084228268208484046200064022022828224600620008044088680280662262224428000606802002062806228220400204404068826064420266648664620262486822468686448280604062206404202668664246200222884224464826424624048446206406026640620824224064244200006040884804466460622068600682602060480064446026026040880448664460404442246622482604660684004468606846246648868824480622226624080660664242080026462480888800246406688860022606208684666066620868264822062480628428284626680068088620888464460282044422284202628206880464648646442260402402206064846822826080066082608466046028882048888280046682842880684406848404404248200628844244686240602880822400882868220402626682804422224082884064828862420628660280484626288026804220426840224202484688420488202488840204406620222200826682842244648606640086846844068040802668020444442244222000000008082648680268246880626206024604448408826400468600404262660820266208660884866868640842066224262280684264644086666046268066042462486204206422242060666662686264440668680040428644026408420620002046288202884482406448000680082660440280620000286404422846686804040204444424040408806268628448022064426462084086420688648400844286826628864822424662208824040888288600080846262244284420662262468820044488622484028468624688820286880824608026422022668026664406222264226266424840844066642828282268804026440488404862842662448240268022486808426868040888626066006068046606040004282600260444802226224268406860422622688424840002466404424466844600468206680286044460404080648002226206244022260428662842602604644468028086464862006062086422280644042082686606000206826620226684246024202400446442288002220408666668808822620668604420628220682460468060442248022262044040466000644246288648448648000020404006228246462060802884404266624808088640044808664826228604222602800620682804884660682066844248022682646446808060460428002208826802446602488060026404468442220660266206022682840024440240488600408288680022862280402888060606024800260082684842282826086446082482648668046042680204664008082262220664206846002262440600628444468064626068820064002286660680642468088088866608646444826420628644644806224626864462282606002860280048422464668288480046048846482460446026280022266684604402020288624862002260200820662806880446204244884640462482608248608446642060042604608008622406400620200444626062848022604088660426026226684068206826604086828868846002088642660820242862088202020882224246402440082464408002468664408244282466648808048420202264088042468662264800420666640220246082848440086062208884408024222408648640642864020260680224042260424840820864284048444824008220600260620208004242408242466482608464084860848820640640004022448026482606404484884406046604200422648886460062442408082408646204206488208048602608080224646068460468446460466028604202462224084846086444688080402488646602646866828228622040080444086262444884064448422202042886824046408288686208646686406664044208420080280262602428886220084808826866664240240204468466888884426468026644046846444408220628464682026244446608442606204600886484008606800686620482084260464444600048048402400220202000442026606200482220082406888262868400484806686866202842426200266042844044480200688666864688860880680868604660022486206642008622802446866842288886220668848480044444224008826664806464268228068222066244000802684480006664860060268026462486828880884684688280622440280486268662048228222042802424688086482668682020464682028042224666864402482040204226208082624644464048048800648680622840086882862426060468208686068228482624482448686000084662686088448404804244688664024082060686642620024400680666426408848884828200828604020220204082244088808440084260826824402406268066266022688666804886680620604846062828860284228220604022820822400006204044608422640008422820886206682446604684242806082680228462466226802242484262204824806406426824608284446262804008402202608242684004460806244828444800068462442406462024640422644284406286060646886680080204242848420260686682026602848468464246620804644640246888462280680626402028222800282466404408466284048262280262486684260088684228602686200682666846862002040840640680204488262208226804646264808460602642682884622644086468242802480860266024088062680224084666026402428606026080448644684486202840240426660866286002464682404446204824868664222682628602866440848880846464644602806646040062484666624220020408262422888820826068200240046020044022866004024264602428626204244064464668864084280804068084422062244040022660420024626266266686866422022404206486462668462222024800042846028862026402408686046642480088248020006484248482400282662402426080464442006864226402600888422264624826040204482624484068644802666242628622404422062208820208022266804646462440068444460280446824402604684682426880028442026402684888440668202282402246060420242866442666828048440620222004868082408282440804846268448268826464644448406240466486248400664888086404040880488080260642624202060228048200400046406060060628826022848064006868660400840246686442204062240062606462428848468248884222888028642600080202408460082284482088400022020046800806402044828462408482628208624808608662620464444222282860420866022640880828228840862226022628860024624224204066642662260880046662482044840628882004622008264884860206668002840600868648448406244488228866468688242286066040886844260026424882826228060020802224480220040048440822004402682226048684608248246062442288220400622664024226084802008888806640608080644482428020482624228884688400488084882424468406064804422240026600486240040440262200426260628886646662600862800406264842806026862480820464000848008062824626484406246644022222888286248660662224200422064068220888642408644886824042680806484088680042466840022626020026604028660426286006000222460840222402806084868264808640806624682008664244026804600242802446848422046684482260284684008660446008804880688246460868040220682046824844668264464246086062428622606642828202642860222224206206448244226888288808086208280848600408868642682402426660002680040440806822602880666602620024662880026066426862880466602060280468286646228288068600260882846608060864288248468406220004600626026022662868862646026262220604044004480200482466828008802248406646042624468840600422880208448444660688428202408282020886626402468882482606664466026088640868428068622084264668824620464428220820068286224088822686806480260806004864820800264806626866684684622042266640602086464622264408222886866686642848486462686684686668044086442248066680264682642240204682068482624664828422488460400200848848862466686806684466848808480282228026646622468024604684626648800066406044604444662686848428262242020046444066044864648820686608640620660282000868604682208620402448240408446480806888082606624286020868664004646462042006880842608466026824064002422860600424604420666464808448424402406084066666286228286880044204200260420848820284020200268040864246060802206602644468006046424884620808022264686426426222420266428402260080808662082240428448662642822884228820082026220848820484426028406006460086222200800208822062042806608066848026868486040284002220286444244068688204602806264206446408622626846864668848488640066080224428020868266442646868626640422666062848868086640000868664400428408066262868222464640246822866246280884868462608084080248680884260466402862602280666846026648204842026002424648642820866888060806048480008080060642686244428000682802846642884404284028048260426060204442226860644444248886226688602024024004246486860240064220244802444428668604406086884464842068426424404228604040268268002068068646428266244644462440060820460006000820222820828282862224444662660040080808228004824280482828400466800644248024062202202220840488884064248648200646642066206604288462440664268268226468400226822200026604466000024040880402604668066426660266806066428822226888462604026066844686600024826828004662464446204424280828208242486242826426228244648002626800808442068602422046426084406620006604846800826642862246048246068006846002806624802028668282446282862840666028480882666264606426640260406428068646840064008084484406822804000666222080220208646888240662424022044422802068488882224844206424408842860846426604240644806684040682664684888800808426460462464844682484426822400060648206448266880620628648840680448820840046280840424822662680206086088264060006886082282820484666246462880642042604640800460604286208604460286468442820428246422042066406664660406240648862082200240224400688442688460806468242826806024466248422246220626226082624482884468848486428246086842204600262486044226804246808060264620848482860066066222802828008464426804608608284086066862880662264406666642446424426260602420402628468882806240262404002624442660024044002082826044062868684040402028644824484646062422000684286804484446446264040860400840460462606282080848086828240642284404288064660042662008422628088806422004460282288006260208668668262668886204682428822628888204282604266208062802484882820604864826244220420068844888402040484224460442202404826264862880020668608088884802624846828462688604024286622602440046868420022408620004224644608824866008402028628806008600204808808806860048462484028468082226664442448480288060408028402682222026660224802224862840228224060660668880224202442266044264624246084608080424646460020028680844808006402462048684064424462604622248088248026408062626220408684406426402048820466440466464028002646228844826862886802884242248220840642464884864044802626062602864224868668624682480266408664660866884868000608468466086206280844642468482268880064266284660644202004046428404080206208888668686282460020040000866442226606260686224088004622266282600808082862686046680268802248406442804442242208642868048206686606848022246222040004808666640848282668844224064026266004284228082600026862404860264404402240660406664020406446648684688682408042446864868044066842428440206488866884882022688262466426460660466400408084648842222468802864204682640644042626466842042428042608440860884606226802040022246624680424686642228826202640200040628464840644684624806442862068884842660248822028082080064004460280226848242820406208282202840620008662466206244006484800284064802086284400426286408426602848464886622088226488480488042806464644606426280668622426244224668620066420460666246406060820628088444084426282486048884286428880082842006482042888088840682606062600868628246806028848004426484440242024242248288800262822642488686684680048224428886244044248000284082244082824848260862820666402226480806802286848848606004024808022606226228008268082028464644006660280220244868682064080468400404646622488208200886206842680088440682840840868860006402202844866628206826404046682446486680888860266628822660860488202884608060884488064826484204068040488828806646006206284224400028642826648660220048622804448286228668044484848646044806420404624846424260600280460800860640648440260804422202088204220846806684664880226886404604282402402604008862424680240822068024666404404260888022404648004888420668042626682226866206262244406882664246822660848028066060044002020660646260828002802282802460060080822480808440420284448026408484882080664420422240402046248862648080426620288040640802820406820868860648868828804024200262846468062688400266808206462200848408008200006844642004422640222640426228080288422622402280488866602644268006848084024264440084404402802026446468426264266624824284880446642026462466660886042004824806082406600064620226648220266822848808626684026684820402060844800226044642064424682402482866264406260882220400644688868626848064860228864088640600262260286802244600486486220244862486820044684668842426260644006462600642686080688266266486004044660400408444422482820802622220884862282062684062862686062882882268682424086882842844084484482668480248688866660888824060462066462062040268206620886620204000280462424886028008606228444408406824446662800066022428624266246048000842268804048806884828600488264202408684226068002862006468484200484020200860440620884602866266208482600842808866220620204060046822464002482008288462604248848424842006028880008642640604428004060062664288086484002062822486224824448242444646606466468882424826446460822646668000006624260242028440044028220442600086464266226668226066620626008664648886268048024426468208664668004424602484060484428884406206024246008040026200426486086280446866284068288200262000840802466828002464080080424248640224048242202828286262826000820404662686200044646422004228888466402008640804246008200404826806420624026064000426680448040640606626228624242088640468622666048204880826866028646884664062000040860482646084224420628462862266422648242826404806684284066046846042084468404040060420066260206006060280664288044888824800286028884602646688268424260080008226480224640460004024228626842622440062684884846024080620860408886666404448440220020024202262082224808244824602280020482486860606020204284484284260826260020048064020040042600468204820486682280000440804082286864626882206886846080860624486068246868426840880288028282802862828800860224084220040888684628668666006806648042460288042482062288082424866286888226642400604468446228442860046022240022622200448844088628408220862862868400642068802044040846044666280828644264066062660084808884842444622426604446028044068862264442264288288260220040868662688206864600802068284086204288226282280860444048644220248822084020642222426644042248008682600686404620846048648068222206808440404406804282644426000602086088286822400626860860006448688048244246066284626426288880402860824804084866828024462204284868608602284068024224066888062608224862622482064044624466460248022240822822060620806886040602602404208882026268826684440424846424800246842088844680868288640804226408464640260888882284262462488420642846026628084068820444486640224206644260400804640224680446844844822466800200648868806068006888808608248860480044066646208460808684000608848608024024820240448408044260246066260020202266488000000808064848888486288844844042862686804806000808684286806480844860284688624460202240826468882664080044840086244284486840444664002620606662442608468426626682222066084244422604886668644040660688046620288200420402226844288020604406660840488066806804888602048226660064208040606006266860064220600008604400060246226886484464042248840868644626468648600262884046064446602668026242424486224064880282806846006862082602820446080866864082846280246422080408688088606628688428028226888644208004046642484488002644224620224680240468062208248824044406248826440840062064088800624624044400602448240240860668062882008208604640004026262840860222660880080268682848208460646084868408046464808044062068022206820004866222860482640640686800268466402022848026222424062802646448646666006202606668040600646802868644246882882860066008248608842682668046800280804828866406060262426402820484628222884006620040482448684826208002860028028428486822022420484440620666202600420426262226244222288286840006220626040400868888208268020226844488062486684486622862204444888004446060222608460802000884088466046406242064280268664864220062406888602644688688466084664028086264024406226288086204462646440466880600604008644846066460602866008208080402046082426284660404622266068820884886420406428024202284060000420248008200084648802282804266648044666244026604028602046066602428466080202662040460444224062406428622826680068042448660464802200282288886464440000220080202868888882844828600424466080044424280042604028862086080824404842688626602466008648460026662266868602286228448204686840204024606064228480020464284280602486228044486822020284420402884668046268266202440224226004068622688044886624624240024606608020402046008242422440064840224024244600288624604642828084608868226080864284806200006888428464008800488204240082060688864882800240060686480428426448648022642860422042484282082486222602268840242626048842828682266486680082288486862668248840686600880600622824884622068202264862224626660022808666886288688820086808822048426084422264448646280028648082648260668402266464666868280820464442000888884048226802604222040686284668020806684226666608684626684024222886004666266084604824488404248602028886884404660488086240282084068024686648248626426266426860022406066644680440424042002004800866800840682400440848064460482820282066624424868444648888880282000822426600226022640862404082460828682688804866008282864662820200648648868242082420808842602882400008826828480664002448488264800482044846046060246408068222600468222264048406648046600868260448464020848288820682464204600442048486008466466084648868468626620486006064486262826262628044466264608028804086660408426868202806668600466286602424020228006842246606648204426220886040680048608064466866442406486264224002628866260428808042448228428262466008248800866888888228244620426044428080646024260626264206280626022840208004646806682282886828004048220482284888802280046824242262224606064426488488862640460026464680084466020428624644060486262460282842866866688042602280022608008686000464044440864222644444606802860884806224864466824848022606682642004660604440480260884608244644286082242208228860668088860840488862000684828040688448404844486886826006026088224844080482268208424202660848220802682208802842824024880820864222466688620820088866684440824686802080802044608820624008242880202220822640424088422888620008260888288208888080802026406602086226280224024286202408262866688064662446824046224084844260668004266888468642284444842828464664002844820664848888402040062006400062842440826826442888048622222606608802660482488420686806426406840286844826020600222466020460682262284466664442024048622820866884288606488486288648060842088820802864480860800462486242284008062424460824480804468288840886664826466666460828084262666446628444804402208006604684022860024400468224606000608060202882440286424440644086266408442208686848022020888002602046400660248648202660204200888688244642808666646402806260286806482062620840006024006202822482420668824604040860284886888822000668440686400608220066666684268048842084202240088482628064222228282068028644688620668608688242046648028060260424620060446284220068220488660826220040000464620844022222444626000288048248826082462248628468402040068480628806660884644066608204822284440808242082882086882620808828442868004444022462020644844600888648404040066224884480480086488222044686260880428084828200804884604220222446668444800400448020228280480606686862402802424282844280266244802006888608062622464826280802020020284440846842802282402268068448688660882600240268066862026264068640024402642088608228460084604000680422862620800202288266602420206660488228622228800822020686022400884220646486646204466840624468408288486664640864848686826084424482204802466646042246266864468204480400884004082408664406206228442826426808082684408422600266640688020006448866806844822648008440488640222064260020068684042082264266088086424888462200280460862486600226680686408028408240624684442264600800666682420680680264422080482606008220080246004044800602888488644482204828246446266646644640268808868424422084880662406882840800266802046084806068022060826668462220684006660062822262686644882600462040066060848040026428882280482808860080048868280268066208462646204246846684282208444826608460420268800820828008848840864082800440242460020424688800206428420426620606822022426042202262862400648806026084480288828468662204022220642282606826240608026066626660448088206864044202808048680224048608840400004268664844422660222800004886402088042226804084680264260628622260284802802042248288424466484802088282006666448266222042466842286288446808048000086260064844062488488820262666842000484804408284208886600440440444604268008664846002868002220600800826266084884002086020808446200682828682664426440628286800242244284680288626886242802866842620228622084800208226468260622208866062208222644860202048060866466408244628480640002688642828020200444284442846082622844204466404240468082284464062646804242022206040442682606062860882020864642406662006642424026826422260626440644284020200604464408680088220688202444668462086802424064282420480860000868062264622642846802064404006486420442242400286606826624808288286280860086264624644020466804662260604626404040842024480048880044206428046664222068060404020040686266602282480208806220820860426668264404648660086686840406602800486260822262022620820846446224024606606288846882444488022826000600884444404224862086886400682460044888406428886428662288042046482602884646428684404662020240000666286800826644060822266486464680424844828022402882200824260444264264420460488244262800608086284448620246684822824606002822862424882022280606400260444842640880282486624880848024680428848422226808626628820842020000806888004424662648240046644024642026604828446008286622282084460044466202442428280888282022000884008666824284820066280204440046624668422264022448086280802880882606864088206886000828222604868484864462220828406846464822660880202206868222606084446480086804200404686688284002684682080402802660240642062600004066800028008044848200288208228286480606846620282402488606420242248488000642840820064864688606686822800424842400206020024846626840226000866080206068042404448488688286888640440646666600844604068606464086822200444680002808660220844244660640822002264248268804042222400006460088640266644480620208686660466844082646822026480444408840024840028464606424008824248084422226480866242404062244022684202280202064860028068422622642824404646662268260222682880286884202024280286000660202248068266840084464062884680268442020006264840448482800840460440462842608686444400026626024060644882806480088244042282660488642208606644288000208800246620862026226028686020464068248860084226648880620260484224284006866684622844668486884486006424004040662684288448062220606662200246440688068004682240028064220822008066646428882882240022048282646600626026266824428202228260860486882880666664604486246282660282200462844062640248686400246646688444420666622004604062664484204062642648846644028002264426624868288046608448622024684820808282006420222688222002282644862284624000466806622622064602822460440842082240088042288484640820080228868248262624062244080242688860464266660842848088408628088268684804602488880206024400886648024204824284828644086064402048826460082000882282422286004280684840840648064280440686068446200888608080682224660648282884622006400686620082822262862420260424224406000088622824840442622048860028640228088820462024604426842040420262244686240084042248688640468686282024000662422084282668846664208686442246400002288828066080064044268062880802008848402886428466242688408620046662822028804604828426280228662284440846242640684442848220084402068882224248686622660462482468622604840248026682424042624466826086206846686824826684066088842066660666088606844462868820060204640262882022208424280480884624080208828686228424042400266600224826680082082448420602206840268848860468484886204666488684022044664600286684082446828600606086488482626422020266888224888688480880882840200268266066424646828004828020066282282462004842008662680682864000428826888622864260484000682226488420660624442648864022624420660060828440606664004280242620664848682680088864046084086282242426628264046668862026282462480446640088826288428448024600862848460602660666660608684028282246606888024088684006282466088402864824086808644402408020064206204248802080288402640026464408002628404082862620466264684406808246840222080262604626022264888064622660884646040284808480404246888004884084880406848480668464626200606440648602446842422644824204248048246224048624486806262802462066004046284262464822062620624864664622044428440442882486024604640684864006004284000802808264484446806428620886288082288240608868888822808888608046462282246644644682622268048266288622644468624606880464884226822686082606862806468446680026006440806802806446846884828222624828886422008224420288884666066460088668662666840044468066466884420268862428648040446088268820008404820068422682680468262882624662808422680242628840608808488848062820648082088246286848482420686824286482868860606482006228264446462608082466866604804446664680824246688448042088062080440080226020604628808262288660026604488446000264408820886208660406646280084808426426026404200824042440680066004248442622484484226044644028268262822626466280404808842486060002806668248864446488846208484424848280460004080604606662048446288442242848862466828020420808848048044648644844400022022660266682228664042482640848048628884006864204860486442466846286866640862660248202444400268020804886000480820068828402422262644488840000084826664448282840060228088226400646662804086804484284620462208404222662008048420486020644422060206880488460408066046662846408044408444442608824004020246644404028044004264666068882266826462602606866288044208620680002682022084024044048662444466446844020262426240000046666866022028808660248448402860840026682044402240048626466660824008660284660080284664826028400068000446442262244006206648088064260464680484680206028864062264808244826684608684600628642240824862642442644268448240488860864006202680440624420808662088206824068442840806006420204840428664246840864288264440600280026842248024022868880882048466822840420066420806002684884200268642006660882026864208806824080602664024604086486202280042062424484468442668026488666666286460446622466206860246660282200200280220688280000228886626424444448228888668644862840686288600088200442202022802248468042820240482202042642208408042024428648888626644822462224468644620046208288446224848062266268664468004444808044864042844048822606826608864464806680048284046402848408020482404426882080626642266444424468428824240806464806844646222628646442268648080088604246820888886848246660068808600482026644064042462206884882668086020286886440002448844808086008860404686042604682842228202226060288426868266608460662080602668228400682228624442846040280260004680228004244402882048062860084666406468044888602460220662648228242864686082644806608840446048886602284840486046604222200682680042406602882048864420266628824400844200682446646422020064604480260262408844062020224224886200024408422284284060086866486842602288622426022660488422422624000842688626484244480640020886886082264622004088420008024466024626446880088482088260642284866086448046086268284266440880446044622600668442088608246202680066428606822044828262460828802604668284664424208420466682486404646866066004260204822068220402846880068808242862846628422086648040664408480608402460820246864802608608288428880086884806806062882688600848668408226042424022602864204482640864668682688288002448220004642824628068420022444242202682284026220646684868446200008846686604880684826228064004080444606240884864664002486884660884268262680006020208482068268442448866826462246866042460262864642446662066820060620620842084284246062802464644480228660406266862006088248400206680446466088688406282288402200600846446862220240840400800040062404086624624208806422862048480862440802820064488466000464064664440680428620844240802284882888848288602848806848666806026626208448860288048804228224668060606608242042448840660002446208820822208804440024842606608462888462448422802088602066626460462242062260220840082668806840224402884880462822882680820046282004226862844246426886068462600662260460420440622882442888442420606848064286844228644646220444404200084260466402282044682064626606622268842886206864202642880664404064260240064028626404600642602884408884644682482880086600244486628086482608224080220042862262660688442826266808622086464840402868084804088680406680660206280220062086268440208442062422642064200488028442484604802800608600028404666066420044042246460880608822040804262288064446244822648602622220800626666002888066686208024040404286402028828204802048040826464886680284460404688848600680264426202848846464268028200860886622604048888806006040806228828226046840202604060422666424468004006826826246622064604048442668240626082880442840064022404282042804408864486826868888642888208444402260684682448666608426622086260002284280604046068868220064624662082444226664404606246622280006464048064404262468040664488404060420868266284866822262262280422662448448086848842480826246200866280202028660646680408606248444404046682862404044024602086806866482442640644224660268048462406208820644600460880220208682042228242206688820626046488604404402846482480220622202606448484882464482204248242664646480822462260426020280244000024466048800822062402826248400240060008622608080404200028886268864880686804828248026864446604264884820862800280842444842008424462688624060620660022442824262882406226022820046866884828060028224668202088826848060084226064060646482660806266640600088000042008468024246806206226664440004604848024288062204488648648400628088448082686688046028042842004660662260660824200842848868440066062286282288828648486808028228028624688886484080802048288086800660244240026468026402880886002860608244248004824688048446208086466000048484602488226880222002404468802204442228602048204460444400660848246260644622424040684042648268468804482408680602660066022866844048208680022842202404646008640028882828066442204488020624640204460282242660062808202448604600660662666802204466224640286840440060820606826286242000206066662880628026044420222862000426406882688460888026064040060480442044480204646840626260082680222488626224086084808248886202664066082284602260248004202220882002862864224648608204884622824600460644208640006666862226600246446006028262084260888420824444020862040068464668824266044800848282668684206226880882482688266040620646446828404400482886406444866488424820086628686240864642464000846284026808686062002642848820026242248600088066800268446468466242822608660464844882604420208860666448408826800066442200806646842848804246842642404268024426288648226640042068240488268842260684446804086468804022228228886668640002048222426684048860262260642426284628000242220840084208444402464440686844604866644042886800404626684220208880088868282628084462668426808226424024424028624228086626222420280444828222204644280442880626644844448068888062084866400484200640240226844064804880428684204686682442868642084828642064220800482202804800660060282622862862222006440002260664060866886020868082284688406804000864224640424262622802626606604244208462828426648608840482288042082262446886288822848022226266404824844062260008660086068482860884640620482462842664668884060462248822824442828000608226808868622448280004480646060828804464884286624002268446202468404024224240464248046062886048244664040624288668082204260046642282688600284088824828264460220862666820888284804006064244804808062464022260828282888600880080244862806608244048880080204642000282400644206282682400486422226824226448208266008262240222040062428264464800680862002846602882484840266822046640422644806428606280288222422648242460822028620226082406660666486844826226664022688604004648624086408604280640880888228246286060002882848468062006802602424642664860600268022682488480000884886882260222482000406422424264884408466802624662022226468686280260020264460684040048022422260286002248488046684020082020842444426002844048064828688680802462628008604880864208006468624826246260426862266264486046028840008648862882808228646486664484844208680202260880800480642006662420868886848044042024024626862026246666028600000682680482088208884860868266642640462600806244866828662006240826284828640020826424444042288440404688462002224406088600686460226668820260088060208228888648644020428464606288240624488268260664064422628088800444004804462428822422488002086666460404202868886242008462660820044824826202608084660424460062462024002868822488864868242820488660806846802200484442244642402682046866806026400826628004264286224680060480246686406848468204480240466262488244622068428080844808008460820020806046606420422408268824608664404022226206042804204260484480260440800284064424046862080260080248266848448822868462066446004488400668840442042264602866624862044842846440246662060208242024204866260248828824466086828602026484648846028824084808864866602000826062048062424008202804286620442266666400246688086684664248440068048680602804040228840462028268282240828662600088406468200046486260800002842660046820882088080246048664862820208408488048068480442042040242064440626224042828006020822644646886060064404068864680884086220282042442240266268462248446028248686448888662640082042826840888420064262448806048042406022846448062044886028662644800684224624422042484428026202646268844268842040688246408860682040442660660246068862268226002066204086860422464242444208842422800428208268022604244264020404820484402428200688486068822600686884062840088004446068000426208608002608048866886424062828826468882600002048842840626084608800802044428640868220280804262060864808268222066488064804802064806000022662042022426200480242868624864228826262644602862828046282602862686804004866082682664082608844288424004248460888040624426080264266282008860466406880622880408804088464026060002822640026206628282448626082802048842628866204046446486682406464422662686228808482240468426082286662828606448888280248244200600628066426268268648486046668840846844060406886460480862444280864820064806488482840086066664264260262048208204620408000000802406480604408888264024222442222220462024406242202042002280880284862262000624062200222248022400024808262200880420264482008208608228424844206804228648228086660666848424846620604640004844828280062480844264882402820266248606486686868262488266808868682246080606068664288608682086642666482802042606268208228426000062282282222268822662882264068222802002240046206682826888884462482000408220606066828880266882660464662464660420262080440404006048686824824668824406200466826066046008426464086626602886240066424826860200668468682248602802042428208204444066088264282840066888008424628606268426288460464208240002888826080260446020846880882266662888684820226004606468668060060268828424026664466480002880080024804624062226600226206664200820664862846200000820224824204648600826400642682202420642468840202662842200684620666022660242042646202840026620264008682840008648408640622800664286448622600802864662262022462644048046020608608224444022044620806662466046848660286044200466602004080844802446622628468426620880242008040422484620860208200084600406288484266260806848286886640244668222844026628440460442462482008626824668006688226600260480442086680022886844688860024020860048604842206264880866068846064684800424440820022086846648466226466866426660468862886426860044866824426602002262046006062002480440602400644262228462428848608660608844222428884048004426222664620620842044864444664002406408684044222686828820688608060868662844802844200866682000688026064468088846240280268680026428826606242860448046826484488640260828824822624866240282064020802048468240466406022808200460868022082064224866264282060802268026606480266224646680062488046248868286006808248208244028068202862648846406822624066022846082648202880204044486284840480066444846842022008442248028604200608468886260480288204206068024266620848066884404640622086682662206264200240842624842644062420268680462460046862062886286440260686480024888602688204246466408608068448446066484426444024882088026866020824080042826626886686800800824224624244864666066282622264444464640000660628606284408800682686480286864844022024624408206066262846684666220828224462422246480448688082240408400220860026826420226002404600846848220622002486246804240608688208824000068202648846882888026064484444464824486266228428606002242004020664802244860664246060400882008426640468022442848044422462048446026280600608864462484204464082628048244600800660806224600260662484226464424240004682446448884420220628822088200086860464266846408408446466604402822622444220204826248806282404008844400008680006464446262484200482080600428242406622862480642646606608642682484008264820626688824020642862822828684860228408802004486828062624448260062488624462444824800464440080406060646000822622068008262202800080640846488204220280066442084862844226042062202022686886226488608608088804466668860444220666846600202886620204820286068822022826400208820886044264066886000462606246826824862082244202460644440228828224020862626480606080680424246402222424202446206222802442008880026462640648624482420426286288068826222000206860842860066484824002846824244266442884848080220224044662846482286044484644868200400802028248860042208228628888820068426422846800404840408620846042226422846026208688006028884826440882026042846860426028822828266248666224260088606640048406206628606222260044266040060000842448040040448208880824626606666226844488428286246084244686228624048082448040266426460468024868000684820040406884004428466884882246684646648660824888800286486660062840662462686068866868800620488008622244266220488002686442486806240408668660402048282882860284222848846608466628480620460228022862482224464880246400840446426084662406062486626828242806880668400266006062280422868882682848804646822288286442002420024862248060220408862466886844026802288484802868228026888802886088606848260464268644004026828086484826068646684448824666448262048444682082002262004040640828064484444408028082068844004048820646484480420284228486888602004200066628848622488844080868288266204844000646024684646408846202820688424642200484208248480826886642604642468842666800862864082462860242666646624404442042664868026408806648402084640200644844888408826484802282046264068842846662600204000082860806408862828462640066626828206444066828642626640084628088026040846080286044226062442868004282406880600486088208242862024660046222460620026260402822668808282844822460028006246862460280242464260264820286644628686468002288864866240068806804060206828628808486200468668686888404448284228422046446826664868600242068040268040804402868404666680088680082684086444662006860860426486824446484240448468086488444262668240428260620840862026280664446024840062460648400082282462466642824042626842226282064080226468424000444446426646642208608640886682684660800244880800222048408460686484844228480486486800020802004824868822482464666088020086280828600662000226480408866640446482206648682226260284084666248666206664046602288688264642226668080802440684640442282668880884888424828268206226880268260484222040644026288882886600260684260626882248864264266664464288444244042626204840662628604062048262862842466008404068282004426064408440222082448646608808482640404644622480862846084202460622624848068640822888442820648426062026820420622864064224648088408202806204860844840826062080068420000840448864420286200664644002868660466248462600402440406020402080860628680228604862060620066808202600260006602864428048842864204868244684206862646000880240220040884848440886202242426882204686862444820602406044866428404026824006662420224402608224468246268862464222488280660206062400882868208020248664404880824008824062008866604026222002666646262644262820648224800600684208842202428466020680820088622842080688804482020008484800622882660804086664420684262424660280000848688288280884280886042204264444602426868822682600064806460408888280480084006822244860266648204402628428226684024462826884628604622424860826064682424886626468222844802462282404046426420420244284484666820642600806406684602666424860240640622842644424622428844842064026000848484028080888224626066488044264222402620846804080048006480882680800628662400282446262222222848248846280486042400424260264084488606066084642806604628246086204224622462604666868820684022202688840662464842042028488086028642248462428860064260428628062082080064802626442026026626044000244648604244266280482662288060242464666804208886462846084684440028088600024062202444264248466486826462808246002620246248284606248800466488848880662664484402082282004400068466082846268606020686608464024468286082880602682646048260262682280020442668022806862664068804848264842828420204684004222888480666840280244288602828004440682206260464682046648864882462220062240484664684280408842862204046800402686228422486208800680002666684426482084444022062666004202482422640806824402680404848628062008682866846648024004024044840206284220880648402602882448600000484424800062626228666846460220044204404444846644486642840000020288448200026684240464864828022686026004064486606660002026208226888886202280684402822666042284402400608824088082404660888844620208648006846862800886866022666626284820482662640064828808046824224064084444622806068446442820208842848206082004466062282000662440440288444624886820806640806806228606406020020804084608644088044426000420288662008688228244060006828886260264286420420266008840806460662228882600446866044040484640244884628040642808406822468462046846220444260008004628024880626066440248462222206046284866084062646064688480604686082866046080624246404840808684666228428820680282806680480460622840806082048640402624426208880680680846044424862642888082220460420206280246280428446862268648868206262008202286264400826064604262640684248482420666884282446262446242284208884224842488626080408628646084466684246606664606022820640680282228644826282048406486462682846442860628442868224820848820246266064800240660828048264608040220622208246864406842626800002282006200848402442884664280880242840068462208620808662264888842466820428022642228408268800206840464662228260882806600682460446864288246462424208864642244000420004060846640082002260644462028642088648822244284240002648228882062420668226420008002484048088406668226200624608888808200886024022282086482822686482886284800000468808468628244822060606480286448886882620024208226280408406682482822600204220844622086606866828082026068404220444268444248408062206088484408604648606484062460400224646868028240888442664808608028462806404648288020644042004628224080468444024860460026604000228862044248200264008244424806804868800862808808222084086048088224288488480668208248624406466042820884264660460424660824460882486482288488080286606844248822626282428868080008866408484264806606426008828646406262608660262064886402860086020464684004608004804222620622680024864044040826644426448002428886088642286042264026884286288422066426202080268024204688028228688864664208464464462802262660046684460244862284062840444222644646804200826202642202840462026260466266062868084442020282822660242240446028068864804680462804464200080688804066646626466006224446000642446862044642062802628466040482284868880442024264808468406820266828044602466046228606648880666420486004862624002024264884046260608800262004068202226686624282068046800082266408848446808484044882822204800208600462244024208228684482028682806860264444206222666004842402240404486048480482864226422282208666680284648800648284842088248026424048024682284248240688804808060824462264000462068262684688040486488464026666462200888640840664880082468004020260066668648066260284002660066088064820846206660004666002848664202028666844068446628288022848426044666624220060644200682028264028266800248602648608846408680200622024284046880604642280066620844004022226848208082686428088600228486482280648064648244262264824804228248266644826028262208246046840266642844268040882868868204088804664280282286420000620262008824028024280202448426002260204604440406646860484442880406848284604800082482848064228640484068602684880820088640864624624840444088284602084420264864404880062802820444486820868484644802048842080642424604420022644088064424828424828860082020466002444624246202848264264200440444666068266466604086640220248060822684062024808646248448684202820224620622666082800066664828266602068266420886482688666488244488486466246848042086248428822200264044662286628262442884620060884466844808202022406680046222062004440044840266222200460440860402624662202200240642488288084000028824828046228880406220486466864468202882062866486488224604402464600826020002228288860464666808806202080424440002400460244648208604600226864400004082460844286082802840200222024220628428800682220462244822200844622604626846844004048084068684042284628484204420426668486048640242888442002268682884240466664424648260622042680660020028428060864020624280848262668088886844260226426244884620620002048226206622804222226044284642680284620088846624680860202804086064624620000026004866882202426004608242246600008248408062400046262264288288280060068646420880220860466886288660060226668628482888284444260008448884286886880822664206640822428688602042028204622260606640806842682886086488448644866002844006888808488022860646820408848242840228466284268246082226828628080622268864886682044800042464640428420802226460288400804224484604482028066808046062426262064662262484228080442240660242620444242866288264660262244066826228028044044240020680000646648286026282668446886860208666604426068286406080008264280086264620028802040864684646420868028820642086228442466822224820064824486468664466006220028444862660044842228804028020886220842288644228620264646400466402062826686804644804064460208026608620082440608888886288608028222064486444868280822824866802462224042846640260844686882806424846848640882668026480264420446444044482862086600444842064820068688806440240624200404240062800688644460206820224682400006462688648266284488462044062862268202864042048026086460820262284804260660288240484842440822860262248488686068048800642480060080406442246240420684240066046880684426288468606682206866060604006280426040482408260242848204844404260686444428040608822220220624066682282680202004844086284622644606080000426040604488602008886028244882888888800448644026488484844828640642082442864244488284806668242840262482826684468260402804642062060008882268644646660602228680642664068200826222602406004462280626466240086844224060806624826028280642248488648224622200244266684402044004820680204864868288266468022646608202264440484404066822800822842480008202022682084844442822020684624422664002406826288084426080840482066068268224802248440262824026888402848002842406044820000404824666460444828068202464622260482464208820088264808202448686808444402608826684000484822206806684266848222288006648842266220668462088660282262608020422046206608886408446088826040682648662464484208262466008026400866842622448822286080002026424468642800222242224220400866806460664648046426046288044226484460286844840424062840468022028068486240060404826468826662040226004082824008644208264828428422068826220066402288066824668844224442020206884840488044282406246600226822206686244464628202646848680646828026604088842088602086288846260808080402868284880026222628024682248046244228082422440820408860204484480804080644662440682806204886028666400488860482042280246462468444824064600422486626408826606860200444060088800064822860040282880284004882484688286004664886828822622206642444400088064620662280686848800426224406640064480282886668004028486440222282804624020006844608400608064842408468488484288868220620600068228682048006646224228684466644600880220822222660600262222442842600286466628004464200048600200226848402686044448248040068084640884446080642466420022000882820420202662422062804826040440404600864024648264464648082624288422644046402260444004868826826424666464864248668682426868820042646086646084404062464286008866022682022844628246028840204824424888802088242086004824282260202822002020848608040224080220226622888682826602824400846042462606008068640640028680828420688486800482040466826628244002220082486082444266860822808864206006244246446266844800444660684484028242684828846882624266228408482068468484822484282626482280668600800888068624220064020286802844642440428620802240688448044228646206064828048646022804646208882600086044480226888628662026224684880826008260866880046840682408000244226662486240606846666464602646264200600220686048284822044000842882800664484484404208442226266226228844646882022808228044266080828420600008824242240204022244686026646620666668024082446666264880606024428682642440044240624246646068628826860282846868206844662628486808406400686464642888428224868868440648888420686466268226848866808224886448282646822042402062448462242408280464244040048806020224626684486028820422448044482042228488280404262248080084608842624046820086844862266468406204680022664640022662462804600646246820220024442864820282202426862040040826606284484840866646468082228240462808806888408648860402268440822000082284268664084840282400866020022042826600888848886224620800006206246480644428264002882828886628028600600084242682446806880824606608026060884884686862440220428084466604008040066042248422462268602880026020686066026242646880620440468044808640800844884620800000800848046082426022228080202208628222288266848422622020662608868044884284824246486248000240802888440428864220424660086426464044646208468804400024884260622082626840084402822260200044464862428662806060846280088066426288886246628864066002804428248042408088680848244226846026640482484246600622662264446488028868840046468480666688684468646260448882886028464828222804020888866246886468820088408826664648426266088224460046864662088008646860266800402626442482084660664424868600026062000682648844044804668882246444008686804408260680022284620688400042224288068600626002208248088400406860202680000028288668206664200884280066686846486864826480022680646686646462264686486680482688064480664428826468660226880484640286686222446804062684244668286868446408642026484202800040440064024606808226002008664628684224068888828002604808808400262844860046048446064660606824020804664602428602020680026664204482202820440000440246288486080808428000004062280828204208826280862264488842044686482226828240408868042884648202866446860828282640002644844028082682022022082486882086642868244668404648088468406462622868408860608084602684022822004080824666888484268046866266084288282822224002286022228424862668064880642866224286800488682400004464644806604842082880486648006022460268406666660464002422406246060260680462622646882666208804664424066480422262608222046208642822440428408004244260446644480040260482664220666084442868066800028286860800844428242620042424040686606624868866446086628220842040084882842008460826846028066000206424046860002608606266622244864268600026808828688022046084682208448466422640600066662002064200666440608060024606266044642480020280664260248404486400202464868688608608242486046048666662668686286286260842006026046408004460866480248408648688842402626062880026208200204406444086042824244482228646406846204000202628624804444082202888200262462440286804800448468664808622282666688082426066084828406080008264004040080806820808260062884200068064284824466842466002046884004228622862880482468280422622846660664024464248820608862042028644408228426484424286620208028448422640628828800060644026200408066602682228422824008066664408602822820202020486420468240864662844286820604280488666624088420860080460244044420242826008264642066668028846640028462668622844484880262880460688208428002460820604660660842082484808808882200066606462440408402402846246424608808068886866642802602422426602006460464642086862206264480806484886888040646406848604284240642864066228044824048064462286062644624244628462080222400086240604288048082040684400222246826640646666066888444466820046060282806204400820644828680648882264644620242686000224864604440864624420626646286468848048200284824004024442002402400460620282880642046446220288004204484280448828802200868624422442088082040626460204284064400228622260040206684666820068448680440848624606480606068620026446284444068882226246268206284646806046802280484224482244264004640684040264824420224848088048686486226242064868846646644208208448620284688282002824222008068048068220242460864404204664888620208622842248844020844406488046680024286824020488666040008428408424804068648606686448886602686060842648802886240422480040422066206288666688666848802828640684086084484820004642280846204664206022880806822662246226240002464462446484880628408068626680804202604008084840402460884666426864622400086668682264006428466448220844864208228262020086288486668640028000446662866044026624048242804682400082266086060824428046428606606248420620888848600888408462284602082086808868246020680420288640446668824220268688460046020082662824480602688688462046248422448260688404660286282442424682042248246628208268844824424224248846400006884080206202242288246246206604088206488888060084282460288840602222626882842464642642222262466888200468468682084606220266600246446000888684600064264402026288460046880882440648220800660604682444228222024666246066444888264288828422020420828486422480264604646666466004860622208486248202428464688268440826224282828224286402604866266404028268446868204060088022688064288804848080406468628042224604206424044666406844240006604262822208246402806464826282260486462028200422844602262602006446868240408424620226426240806622880648408268264622844026802282842200604468864464428880868880200882084824200488824088242208826262488220082842866084200008486608222082846222044420644640684084060046220088668626204860442204484642680286228604666600822800082280422262444046640282646860062264240802420426400484400464224642826028060804284082444800284062822266262224628088486220046444222662044840228068848084640284846602046480264266260288228008464228628820020642640804248844480800284840424848020066608866646842082400402824620244602624484884442442846024008040082604482042084246084646242442282444424222284288466604868220240820688846824082044644066460466466620288002244264608022268208064444842422202248046868426886000288608824688086400604028022646886062066206204842848600604006202208246808866606420028404648420448868088068864860646804068484800042880040806844244462084240644648640684248204220682284844484806468264444806040882080040600020868408422604226028844266080026404828044080024826088046824840240602042064640648886482668044804488822448820860624002824800462200840062688224648248420288400886244088480406808026028424288068404684868284804402428866468020844006846804086664680262620048624240862684600862682026644608826404022806280604262884686286226046242802426260266664646686286800006228082848280608888224868888820628662626400220408020602288002802482484466060400662668468000004088620462026688486040408666282442864846420000020048808840402820068646844822602468422808286228088064488480660002664604460446242888040660060202448066002268082248866862626688246022208808642422484022642808828028204040008842060280666442822822848404622860462424280848466082484628888624240224264446602620602202460264000424888004622680420460028446246044264404686028022408488664648422648080862444862482428646606246646886820242286602284088088462248606024204868068424028624640024006448448664626640868082608644660002648844800264426062084604828088486202440602804046262428006266404662004486402402822266046482266442428224048606860204420688088080202486004222462862844202828648642068066022088220846682080602228480202808808004204066220440642460208028080208866200260462888840226224224068084802224488086828866224604600228466400882002260084208866204468448862848660404246206602840200260200426066046224404244682668464620488684246628404822002080866260602604084068224084486268088440644444202420068846028228084866242488242420460680844804888024284680286084822660602406040226482248646628204682448280440460220444620408246408200064080062228866626606428282400488424086868440246460824448866626288480666884286480280082622008846824868662842840888442460646224844002800640400686682840046220604444426066084800062028444062226020042264260240664440482026284820688886008800404422486842284406482466264642800804662480406600046680242826404864244028644866662204660086202400046464480646482208620022246260080464060046682084804442888826804666008664080066460022680662242664402848206288228886422484866828222846602008604686264044404884428820084060884680228662222808602266644686486280248846680840244206668268486282802406868068068246040628286468084020422084240826822006022266284866240042288228048640484260680626642626082208042484408424480264404202242664220284824846040680482482022800060266002666848044064206868240228224620482860048084480628280626266000640662404000260240204648466604624280028046022068688002264088626448448882804006680866824226464640082862460682844444288466242002226804822800022202428402806464020000606044664280420008648806846402804088660404482462640284444246468020208408400468206684868004808046240204442820488888266822806406080624642400428440828002800460846088606886226004660402686024804882204082666446286608264202084448804846208448628260462662260888008662600608668404262686482484248260088462804486224424048408848444002288448066844246828468424846842028864648844662628828822662420000864648664422404644268048226602844402620684626020060248060228646446086864486886828240044800864480228244808048262844602400284886822224884268848846020862828422624208084622286444884640088408800628066460280846804426446008400648242868468802822882642286482886802846008680064042222424268084468622642608862026042224664684048208262804688404802844840864026860644044262666848220842244206884068444266064448040606486626288800802286664242008002684886822882004648046802404004246844060484468404840002802202208628860884622842244840202068220026682406666866060822444226266440404448068882400820602088666064604024408486860488000484224602020604200686680408084286244826288860266404644484826208240066620246260466240220668668884660000048066484202008046406048422284648648646684268244280840886826660026208626868082264408284240246266486424648668226406800024288406048862886028426460626488884062228242228248820220206824648028044280062606468262886264622208204026060488446648024406888828060628468646284440002206684026042804684646282066868880624622288224020488628466624628844002240422204604088208420608880620624464624860604284460242800648642666800284602446608062024064886426020284820668240022808446682402488820020084826406826604808068804206086286048426048008062268664406244624886422688880086220648804040288404002666864808620262040666646084646802026026826064604404086422622400408442286848208200640666206606668660488042824886000084848060688048602480482666204826666682884688480640200482420008048264822480480402422864842864420228668600482086662822648628688044488406062864046426860088640246646082822086284420604640802844864484200048646246424004848248662486224446884680222660400800404860208604666402086040222686402062286024026202620402228862864288266668642242284640446208220466202084828868644848086080804484280628604444240844000684442446468646004424204266862068680626642000424082206080842442680048468460646640428484048004064422226886800268086806666628242462088046886024684682868086288284024864040420260462020220886846800422884000446064028024268484004600662468828886082428446444240624442800866642080422248646266600424062406408866084286264882480204804406842406080406464608480662428046804804882662204824448284242066822684460400466662288042008862426246424646844686808202220066268428668488686882848262828606868486644420646608802208622222024808622444406842422084684244048668222668486642208400468206048266008446808222224448048862822268880840082228688220426886868866844848066648242208064282244206402468604206280688808822224640822622286048406880822002622608280004466400022482424646048440464064848006026420604060480048402020068604868226844622606226004268664624208044428666246602264242020800608202028228202802244604266626002882620644644440402286240466246066408208006668064428442800066402066868608442846660862804808048642080404844826646442820648406480644640648800400042620608460682220468086860842602082488284468024842040488088440208244004242026068248026660260622482644082820826204488440826628084268884800060682648028246602620404220008888866608644444648042828422420842282264460644464844468062844826242468046604264688008406682408684668246408668606660624268862480020464204840462820226662204842662422866428064840842282608462468280626208284206464460024606828204408068604800424806406608882464864246468442280008480468646420242002246042840244062602028628028868600624426608428262064244680086824626620002668020662022408082644820400644080240086866046264444200600642660880288640668446880202640088264842242262066802226400628042268420422402462826886800880628020008028606266688868288000248226868682622442066822222862680468420062828860644064044066468604088008806220228268440264482882282266646008804086202644800880806804288880202222862442686642006668484048046828428284226460000642040026284448488604060206664286042662822888028824648262828808602206460286688284084268466688266022648626464842684268488066048660862686600262820240442284406440000088846860804288600264602626228020804422824408466868042220682622688000040004060888466480228402084680426260020420448280220268446086860462822482024662024868048222604200822288040428848606826246266884828602284402484820802464208040446848248824442442288006464428200604462028280244086284282000408804282266468066268686886600644220886462866666862060682082468446806820842468600884004466468084024040400204802688006266226846868464862224622622680060860842260462808480222886020428022822080460442884422044024466040864444464628088888680042468848880620060826848008468268284264444484600424646244426828424808868442664286442204668800226086406428400448424202602488668820662668688466420080842086824622682622264602622644048042444068666666608280608082220602026664642448026660444042606266204824264004884444806028206642602024648066624802200228288888022422060246600602648284606288268486626288228606804648048048088860488028626280066680268842242864608400040266244420600424060428882000246282022464262208828286282028802248826486446224068828666664084862644824822046866282224468864606244800206060640844622864020462242484024044806268280888486268444282662246844262824828688620044888484446604840026886648864842404224284606468024624860008084682802026066284426400626608408426042686220422002042888628624646486006808864624648060426828448224080600002466228622402622048608668846806200006846648082444262666064428220866862008640408866680628820426042642244242020800848066060802480828428840444000020802060642888060608240882684428262802086060600668800628226880060862842808642006600222462280266084848666866802460862268824440660048460646822462264488246660040462244286600620480224866662082228286642222442066684262428688460622660686446488606286440226868226626864422208002240602004248642084028402806082088828860662464064044448000242266662260420862402422082644602622484468402268408604626880444686886260224240840040448284400426200882404862202668860262204624264688002242282448846662464420444280408060080280642604224088004204644640240606282806082880220280646482648466402020806806220668084408046820426442000004648062208468082240686806000866686226644684040066682420886208862802408424486804244442084224062828006868080804240662824246220006448624822624286084840026062824800266600084840484042642228422480042464246420024864640020202246086088666204880484208040428642008620462804826208288660400024686642642666408880262462488644442806026204428424402460402008826446626226206668202488028664640200860242622224804228486480604460042008468424824208628826480000208426888222480680468406268822468426460884408840062440262242460660880688642002866284806442606008604004006242204804042266448882604868084402404882440404840242648200626042220062448408222824200846840468080626042462282608202660088486224460828422884840666288686222420420266626804842082604084480828224888846008000628022420264000428684008086640284844440264686826486222062426420022060466464084826242668022844824860286862284822088228440864224442060882802428488844624046022626282246448420422680408040042828626000028642062222806262082064448068226000088082626862446020200202824662240466828460046844804242804284846440466440840084862468646006888660466080024848242008686666220604684826288060284648860884246260846242400046668882042420020440026048266282400068062006200608428606606040664448420680460406800228846642442404862482028606442220808286204680488280200248200862606046888844628482028820026886248422240462606844446406004280006846844240486008420440082606024264482404824468808826082848068442428248600088846680802006484628206862486062426480264648686444620826400442408406808204606206006024864446628888402000088604626008224084488624084086620862844046680486482604006200206868442688260028828400484488840080248608640204206440440408844642020466400020062282866602202660828486260484248266226842400680466842006862400446224404028666268840644006446688284048460646648660080860202264868240828286668606244624462202624460004446482860408284666208246062606080088862648882022660864260864600480824480426842042686282444046222462488826802022028668868466400424840206800664280822046680882428262602808084468244860068408222862020086444028044842246804282084262628600044282064268866282040266422866288644028086484868848488288860884288040088486044048602666844626480846060282802628848028040846468820202864046220448042444282004842046660040642040444886086224882460268226480686826246624262266446226828082462860828862444842284066064082422802848268864628648866864408488446668242260462008442688046400286864688000080442204006204440664226864488682622088648620286608002042288420862060842460884026820882248626440284206608648264840644448086408664620220868068608288888668408604884426088660608462862020266006606444288264662064068004284646060046002020000808248222082842064646060226662286800484620644026066460024006064628248040608628822062248682880822062068244240668204606444620282026848260640686842062044844068620400628800028208222040666002424666020442280428862440486620028022844826662226622288022244640862664044666446406602480660444484662600862284648004884442080880628486024068204802082204204620420800084008860828804884860288866080642280668080264604280608024246288644460480404284486486820846460424260222804602888648804204026086802240862828208222244460860600644046008266884668626666242824606602408282880640880666066022406042246222442486244064086664826804266048226466844246486208602228604046842268840448626604884668268824826048282402240848000486826400000642800264244086006062086800828404628066624484466802468064228844402802640024862284468828408228820480008226424086286668426448028464666286408284264600600048888608280864264682644060866084404600446044464686606488206000026640620464468808864604662604628484644406062024664846480086246466244426482224806640406464266422482600068064042480628008428000084684240620248204486422864028648044000406404408402622002808046464426424440048468068002008844622006622628828840420006844608620248044424064248266260088660602862204642864608806880862822028442088028420042824086286086884268626042244888862224462008082060668422604000246224822248864442688002462864844648008466208646682008802426882448402086086662828226064842288048648228000620448808804646666088862062248024202480642686226628048000028826882620804084664848668248668608680866800082462004222288064608426408466262006288688642824000884024824220888486222208844460208086446882848464406880646408448684480226604664402484628688804286604866608640482286860448828008642282868868204060082202000064822422042602224484244648068600684284248824480000284822820868066242224004028404260062448286488084226426422440200004446222402400620604284460004662688622402446262422606406640626804864288406646460606800262642826006260660284244408262420800408622284002286660084402000882880022882044806402864428264886488604064440840846226448268220242066648886442840482068880644208644062244020422262042488024028284464062246686064208628260026086064662406622240440866806468248208484048048064044248204446248626622026008822408468462620802280604224844888442862444404864020280202224242446200020622280424062844404488266046624620462026462462284486484088080866666242026066024424060088282804044622860808206282268888406468682628462482260202026264464208488446648082464642828424280284668862648006020448482484042840644200804424204468846284468284600602420202662040004662000642868680086608846662040024868824246006200284440646042688642846826644084608446442888448462266020682804008886802088406200020466866020226844428460248644022660646802628486004666008844228208668284046642464028800420240826442040846284202420420224024008280246028202468006240002204444480664626042482646602244264048488606400802248804200428646886860262400462082068642226822488640866866460868886282864006826008284404604428600282862240400880240660420662066686466664022206624484204686646644620048266620466824084204862486262860866228066044004884028422628468060846200044264080260026266088806622440824868800486460062404660604042424062082666020460044688222420820060262804066642880288608608080624648002280880264400048220468662060648844204440628826068024626260488420644444042488622248664808646240044844628400008446202846404808280684664008422846022486424866824800208406640882646464640468206802080806282802440868208844222264600280460884848840420446060422428882862000608068880884008262640624606022608604464886464266280606602206682446024604806488828264820622804800088084060020220202484246482426802004020080662008444428424626044648044642668800440844226648004486802804828606680688442448288622088040440862204224248604640002468642288200020040022642824860824004448086082088866062262886622884046800668286228046604400224446280202820628004262820840602886640480408486024202060282402868282668888044028408024026686806680880688868882444028440608204028202848826480886828822688026682868680844642888448820464420228280868246244688828284286288866446668804486884282644026682040084046402004202468048604824228666080408466060268442280662668204208204462822608800420826600862442882864082806608846202442262464622888284020080466228282266820408062228460244246642464684664644268244004062088266280446204422262004682482882024424808026404800882426488202066280840440266644844200422022864022828042806266606666600684888648880220228800280262486484844064820448666808684000482248028866242680824402080662842882880866624248468604640204482064688640008268220626808488022606240666682688648400840828802686284868260204086482428204262282644684480204648028640488028226064840264464402806062004826268842004844024608224068468448428640028882486824000208604626628080440464042682488080028422806022022466828624048642884004880004424662648444220608462082806868800826822806042484868222022042862648024488462240822448444266026026044440800088840220264042620660402604628288002246862260466480628068884220002828686040284044806246884484064464288884246224028268660024264288242624880844606084066026808820204686262020062044482422488020266826226002804460824280420866884844602628604284004040600866202400402600684260228688840488886622486420066444446646842488004402020262824280084408066668282848860064028084000286668268028808620864222480028622846246024844000048028000228068264064402682880642268602202866800280888624606468648022800484860084282846604064288026842888044808060280688486864460680040482088228622880400080826848606682084220644482822242822868266024888682662868000040202262284226602640282060446626002868682428806042284402042860886464420664028460440226446062884800628088882804284440440224422246286682280028086628026688682866480648444426260880402248402846604240804464066228866888606268644240002488682264086244240266488662488682440446666662208046404422260682264208862006028886204686880602424464820826282840866484262604064244484462064688662464268086444644024644286882824460680404640448426880282404688204204260226866684846444422240442400226428280240862846646802240604862448224020064802866242668826488464684884428288848886840440864884082262824020048044288666046008404682208422424248002280028684204422264688200282200686266602624004480228288626266222840866680644086680222468402484062464082080800684480024880620868882446426248424024862242844204286408828282244882022240662204206288244626226040000846460484200000864804884422660228028460460422486086084682080644802622644866846884864620682004480886644248484082686648442264228260460820688066844244224604044668060266262626484404468408882868882488608260882608404048608808622606820264646840884822246046286882084444860484488048286886844240462042000666840868820202286064448286464200064408488066666840866020444686262206246068062668800626066442408880648488468680688242444626402488442606220284824882062800448884064222282022840800626046840860242288006242444604864280424084048022402464060642468846600682466284846000440620628824062684044020048466280606086682628864404662820046662282420444444264064008646486440466202222008486642662200082446066880440808280664880868664684026686682004228246240884846240288286200288680062284202060264242280820664284284248642624024288608026462402662442846446826242664468084862244668268028620086448460684288248442202004022880844486062080460400468664280844606864020222022264888628880820448486204664444024242206200206462062046660448808022404042402604686666602464426802220604462240684000446422428860684602622244602208402462808080628206640608260064042860480082260486020266640202420288842682686484824488448200820420404480820066600062260848826686082424468262846642280082686802440204800204028466280600208024062260400208600808648006402824426480882624206824826044860400408486404480420448446888808466648068484460048008404646248282068026484620428280684680440862426886468604002006626888622206648268006008622404406240406022446686282868220846262682460208646666826460024220022480462266064028246826444224468684002402840008028220662622600824420202406244686402486220282282868260662000248484200684426866404880242246444406084248440460884682026466264024264048442440242460648646600826686826602006808004626204226424606202804660428260460000062608882660804424488868460840204284262628002406084220224060422808064468008600664226020662862262480086008444068802284208022888244066088624060268426448222846648064664428628802440684862842828604024626288086624624046826264608244220080840424066068246804868862246640220066682022286266408020486680686200064624086664020466844004226868686864888442686240040262806002060242642626486408442266402602860248846002086642262888884648040600868464002220622642866644262886280888626642260400200624480626866888462620604620600284462266024688284082880808424242264284264242880086264682006600600686840224068008442660022444228262246262080620242828468448284882282428804622226002822000288646222224802068220862886208608446886202402662284442680644068628886422442480066622484082264666866806000688486068448080248264800248064680262040802000262806608064662642608408822846260888806684088808800628880804488468226244800080400426600468220464828620862688822802464684866482844428820804880860402222026646866400200080040846682622486400620060486222220662084846040260462086064206246222222662282284028080264826602662088040642648828604684282848804844624002604422842282668822024842266046866480066484468868284248048460622240880680040204008802060224066800288248882626648206680662242208444824460000466802686684228622444822446220286082060686042066400008806048280048488804024206224044066468220840200624044224468040284264228002664882868868000800888626224022082042064046428820420042224286842266426268022800482860404620206686406806886662422886068480082040444222224644642446462828046822262002428228442828884802804264002024622822420060806666688482044204864048286828068082448820668844062080800482044288688882242860280066644482600824662222208260206840686824040680862060466228464828082604224422264866840\"]"
   ]
  },
  {
   "cell_type": "code",
   "execution_count": 68,
   "id": "5974d60b",
   "metadata": {},
   "outputs": [
    {
     "name": "stdout",
     "output_type": "stream",
     "text": [
      "8 10133890\n",
      "7 1013389\n",
      "ans:1013389\n",
      "-------------------------\n",
      "2 52\n",
      "1 5\n",
      "ans:5\n",
      "-------------------------\n",
      "2 24\n",
      "1 2\n",
      "ans:\n",
      "-------------------------\n",
      "ans:\n",
      "-------------------------\n"
     ]
    }
   ],
   "source": [
    "for num in nums:\n",
    "    ans=''\n",
    "    for idx in range(len(num),0,-1):\n",
    "        print(idx, num[:idx])\n",
    "        subNum = int(num[:idx])\n",
    "        if subNum%2!=0:\n",
    "            ans=str(subNum)\n",
    "            break\n",
    "    print(f'ans:{ans}')\n",
    "    print('-'*25)"
   ]
  },
  {
   "cell_type": "code",
   "execution_count": 81,
   "id": "eafdba11",
   "metadata": {},
   "outputs": [],
   "source": [
    "class Solution(object):\n",
    "    def romanToInt(self, s):\n",
    "        \"\"\"\n",
    "        :type s: str\n",
    "        :rtype: int\n",
    "        \"\"\"\n",
    "\n",
    "        special_cases = {\n",
    "            'I': 1,\n",
    "            'V': 5,\n",
    "            'X': 10,\n",
    "            'L': 50,\n",
    "            'C': 100,\n",
    "            'D': 500,\n",
    "            'M': 1000,\n",
    "            'IV':4,'IX':9,'XL':40,'XC':90,'CD':400,'CM':900}\n",
    "\n",
    "        sum1=0\n",
    "        if s in special_cases.keys():\n",
    "            return special_cases[s]\n",
    "        else:\n",
    "            for idx, char in enumerate(s):\n",
    "                if idx!=len(s)-1 and char+s[idx+1] in special_cases.keys():\n",
    "                    sum1+= special_cases[char+s[idx+1]]\n",
    "                    print(f'sum1:{sum1}--{char+s[idx+1]}')\n",
    "                    continue\n",
    "                else:\n",
    "                    sum1+=special_cases[char]\n",
    "                    print(f'sum1:{sum1}--{char}')\n",
    "        \n",
    "        return sum1"
   ]
  },
  {
   "cell_type": "code",
   "execution_count": 82,
   "id": "2c99c407",
   "metadata": {},
   "outputs": [
    {
     "name": "stdout",
     "output_type": "stream",
     "text": [
      "sum1:1000--M\n",
      "sum1:1900--CM\n",
      "sum1:2900--M\n",
      "sum1:2990--XC\n",
      "sum1:3090--C\n",
      "sum1:3094--IV\n",
      "sum1:3099--V\n"
     ]
    },
    {
     "data": {
      "text/plain": [
       "3099"
      ]
     },
     "execution_count": 82,
     "metadata": {},
     "output_type": "execute_result"
    }
   ],
   "source": [
    "s =\"MCMXCIV\"\n",
    "\n",
    "obj = Solution()\n",
    "obj.romanToInt(s)"
   ]
  },
  {
   "cell_type": "code",
   "execution_count": 77,
   "id": "484cae09",
   "metadata": {},
   "outputs": [
    {
     "name": "stdout",
     "output_type": "stream",
     "text": [
      "1\n",
      "3\n",
      "4\n"
     ]
    }
   ],
   "source": [
    "s=[1,2,3,4]\n",
    "\n",
    "for idx, c1 in enumerate(s):\n",
    "    if c1==2:\n",
    "        continue\n",
    "    print(c1)"
   ]
  },
  {
   "cell_type": "code",
   "execution_count": 115,
   "id": "f248ec85",
   "metadata": {},
   "outputs": [
    {
     "data": {
      "text/plain": [
       "[4, 5, 6]"
      ]
     },
     "execution_count": 115,
     "metadata": {},
     "output_type": "execute_result"
    }
   ],
   "source": [
    "root = [2,3,4,5,6]\n",
    "root[2:]"
   ]
  },
  {
   "cell_type": "code",
   "execution_count": 133,
   "id": "c4cb967d",
   "metadata": {},
   "outputs": [
    {
     "data": {
      "text/plain": [
       "2"
      ]
     },
     "execution_count": 133,
     "metadata": {},
     "output_type": "execute_result"
    }
   ],
   "source": [
    "def myLog(x, b):\n",
    "    if x < b:\n",
    "        return 0  \n",
    "    return 1 + myLog(x/b, b)\n",
    "\n",
    "myLog(4,2)"
   ]
  },
  {
   "cell_type": "code",
   "execution_count": 134,
   "id": "e3f07f70",
   "metadata": {},
   "outputs": [
    {
     "name": "stdout",
     "output_type": "stream",
     "text": [
      "levels:4\n",
      "i:0--1\n",
      "[1]\n",
      "i:1--2\n",
      "[2, 3]\n",
      "i:2--4\n",
      "[4, 5, 6, 7]\n",
      "i:3--8\n",
      "[8, 9, 10, 11, 12, 13]\n",
      "i:4--16\n",
      "[]\n"
     ]
    }
   ],
   "source": [
    "root = [1,2,3,4,5,6,7,8,9,10,11,12,13]\n",
    "# root1 = root\n",
    "levels = myLog(len(root),2)+1\n",
    "print(f'levels:{levels}')\n",
    "for i in range(levels+1):\n",
    "    print(f'i:{i}--{2**i}')\n",
    "    levels = root[:2**i]\n",
    "    root = root[2**i:]\n",
    "    print(levels)    "
   ]
  },
  {
   "cell_type": "code",
   "execution_count": 140,
   "id": "50639132",
   "metadata": {},
   "outputs": [
    {
     "data": {
      "text/plain": [
       "4"
      ]
     },
     "execution_count": 140,
     "metadata": {},
     "output_type": "execute_result"
    }
   ],
   "source": [
    "chars=[1,2,3,4]\n",
    "chars.pop()"
   ]
  },
  {
   "cell_type": "code",
   "execution_count": 152,
   "id": "fde739ac",
   "metadata": {},
   "outputs": [
    {
     "data": {
      "text/plain": [
       "'ramar'"
      ]
     },
     "execution_count": 152,
     "metadata": {},
     "output_type": "execute_result"
    }
   ],
   "source": [
    "s='Ramar'\n",
    "s = s.lower()\n",
    "s = ''.join(ch for ch in s if ch.isalnum())\n",
    "# s[::-1]\n",
    "s[::-1]"
   ]
  },
  {
   "cell_type": "code",
   "execution_count": 173,
   "id": "0c8e2c6e",
   "metadata": {},
   "outputs": [
    {
     "data": {
      "text/plain": [
       "'['"
      ]
     },
     "execution_count": 173,
     "metadata": {},
     "output_type": "execute_result"
    }
   ],
   "source": [
    "chr(91)"
   ]
  },
  {
   "cell_type": "code",
   "execution_count": null,
   "id": "e5dfc55e",
   "metadata": {},
   "outputs": [],
   "source": []
  },
  {
   "cell_type": "code",
   "execution_count": 182,
   "id": "932e3f71",
   "metadata": {},
   "outputs": [
    {
     "name": "stdout",
     "output_type": "stream",
     "text": [
      "0 Y 0\n",
      "1 Z 676\n"
     ]
    },
    {
     "data": {
      "text/plain": [
       "676"
      ]
     },
     "execution_count": 182,
     "metadata": {},
     "output_type": "execute_result"
    }
   ],
   "source": [
    "letter_values = {chr(65 + i): i + 1 for i in range(26)}\n",
    "# letter_values\n",
    "\n",
    "columnTitle='ZY'\n",
    "num=0\n",
    "for idx, char in enumerate(columnTitle[::-1]):\n",
    "    num = num + (26*idx)*letter_values[char]  \n",
    "    print(idx, char, num)\n",
    "num    "
   ]
  },
  {
   "cell_type": "code",
   "execution_count": 177,
   "id": "9f45298a",
   "metadata": {},
   "outputs": [
    {
     "data": {
      "text/plain": [
       "25"
      ]
     },
     "execution_count": 177,
     "metadata": {},
     "output_type": "execute_result"
    }
   ],
   "source": [
    "25%26"
   ]
  },
  {
   "cell_type": "code",
   "execution_count": 176,
   "id": "fa883ea9",
   "metadata": {},
   "outputs": [
    {
     "data": {
      "text/plain": [
       "(1, 2)"
      ]
     },
     "execution_count": 176,
     "metadata": {},
     "output_type": "execute_result"
    }
   ],
   "source": [
    "28//26, 28%26"
   ]
  },
  {
   "cell_type": "code",
   "execution_count": 174,
   "id": "a4371eb0",
   "metadata": {},
   "outputs": [
    {
     "data": {
      "text/plain": [
       "28"
      ]
     },
     "execution_count": 174,
     "metadata": {},
     "output_type": "execute_result"
    }
   ],
   "source": [
    "26*1 + 2 #AB"
   ]
  },
  {
   "cell_type": "code",
   "execution_count": 164,
   "id": "8037bce4",
   "metadata": {},
   "outputs": [
    {
     "data": {
      "text/plain": [
       "701"
      ]
     },
     "execution_count": 164,
     "metadata": {},
     "output_type": "execute_result"
    }
   ],
   "source": [
    "26*26 + 25 #zy"
   ]
  },
  {
   "cell_type": "code",
   "execution_count": 163,
   "id": "736e73da",
   "metadata": {},
   "outputs": [
    {
     "data": {
      "text/plain": [
       "(26, 25)"
      ]
     },
     "execution_count": 163,
     "metadata": {},
     "output_type": "execute_result"
    }
   ],
   "source": [
    "701//26,701%26"
   ]
  },
  {
   "cell_type": "code",
   "execution_count": 189,
   "id": "5917df85",
   "metadata": {},
   "outputs": [
    {
     "name": "stdout",
     "output_type": "stream",
     "text": [
      "R:[]\n",
      "R:[]\n",
      "t:['d', 'v', 'd']------res:[]\n",
      "R:['d', 'v']\n",
      "R:['d', 'v']\n",
      "temp_res\"['d', 'f']\n",
      "res:['d', 'v']\n"
     ]
    }
   ],
   "source": [
    "s='dvdf'#'abcabcbb'\n",
    "temp_res = []\n",
    "res=[]\n",
    "for char in s:\n",
    "    temp_res.append(char)\n",
    "    if len(temp_res) != len(set(temp_res)):\n",
    "        print(f't:{temp_res}------res:{res}')\n",
    "        if len(set(temp_res))-1>len(res):\n",
    "            res = temp_res[:-1]\n",
    "            temp_res = [char]\n",
    "    print(f'R:{res}')\n",
    "print(f'temp_res\"{temp_res}')\n",
    "print(f'res:{res}')\n",
    "# if len(temp_res)>len(res):\n",
    "#     return len(temp_res)\n",
    "# else:\n",
    "#     return len(res)"
   ]
  },
  {
   "cell_type": "code",
   "execution_count": 20,
   "id": "8af43d5b",
   "metadata": {},
   "outputs": [
    {
     "name": "stdout",
     "output_type": "stream",
     "text": [
      "cs:['p']--max:1\n",
      "['p']\n",
      "cs:['p', 'w']--max:2\n",
      "['p', 'w']\n",
      "in: ['w']\n",
      "['w']\n",
      "cs:['w', 'k']--max:3\n",
      "['w', 'k']\n",
      "cs:['w', 'k', 'e']--max:4\n",
      "['w', 'k', 'e']\n",
      "in: ['k', 'e', 'w']\n",
      "['k', 'e', 'w']\n",
      "maxLength:4\n"
     ]
    }
   ],
   "source": [
    "# s='abcabcbb'\n",
    "# s='dvdf'\n",
    "# s='bbbbb'\n",
    "s='pwwkew'\n",
    "\n",
    "charSet = []\n",
    "maxLength=0\n",
    "left=0\n",
    "for right in range(len(s)):\n",
    "    if s[right] not in charSet:\n",
    "        charSet.append(s[right])\n",
    "        maxLength+=1\n",
    "        print(f'cs:{charSet}--max:{maxLength}')\n",
    "    else:\n",
    "        while True:\n",
    "            if charSet[0]==s[right]:\n",
    "                charSet = charSet[1:]\n",
    "                charSet.append(s[right])\n",
    "                print('in:',charSet)\n",
    "                left+=1\n",
    "                break\n",
    "            else:\n",
    "                charSet = charSet[1:]\n",
    "    print(charSet)\n",
    "    \n",
    "print(f'maxLength:{maxLength}')"
   ]
  },
  {
   "cell_type": "code",
   "execution_count": 24,
   "id": "5c488a59",
   "metadata": {},
   "outputs": [
    {
     "data": {
      "text/plain": [
       "[[0, 0], [0, 0], [0, 0]]"
      ]
     },
     "execution_count": 24,
     "metadata": {},
     "output_type": "execute_result"
    }
   ],
   "source": [
    "# matrix = [[1,2,3],[4,5,6],[7,8,9]]\n",
    "matrix = [[1,2,3],[4,5,6]]\n",
    "# matrix[0][2]\n",
    "row = len(matrix)\n",
    "col = len(matrix[0])\n",
    "result = [[0] * row for _ in range(col)]\n",
    "result"
   ]
  },
  {
   "cell_type": "code",
   "execution_count": 3,
   "id": "3a7ca1e5",
   "metadata": {},
   "outputs": [
    {
     "data": {
      "text/plain": [
       "0"
      ]
     },
     "execution_count": 3,
     "metadata": {},
     "output_type": "execute_result"
    }
   ],
   "source": [
    "# s[0:1]\n",
    "len(s[left+1:])"
   ]
  },
  {
   "cell_type": "code",
   "execution_count": 23,
   "id": "6f184ef5",
   "metadata": {
    "scrolled": true
   },
   "outputs": [
    {
     "name": "stdout",
     "output_type": "stream",
     "text": [
      "left:0--right:0\n",
      "left2right:b\n",
      "right2left:b\n",
      "----------\n",
      "left:0--right:1\n",
      "left2right:ba\n",
      "right2left:ab\n",
      "----------\n",
      "left:0--right:2\n",
      "left2right:bab\n",
      "right2left:bab\n",
      "----------\n",
      "left:0--right:3\n",
      "left2right:baba\n",
      "right2left:abab\n",
      "----------\n",
      "left:0--right:4\n",
      "left2right:babad\n",
      "right2left:dabab\n",
      "----------\n",
      "left:1--right:1\n",
      "left2right:a\n",
      "right2left:a\n",
      "----------\n",
      "left:1--right:2\n",
      "left2right:ab\n",
      "right2left:ba\n",
      "----------\n",
      "left:1--right:3\n",
      "left2right:aba\n",
      "right2left:aba\n",
      "----------\n",
      "left:1--right:4\n",
      "left2right:abad\n",
      "right2left:daba\n",
      "----------\n",
      "left:2--right:2\n",
      "left2right:b\n",
      "right2left:b\n",
      "----------\n",
      "left:2--right:3\n",
      "left2right:ba\n",
      "right2left:ab\n",
      "----------\n",
      "left:2--right:4\n",
      "left2right:bad\n",
      "right2left:dab\n",
      "----------\n",
      "left:3--right:3\n",
      "left2right:a\n",
      "right2left:a\n",
      "----------\n",
      "left:3--right:4\n",
      "left2right:ad\n",
      "right2left:da\n",
      "----------\n",
      "left:4--right:4\n",
      "left2right:d\n",
      "right2left:d\n",
      "----------\n"
     ]
    }
   ],
   "source": [
    "s=\"babad\"\n",
    "# s='a'\n",
    "res = ''\n",
    "\n",
    "for left in range(len(s)):\n",
    "    for right in range(left,len(s)):\n",
    "        print(f'left:{left}--right:{right}')\n",
    "        left2right = s[left:right+1]\n",
    "        right2left = left2right[::-1]#s[right:left:-1]\n",
    "        print(f'left2right:{left2right}')\n",
    "        print(f'right2left:{right2left}')  \n",
    "        if left2right == right2left  and len(left2right)>len(res):\n",
    "            # maxLength = max(maxLength, right-left+1)\n",
    "            res = left2right\n",
    "        print('-'*10)"
   ]
  },
  {
   "cell_type": "code",
   "execution_count": 24,
   "id": "35bbd4e3",
   "metadata": {},
   "outputs": [
    {
     "data": {
      "text/plain": [
       "'bab'"
      ]
     },
     "execution_count": 24,
     "metadata": {},
     "output_type": "execute_result"
    }
   ],
   "source": [
    "res"
   ]
  },
  {
   "cell_type": "code",
   "execution_count": 28,
   "id": "52ea077b",
   "metadata": {},
   "outputs": [
    {
     "data": {
      "text/plain": [
       "[1, 2, 3]"
      ]
     },
     "execution_count": 28,
     "metadata": {},
     "output_type": "execute_result"
    }
   ],
   "source": [
    "nums=[3,2,1]\n",
    "size = len(nums)\n",
    "for idx in range(size-1):\n",
    "    for idx2 in range(size-1-idx):\n",
    "        if nums[idx2] > nums[idx2+1]:\n",
    "            temp = nums[idx2]\n",
    "            nums[idx2] = nums[idx2+1]\n",
    "            nums[idx2+1] = temp\n",
    "        \n",
    "nums"
   ]
  },
  {
   "cell_type": "code",
   "execution_count": 35,
   "id": "85df78a0",
   "metadata": {},
   "outputs": [
    {
     "name": "stdout",
     "output_type": "stream",
     "text": [
      "[1, 2, 3] 3\n"
     ]
    },
    {
     "data": {
      "text/plain": [
       "2"
      ]
     },
     "execution_count": 35,
     "metadata": {},
     "output_type": "execute_result"
    }
   ],
   "source": [
    "def maxProduct(nums):\n",
    "        size=len(nums)\n",
    "        for idx in range(size-1):\n",
    "            for idx2 in range(size-1-idx):\n",
    "                if nums[idx2] > nums[idx2+1]:\n",
    "                    temp = nums[idx2]\n",
    "                    nums[idx2] = nums[idx2+1]\n",
    "                    nums[idx2+1] = temp\n",
    "        print(nums, size)\n",
    "        return (nums[size-1]-1) * (nums[size-2]-1 )\n",
    "    \n",
    "maxProduct(nums)"
   ]
  },
  {
   "cell_type": "code",
   "execution_count": 59,
   "id": "933170e4",
   "metadata": {},
   "outputs": [
    {
     "data": {
      "text/plain": [
       "1"
      ]
     },
     "execution_count": 59,
     "metadata": {},
     "output_type": "execute_result"
    }
   ],
   "source": [
    "mat = [[1,0,0],[0,0,1],[1,0,0]]\n",
    "res=0\n",
    "def get_column_sum(col_idx):\n",
    "    return sum([row[col_idx] for row in mat])\n",
    "\n",
    "for row in mat:\n",
    "    if sum(row)==1:\n",
    "        col_idx = row.index(1)\n",
    "        res += get_column_sum(col_idx) == 1\n",
    "        \n",
    "res\n",
    "    "
   ]
  },
  {
   "cell_type": "code",
   "execution_count": 5,
   "id": "9242d63b",
   "metadata": {},
   "outputs": [
    {
     "data": {
      "text/plain": [
       "2"
      ]
     },
     "execution_count": 5,
     "metadata": {},
     "output_type": "execute_result"
    }
   ],
   "source": [
    "s1='aacc'\n",
    "t1='ccac'\n",
    "\n",
    "# s1 = s1.replace('a','')\n",
    "s1.count('a')"
   ]
  }
 ],
 "metadata": {
  "kernelspec": {
   "display_name": "Python 3 (ipykernel)",
   "language": "python",
   "name": "python3"
  },
  "language_info": {
   "codemirror_mode": {
    "name": "ipython",
    "version": 3
   },
   "file_extension": ".py",
   "mimetype": "text/x-python",
   "name": "python",
   "nbconvert_exporter": "python",
   "pygments_lexer": "ipython3",
   "version": "3.9.18"
  }
 },
 "nbformat": 4,
 "nbformat_minor": 5
}
